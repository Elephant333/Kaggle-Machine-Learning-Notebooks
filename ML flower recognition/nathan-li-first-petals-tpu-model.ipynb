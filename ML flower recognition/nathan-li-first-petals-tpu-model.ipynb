{
 "cells": [
  {
   "cell_type": "markdown",
   "id": "tight-shift",
   "metadata": {
    "papermill": {
     "duration": 0.011926,
     "end_time": "2021-03-30T15:56:10.369934",
     "exception": false,
     "start_time": "2021-03-30T15:56:10.358008",
     "status": "completed"
    },
    "tags": []
   },
   "source": [
    "# First Petals TPU Model"
   ]
  },
  {
   "cell_type": "code",
   "execution_count": 1,
   "id": "every-spotlight",
   "metadata": {
    "_cell_guid": "b1076dfc-b9ad-4769-8c92-a6c4dae69d19",
    "_uuid": "8f2839f25d086af736a60e9eeb907d3b93b6e0e5",
    "execution": {
     "iopub.execute_input": "2021-03-30T15:56:10.398257Z",
     "iopub.status.busy": "2021-03-30T15:56:10.397581Z",
     "iopub.status.idle": "2021-03-30T15:56:16.550553Z",
     "shell.execute_reply": "2021-03-30T15:56:16.551276Z"
    },
    "papermill": {
     "duration": 6.170543,
     "end_time": "2021-03-30T15:56:16.551658",
     "exception": false,
     "start_time": "2021-03-30T15:56:10.381115",
     "status": "completed"
    },
    "tags": []
   },
   "outputs": [
    {
     "name": "stdout",
     "output_type": "stream",
     "text": [
      "Tensorflow version 2.4.1\n"
     ]
    }
   ],
   "source": [
    "import pandas as pd\n",
    "import math, re, os\n",
    "import tensorflow as tf\n",
    "from tensorflow import keras\n",
    "from kaggle_datasets import KaggleDatasets\n",
    "import numpy as np\n",
    "from tensorflow.keras.callbacks import EarlyStopping\n",
    "from tensorflow.keras import layers, callbacks\n",
    "import matplotlib.pyplot as plt\n",
    "\n",
    "print(\"Tensorflow version \" + tf.__version__)"
   ]
  },
  {
   "cell_type": "markdown",
   "id": "freelance-condition",
   "metadata": {
    "papermill": {
     "duration": 0.010545,
     "end_time": "2021-03-30T15:56:16.574157",
     "exception": false,
     "start_time": "2021-03-30T15:56:16.563612",
     "status": "completed"
    },
    "tags": []
   },
   "source": [
    "# Detect my accelerator"
   ]
  },
  {
   "cell_type": "code",
   "execution_count": 2,
   "id": "confident-calculation",
   "metadata": {
    "execution": {
     "iopub.execute_input": "2021-03-30T15:56:16.615240Z",
     "iopub.status.busy": "2021-03-30T15:56:16.614368Z",
     "iopub.status.idle": "2021-03-30T15:56:22.072950Z",
     "shell.execute_reply": "2021-03-30T15:56:22.072326Z"
    },
    "papermill": {
     "duration": 5.48839,
     "end_time": "2021-03-30T15:56:22.073094",
     "exception": false,
     "start_time": "2021-03-30T15:56:16.584704",
     "status": "completed"
    },
    "tags": []
   },
   "outputs": [
    {
     "name": "stdout",
     "output_type": "stream",
     "text": [
      "Running on TPU  grpc://10.0.0.2:8470\n",
      "REPLICAS:  8\n"
     ]
    }
   ],
   "source": [
    "# Detect hardware, return appropriate distribution strategy\n",
    "try:\n",
    "    tpu = tf.distribute.cluster_resolver.TPUClusterResolver()  # TPU detection. No parameters necessary if TPU_NAME environment variable is set. On Kaggle this is always the case.\n",
    "    print('Running on TPU ', tpu.master())\n",
    "except ValueError:\n",
    "    tpu = None\n",
    "\n",
    "if tpu:\n",
    "    tf.config.experimental_connect_to_cluster(tpu)\n",
    "    tf.tpu.experimental.initialize_tpu_system(tpu)\n",
    "    strategy = tf.distribute.experimental.TPUStrategy(tpu)\n",
    "else:\n",
    "    strategy = tf.distribute.get_strategy() # default distribution strategy in Tensorflow. Works on CPU and single GPU.\n",
    "\n",
    "print(\"REPLICAS: \", strategy.num_replicas_in_sync)"
   ]
  },
  {
   "cell_type": "markdown",
   "id": "progressive-harvest",
   "metadata": {
    "papermill": {
     "duration": 0.011945,
     "end_time": "2021-03-30T15:56:22.096531",
     "exception": false,
     "start_time": "2021-03-30T15:56:22.084586",
     "status": "completed"
    },
    "tags": []
   },
   "source": [
    "# Get my data path"
   ]
  },
  {
   "cell_type": "code",
   "execution_count": 3,
   "id": "planned-divide",
   "metadata": {
    "execution": {
     "iopub.execute_input": "2021-03-30T15:56:22.135794Z",
     "iopub.status.busy": "2021-03-30T15:56:22.125946Z",
     "iopub.status.idle": "2021-03-30T15:56:22.528532Z",
     "shell.execute_reply": "2021-03-30T15:56:22.527831Z"
    },
    "papermill": {
     "duration": 0.420268,
     "end_time": "2021-03-30T15:56:22.528694",
     "exception": false,
     "start_time": "2021-03-30T15:56:22.108426",
     "status": "completed"
    },
    "tags": []
   },
   "outputs": [],
   "source": [
    "GCS_DS_PATH = KaggleDatasets().get_gcs_path('tpu-getting-started') # you can list the bucket with \"!gsutil ls $GCS_DS_PATH\""
   ]
  },
  {
   "cell_type": "markdown",
   "id": "tender-split",
   "metadata": {
    "papermill": {
     "duration": 0.011447,
     "end_time": "2021-03-30T15:56:22.551877",
     "exception": false,
     "start_time": "2021-03-30T15:56:22.540430",
     "status": "completed"
    },
    "tags": []
   },
   "source": [
    "# Set some parameters"
   ]
  },
  {
   "cell_type": "code",
   "execution_count": 4,
   "id": "binary-integration",
   "metadata": {
    "execution": {
     "iopub.execute_input": "2021-03-30T15:56:22.581256Z",
     "iopub.status.busy": "2021-03-30T15:56:22.580333Z",
     "iopub.status.idle": "2021-03-30T15:56:22.583827Z",
     "shell.execute_reply": "2021-03-30T15:56:22.583174Z"
    },
    "papermill": {
     "duration": 0.020578,
     "end_time": "2021-03-30T15:56:22.583971",
     "exception": false,
     "start_time": "2021-03-30T15:56:22.563393",
     "status": "completed"
    },
    "tags": []
   },
   "outputs": [],
   "source": [
    "IMAGE_SIZE = [512, 512] # at this size, a GPU will run out of memory. Use the TPU\n",
    "EPOCHS = 30\n",
    "BATCH_SIZE = 16 * strategy.num_replicas_in_sync\n",
    "\n",
    "NUM_TRAINING_IMAGES = 12753\n",
    "NUM_TEST_IMAGES = 7382\n",
    "STEPS_PER_EPOCH = NUM_TRAINING_IMAGES // BATCH_SIZE"
   ]
  },
  {
   "cell_type": "markdown",
   "id": "unusual-permission",
   "metadata": {
    "papermill": {
     "duration": 0.01142,
     "end_time": "2021-03-30T15:56:22.607260",
     "exception": false,
     "start_time": "2021-03-30T15:56:22.595840",
     "status": "completed"
    },
    "tags": []
   },
   "source": [
    "# Load my data\n",
    "\n",
    "This data is loaded from Kaggle and automatically sharded to maximize parallelization."
   ]
  },
  {
   "cell_type": "code",
   "execution_count": 5,
   "id": "steady-vitamin",
   "metadata": {
    "execution": {
     "iopub.execute_input": "2021-03-30T15:56:22.649722Z",
     "iopub.status.busy": "2021-03-30T15:56:22.646703Z",
     "iopub.status.idle": "2021-03-30T15:56:22.977854Z",
     "shell.execute_reply": "2021-03-30T15:56:22.978368Z"
    },
    "papermill": {
     "duration": 0.359511,
     "end_time": "2021-03-30T15:56:22.978567",
     "exception": false,
     "start_time": "2021-03-30T15:56:22.619056",
     "status": "completed"
    },
    "tags": []
   },
   "outputs": [],
   "source": [
    "def decode_image(image_data):\n",
    "    image = tf.image.decode_jpeg(image_data, channels=3)\n",
    "    image = tf.cast(image, tf.float32) / 255.0  # convert image to floats in [0, 1] range\n",
    "    image = tf.reshape(image, [*IMAGE_SIZE, 3]) # explicit size needed for TPU\n",
    "    return image\n",
    "\n",
    "def read_labeled_tfrecord(example):\n",
    "    LABELED_TFREC_FORMAT = {\n",
    "        \"image\": tf.io.FixedLenFeature([], tf.string), # tf.string means bytestring\n",
    "        \"class\": tf.io.FixedLenFeature([], tf.int64),  # shape [] means single element\n",
    "    }\n",
    "    example = tf.io.parse_single_example(example, LABELED_TFREC_FORMAT)\n",
    "    image = decode_image(example['image'])\n",
    "    label = tf.cast(example['class'], tf.int32)\n",
    "    return image, label # returns a dataset of (image, label) pairs\n",
    "\n",
    "def read_unlabeled_tfrecord(example):\n",
    "    UNLABELED_TFREC_FORMAT = {\n",
    "        \"image\": tf.io.FixedLenFeature([], tf.string), # tf.string means bytestring\n",
    "        \"id\": tf.io.FixedLenFeature([], tf.string),  # shape [] means single element\n",
    "        # class is missing, this competitions's challenge is to predict flower classes for the test dataset\n",
    "    }\n",
    "    example = tf.io.parse_single_example(example, UNLABELED_TFREC_FORMAT)\n",
    "    image = decode_image(example['image'])\n",
    "    idnum = example['id']\n",
    "    return image, idnum # returns a dataset of image(s)\n",
    "\n",
    "def load_dataset(filenames, labeled=True, ordered=False):\n",
    "    # Read from TFRecords. For optimal performance, reading from multiple files at once and\n",
    "    # disregarding data order. Order does not matter since we will be shuffling the data anyway.\n",
    "\n",
    "    ignore_order = tf.data.Options()\n",
    "    if not ordered:\n",
    "        ignore_order.experimental_deterministic = False # disable order, increase speed\n",
    "\n",
    "    dataset = tf.data.TFRecordDataset(filenames) # automatically interleaves reads from multiple files\n",
    "    dataset = dataset.with_options(ignore_order) # uses data as soon as it streams in, rather than in its original order\n",
    "    dataset = dataset.map(read_labeled_tfrecord if labeled else read_unlabeled_tfrecord)\n",
    "    # returns a dataset of (image, label) pairs if labeled=True or (image, id) pairs if labeled=False\n",
    "    return dataset\n",
    "\n",
    "def get_training_dataset():\n",
    "    dataset = load_dataset(tf.io.gfile.glob(GCS_DS_PATH + '/tfrecords-jpeg-512x512/train/*.tfrec'), labeled=True)\n",
    "    dataset = dataset.repeat() # the training dataset must repeat for several epochs\n",
    "    dataset = dataset.shuffle(2048)\n",
    "    dataset = dataset.batch(BATCH_SIZE)\n",
    "    return dataset\n",
    "\n",
    "def get_validation_dataset():\n",
    "    dataset = load_dataset(tf.io.gfile.glob(GCS_DS_PATH + '/tfrecords-jpeg-512x512/val/*.tfrec'), labeled=True, ordered=False)\n",
    "    dataset = dataset.batch(BATCH_SIZE)\n",
    "    dataset = dataset.cache()\n",
    "    return dataset\n",
    "\n",
    "def get_test_dataset(ordered=False):\n",
    "    dataset = load_dataset(tf.io.gfile.glob(GCS_DS_PATH + '/tfrecords-jpeg-512x512/test/*.tfrec'), labeled=False, ordered=ordered)\n",
    "    dataset = dataset.batch(BATCH_SIZE)\n",
    "    return dataset\n",
    "\n",
    "training_dataset = get_training_dataset()\n",
    "validation_dataset = get_validation_dataset()"
   ]
  },
  {
   "cell_type": "markdown",
   "id": "moral-details",
   "metadata": {
    "papermill": {
     "duration": 0.011311,
     "end_time": "2021-03-30T15:56:23.001726",
     "exception": false,
     "start_time": "2021-03-30T15:56:22.990415",
     "status": "completed"
    },
    "tags": []
   },
   "source": [
    "# Build a model on TPU (or GPU, or CPU...) with Tensorflow 2.1!"
   ]
  },
  {
   "cell_type": "code",
   "execution_count": 6,
   "id": "exotic-field",
   "metadata": {
    "execution": {
     "iopub.execute_input": "2021-03-30T15:56:23.038795Z",
     "iopub.status.busy": "2021-03-30T15:56:23.038057Z",
     "iopub.status.idle": "2021-03-30T16:29:33.957835Z",
     "shell.execute_reply": "2021-03-30T16:29:33.956971Z"
    },
    "papermill": {
     "duration": 1990.944681,
     "end_time": "2021-03-30T16:29:33.958048",
     "exception": false,
     "start_time": "2021-03-30T15:56:23.013367",
     "status": "completed"
    },
    "tags": []
   },
   "outputs": [
    {
     "name": "stdout",
     "output_type": "stream",
     "text": [
      "Downloading data from https://storage.googleapis.com/tensorflow/keras-applications/vgg16/vgg16_weights_tf_dim_ordering_tf_kernels_notop.h5\n",
      "58892288/58889256 [==============================] - 0s 0us/step\n",
      "Epoch 1/30\n",
      "99/99 [==============================] - 124s 1s/step - loss: 4.1171 - sparse_categorical_accuracy: 0.1632 - val_loss: 3.9692 - val_sparse_categorical_accuracy: 0.0991\n",
      "Epoch 2/30\n",
      "99/99 [==============================] - 63s 646ms/step - loss: 2.6800 - sparse_categorical_accuracy: 0.3503 - val_loss: 3.4308 - val_sparse_categorical_accuracy: 0.2169\n",
      "Epoch 3/30\n",
      "99/99 [==============================] - 64s 649ms/step - loss: 2.3293 - sparse_categorical_accuracy: 0.4132 - val_loss: 2.7872 - val_sparse_categorical_accuracy: 0.3443\n",
      "Epoch 4/30\n",
      "99/99 [==============================] - 64s 647ms/step - loss: 2.1594 - sparse_categorical_accuracy: 0.4422 - val_loss: 2.1353 - val_sparse_categorical_accuracy: 0.4677\n",
      "Epoch 5/30\n",
      "99/99 [==============================] - 64s 652ms/step - loss: 2.0247 - sparse_categorical_accuracy: 0.4729 - val_loss: 1.6535 - val_sparse_categorical_accuracy: 0.5784\n",
      "Epoch 6/30\n",
      "99/99 [==============================] - 64s 646ms/step - loss: 1.9448 - sparse_categorical_accuracy: 0.4953 - val_loss: 1.3840 - val_sparse_categorical_accuracy: 0.6374\n",
      "Epoch 7/30\n",
      "99/99 [==============================] - 63s 646ms/step - loss: 1.9046 - sparse_categorical_accuracy: 0.5075 - val_loss: 1.2704 - val_sparse_categorical_accuracy: 0.6668\n",
      "Epoch 8/30\n",
      "99/99 [==============================] - 64s 648ms/step - loss: 1.8199 - sparse_categorical_accuracy: 0.5205 - val_loss: 1.2185 - val_sparse_categorical_accuracy: 0.6730\n",
      "Epoch 9/30\n",
      "99/99 [==============================] - 64s 647ms/step - loss: 1.7514 - sparse_categorical_accuracy: 0.5324 - val_loss: 1.1847 - val_sparse_categorical_accuracy: 0.6862\n",
      "Epoch 10/30\n",
      "99/99 [==============================] - 63s 646ms/step - loss: 1.6932 - sparse_categorical_accuracy: 0.5424 - val_loss: 1.1468 - val_sparse_categorical_accuracy: 0.7018\n",
      "Epoch 11/30\n",
      "99/99 [==============================] - 64s 649ms/step - loss: 1.6485 - sparse_categorical_accuracy: 0.5545 - val_loss: 1.1358 - val_sparse_categorical_accuracy: 0.6996\n",
      "Epoch 12/30\n",
      "99/99 [==============================] - 64s 656ms/step - loss: 1.6152 - sparse_categorical_accuracy: 0.5597 - val_loss: 1.1286 - val_sparse_categorical_accuracy: 0.7072\n",
      "Epoch 13/30\n",
      "99/99 [==============================] - 64s 649ms/step - loss: 1.6155 - sparse_categorical_accuracy: 0.5634 - val_loss: 1.1383 - val_sparse_categorical_accuracy: 0.7018\n",
      "Epoch 14/30\n",
      "99/99 [==============================] - 64s 647ms/step - loss: 1.5453 - sparse_categorical_accuracy: 0.5776 - val_loss: 1.1122 - val_sparse_categorical_accuracy: 0.7099\n",
      "Epoch 15/30\n",
      "99/99 [==============================] - 64s 653ms/step - loss: 1.5437 - sparse_categorical_accuracy: 0.5765 - val_loss: 1.1042 - val_sparse_categorical_accuracy: 0.7069\n",
      "Epoch 16/30\n",
      "99/99 [==============================] - 65s 657ms/step - loss: 1.5167 - sparse_categorical_accuracy: 0.5843 - val_loss: 1.0863 - val_sparse_categorical_accuracy: 0.7196\n",
      "Epoch 17/30\n",
      "99/99 [==============================] - 64s 655ms/step - loss: 1.4922 - sparse_categorical_accuracy: 0.5889 - val_loss: 1.0805 - val_sparse_categorical_accuracy: 0.7212\n",
      "Epoch 18/30\n",
      "99/99 [==============================] - 64s 649ms/step - loss: 1.5035 - sparse_categorical_accuracy: 0.5835 - val_loss: 1.0740 - val_sparse_categorical_accuracy: 0.7244\n",
      "Epoch 19/30\n",
      "99/99 [==============================] - 64s 655ms/step - loss: 1.4045 - sparse_categorical_accuracy: 0.6044 - val_loss: 1.0575 - val_sparse_categorical_accuracy: 0.7252\n",
      "Epoch 20/30\n",
      "99/99 [==============================] - 65s 661ms/step - loss: 1.4227 - sparse_categorical_accuracy: 0.6039 - val_loss: 1.0692 - val_sparse_categorical_accuracy: 0.7214\n",
      "Epoch 21/30\n",
      "99/99 [==============================] - 65s 657ms/step - loss: 1.4303 - sparse_categorical_accuracy: 0.6006 - val_loss: 1.0737 - val_sparse_categorical_accuracy: 0.7268\n",
      "Epoch 22/30\n",
      "99/99 [==============================] - 64s 655ms/step - loss: 1.4156 - sparse_categorical_accuracy: 0.6111 - val_loss: 1.0580 - val_sparse_categorical_accuracy: 0.7325\n",
      "Epoch 23/30\n",
      "99/99 [==============================] - 64s 651ms/step - loss: 1.3859 - sparse_categorical_accuracy: 0.6160 - val_loss: 1.0566 - val_sparse_categorical_accuracy: 0.7252\n",
      "Epoch 24/30\n",
      "99/99 [==============================] - 64s 652ms/step - loss: 1.3696 - sparse_categorical_accuracy: 0.6172 - val_loss: 1.0663 - val_sparse_categorical_accuracy: 0.7244\n",
      "Epoch 25/30\n",
      "99/99 [==============================] - 64s 648ms/step - loss: 1.3705 - sparse_categorical_accuracy: 0.6162 - val_loss: 1.0448 - val_sparse_categorical_accuracy: 0.7282\n",
      "Epoch 26/30\n",
      "99/99 [==============================] - 64s 653ms/step - loss: 1.3375 - sparse_categorical_accuracy: 0.6265 - val_loss: 1.0606 - val_sparse_categorical_accuracy: 0.7206\n",
      "Epoch 27/30\n",
      "99/99 [==============================] - 64s 650ms/step - loss: 1.3298 - sparse_categorical_accuracy: 0.6235 - val_loss: 1.0473 - val_sparse_categorical_accuracy: 0.7328\n",
      "Epoch 28/30\n",
      "99/99 [==============================] - 64s 652ms/step - loss: 1.3430 - sparse_categorical_accuracy: 0.6280 - val_loss: 1.0407 - val_sparse_categorical_accuracy: 0.7258\n",
      "Epoch 29/30\n",
      "99/99 [==============================] - 64s 651ms/step - loss: 1.3270 - sparse_categorical_accuracy: 0.6237 - val_loss: 1.0260 - val_sparse_categorical_accuracy: 0.7349\n",
      "Epoch 30/30\n",
      "99/99 [==============================] - 64s 654ms/step - loss: 1.2885 - sparse_categorical_accuracy: 0.6418 - val_loss: 1.0220 - val_sparse_categorical_accuracy: 0.7301\n"
     ]
    }
   ],
   "source": [
    "early_stopping = callbacks.EarlyStopping(\n",
    "    min_delta=0.001, # minimium amount of change to count as an improvement\n",
    "    patience=12, # how many epochs to wait before stopping\n",
    "    restore_best_weights=True,\n",
    ")\n",
    "\n",
    "with strategy.scope():    \n",
    "    pretrained_model = tf.keras.applications.VGG16(weights='imagenet', include_top=False ,input_shape=[*IMAGE_SIZE, 3])\n",
    "    pretrained_model.trainable = False # tramsfer learning\n",
    "    \n",
    "    model = tf.keras.Sequential([\n",
    "        pretrained_model,\n",
    "        tf.keras.layers.GlobalAveragePooling2D(),\n",
    "        layers.Dropout(0.3),\n",
    "        layers.BatchNormalization(),\n",
    "        layers.Dense(1024, activation='relu'),\n",
    "        layers.Dropout(0.3),\n",
    "        layers.BatchNormalization(),\n",
    "        layers.Dense(1024, activation='relu'),\n",
    "        layers.Dropout(0.3),\n",
    "        layers.BatchNormalization(),\n",
    "        tf.keras.layers.Dense(104, activation='softmax')\n",
    "    ])\n",
    "        \n",
    "model.compile(\n",
    "    optimizer='adam',\n",
    "    loss = 'sparse_categorical_crossentropy',\n",
    "    metrics=['sparse_categorical_accuracy']\n",
    ")\n",
    "\n",
    "historical = model.fit(training_dataset,\n",
    "                       steps_per_epoch=STEPS_PER_EPOCH,\n",
    "                       epochs=EPOCHS,\n",
    "                       callbacks=[early_stopping],\n",
    "                       validation_data=validation_dataset)"
   ]
  },
  {
   "cell_type": "code",
   "execution_count": 7,
   "id": "lucky-charger",
   "metadata": {
    "execution": {
     "iopub.execute_input": "2021-03-30T16:29:35.930165Z",
     "iopub.status.busy": "2021-03-30T16:29:35.929288Z",
     "iopub.status.idle": "2021-03-30T16:29:36.182406Z",
     "shell.execute_reply": "2021-03-30T16:29:36.183057Z"
    },
    "papermill": {
     "duration": 1.236107,
     "end_time": "2021-03-30T16:29:36.183247",
     "exception": false,
     "start_time": "2021-03-30T16:29:34.947140",
     "status": "completed"
    },
    "tags": []
   },
   "outputs": [
    {
     "data": {
      "image/png": "[encoded data removed]",
      "text/plain": [
       "<Figure size 432x288 with 1 Axes>"
      ]
     },
     "metadata": {
      "needs_background": "light"
     },
     "output_type": "display_data"
    }
   ],
   "source": [
    "# convert the training history to a dataframe\n",
    "history_df = pd.DataFrame(historical.history)\n",
    "# use Pandas native plot method\n",
    "history_df[['loss', 'val_loss']].plot();"
   ]
  },
  {
   "cell_type": "markdown",
   "id": "adult-eight",
   "metadata": {
    "papermill": {
     "duration": 0.936295,
     "end_time": "2021-03-30T16:29:38.061403",
     "exception": false,
     "start_time": "2021-03-30T16:29:37.125108",
     "status": "completed"
    },
    "tags": []
   },
   "source": [
    "# Compute your predictions on the test set!\n",
    "\n",
    "This will create a file that can be submitted to the competition."
   ]
  },
  {
   "cell_type": "code",
   "execution_count": 8,
   "id": "african-lawyer",
   "metadata": {
    "execution": {
     "iopub.execute_input": "2021-03-30T16:29:40.014005Z",
     "iopub.status.busy": "2021-03-30T16:29:40.012583Z",
     "iopub.status.idle": "2021-03-30T16:30:58.647577Z",
     "shell.execute_reply": "2021-03-30T16:30:58.648201Z"
    },
    "papermill": {
     "duration": 79.589381,
     "end_time": "2021-03-30T16:30:58.648390",
     "exception": false,
     "start_time": "2021-03-30T16:29:39.059009",
     "status": "completed"
    },
    "tags": []
   },
   "outputs": [
    {
     "name": "stdout",
     "output_type": "stream",
     "text": [
      "Computing predictions...\n",
      "[67 52 81 ... 14 40 79]\n",
      "Generating submission.csv file...\n"
     ]
    }
   ],
   "source": [
    "test_ds = get_test_dataset(ordered=True) # since we are splitting the dataset and iterating separately on images and ids, order matters.\n",
    "\n",
    "print('Computing predictions...')\n",
    "test_images_ds = test_ds.map(lambda image, idnum: image)\n",
    "probabilities = model.predict(test_images_ds)\n",
    "predictions = np.argmax(probabilities, axis=-1)\n",
    "print(predictions)\n",
    "\n",
    "print('Generating submission.csv file...')\n",
    "test_ids_ds = test_ds.map(lambda image, idnum: idnum).unbatch()\n",
    "test_ids = next(iter(test_ids_ds.batch(NUM_TEST_IMAGES))).numpy().astype('U') # all in one batch\n",
    "np.savetxt('submission.csv', np.rec.fromarrays([test_ids, predictions]), fmt=['%s', '%d'], delimiter=',', header='id,label', comments='')"
   ]
  }
 ],
 "metadata": {
  "kernelspec": {
   "display_name": "Python 3",
   "language": "python",
   "name": "python3"
  },
  "language_info": {
   "codemirror_mode": {
    "name": "ipython",
    "version": 3
   },
   "file_extension": ".py",
   "mimetype": "text/x-python",
   "name": "python",
   "nbconvert_exporter": "python",
   "pygments_lexer": "ipython3",
   "version": "3.7.9"
  },
  "papermill": {
   "default_parameters": {},
   "duration": 2097.265547,
   "end_time": "2021-03-30T16:31:01.207232",
   "environment_variables": {},
   "exception": null,
   "input_path": "__notebook__.ipynb",
   "output_path": "__notebook__.ipynb",
   "parameters": {},
   "start_time": "2021-03-30T15:56:03.941685",
   "version": "2.3.2"
  }
 },
 "nbformat": 4,
 "nbformat_minor": 5
}
