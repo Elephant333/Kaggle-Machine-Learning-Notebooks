{
 "cells": [
  {
   "cell_type": "code",
   "execution_count": 1,
   "metadata": {
    "execution": {
     "iopub.execute_input": "2021-03-15T13:55:23.315708Z",
     "iopub.status.busy": "2021-03-15T13:55:23.315129Z",
     "iopub.status.idle": "2021-03-15T13:55:23.320157Z",
     "shell.execute_reply": "2021-03-15T13:55:23.319439Z"
    },
    "papermill": {
     "duration": 0.0157,
     "end_time": "2021-03-15T13:55:23.320352",
     "exception": false,
     "start_time": "2021-03-15T13:55:23.304652",
     "status": "completed"
    },
    "tags": []
   },
   "outputs": [],
   "source": [
    "#Nathan Li - Cleaning Dog Data"
   ]
  },
  {
   "cell_type": "code",
   "execution_count": 2,
   "metadata": {
    "_cell_guid": "b1076dfc-b9ad-4769-8c92-a6c4dae69d19",
    "_uuid": "8f2839f25d086af736a60e9eeb907d3b93b6e0e5",
    "execution": {
     "iopub.execute_input": "2021-03-15T13:55:23.337020Z",
     "iopub.status.busy": "2021-03-15T13:55:23.336426Z",
     "iopub.status.idle": "2021-03-15T13:55:23.357792Z",
     "shell.execute_reply": "2021-03-15T13:55:23.358294Z"
    },
    "papermill": {
     "duration": 0.030874,
     "end_time": "2021-03-15T13:55:23.358466",
     "exception": false,
     "start_time": "2021-03-15T13:55:23.327592",
     "status": "completed"
    },
    "tags": []
   },
   "outputs": [
    {
     "name": "stdout",
     "output_type": "stream",
     "text": [
      "/kaggle/input/dogs-of-cambridge/Dogs_of_Cambridge.csv\n",
      "/kaggle/input/dog-neighborhood-locations/Dog Neighbood Locations - Sheet1.csv\n"
     ]
    }
   ],
   "source": [
    "# This Python 3 environment comes with many helpful analytics libraries installed\n",
    "# It is defined by the kaggle/python Docker image: https://github.com/kaggle/docker-python\n",
    "# For example, here's several helpful packages to load\n",
    "\n",
    "import numpy as np # linear algebra\n",
    "import pandas as pd # data processing, CSV file I/O (e.g. pd.read_csv)\n",
    "\n",
    "# Input data files are available in the read-only \"../input/\" directory\n",
    "# For example, running this (by clicking run or pressing Shift+Enter) will list all files under the input directory\n",
    "\n",
    "import os\n",
    "for dirname, _, filenames in os.walk('/kaggle/input'):\n",
    "    for filename in filenames:\n",
    "        print(os.path.join(dirname, filename))\n",
    "\n",
    "# You can write up to 20GB to the current directory (/kaggle/working/) that gets preserved as output when you create a version using \"Save & Run All\" \n",
    "# You can also write temporary files to /kaggle/temp/, but they won't be saved outside of the current session"
   ]
  },
  {
   "cell_type": "code",
   "execution_count": 3,
   "metadata": {
    "execution": {
     "iopub.execute_input": "2021-03-15T13:55:23.378017Z",
     "iopub.status.busy": "2021-03-15T13:55:23.377301Z",
     "iopub.status.idle": "2021-03-15T13:55:23.429133Z",
     "shell.execute_reply": "2021-03-15T13:55:23.428571Z"
    },
    "papermill": {
     "duration": 0.063188,
     "end_time": "2021-03-15T13:55:23.429260",
     "exception": false,
     "start_time": "2021-03-15T13:55:23.366072",
     "status": "completed"
    },
    "tags": []
   },
   "outputs": [
    {
     "data": {
      "text/html": [
       "<div>\n",
       "<style scoped>\n",
       "    .dataframe tbody tr th:only-of-type {\n",
       "        vertical-align: middle;\n",
       "    }\n",
       "\n",
       "    .dataframe tbody tr th {\n",
       "        vertical-align: top;\n",
       "    }\n",
       "\n",
       "    .dataframe thead th {\n",
       "        text-align: right;\n",
       "    }\n",
       "</style>\n",
       "<table border=\"1\" class=\"dataframe\">\n",
       "  <thead>\n",
       "    <tr style=\"text-align: right;\">\n",
       "      <th></th>\n",
       "      <th>Dog_Name</th>\n",
       "      <th>Dog_Breed</th>\n",
       "      <th>Location_masked</th>\n",
       "      <th>Latitude_masked</th>\n",
       "      <th>Longitude_masked</th>\n",
       "      <th>Neighborhood</th>\n",
       "    </tr>\n",
       "  </thead>\n",
       "  <tbody>\n",
       "    <tr>\n",
       "      <th>0</th>\n",
       "      <td>Ella</td>\n",
       "      <td>Golden Retriever</td>\n",
       "      <td>(42.38138453, -71.10963321)</td>\n",
       "      <td>-71.109633</td>\n",
       "      <td>-71.109633</td>\n",
       "      <td>Agassiz</td>\n",
       "    </tr>\n",
       "    <tr>\n",
       "      <th>1</th>\n",
       "      <td>Nalah</td>\n",
       "      <td>Mix</td>\n",
       "      <td>(42.37476908, -71.09690009)</td>\n",
       "      <td>-71.096900</td>\n",
       "      <td>-71.096900</td>\n",
       "      <td>Wellington-Harrington</td>\n",
       "    </tr>\n",
       "    <tr>\n",
       "      <th>2</th>\n",
       "      <td>Mic</td>\n",
       "      <td>Havanese</td>\n",
       "      <td>(42.37560824, -71.15602601)</td>\n",
       "      <td>-71.156026</td>\n",
       "      <td>-71.156026</td>\n",
       "      <td>NaN</td>\n",
       "    </tr>\n",
       "    <tr>\n",
       "      <th>3</th>\n",
       "      <td>Cash</td>\n",
       "      <td>Labrador Retriever</td>\n",
       "      <td>(42.37200905, -71.0955469)</td>\n",
       "      <td>-71.095547</td>\n",
       "      <td>-71.095547</td>\n",
       "      <td>Wellington-Harrington</td>\n",
       "    </tr>\n",
       "    <tr>\n",
       "      <th>4</th>\n",
       "      <td>Barley</td>\n",
       "      <td>Labradoodle</td>\n",
       "      <td>(42.37426564, -71.13756283)</td>\n",
       "      <td>-71.137563</td>\n",
       "      <td>-71.137563</td>\n",
       "      <td>West Cambridge</td>\n",
       "    </tr>\n",
       "  </tbody>\n",
       "</table>\n",
       "</div>"
      ],
      "text/plain": [
       "  Dog_Name           Dog_Breed              Location_masked  Latitude_masked  \\\n",
       "0     Ella    Golden Retriever  (42.38138453, -71.10963321)       -71.109633   \n",
       "1    Nalah                 Mix  (42.37476908, -71.09690009)       -71.096900   \n",
       "2      Mic            Havanese  (42.37560824, -71.15602601)       -71.156026   \n",
       "3     Cash  Labrador Retriever   (42.37200905, -71.0955469)       -71.095547   \n",
       "4   Barley         Labradoodle  (42.37426564, -71.13756283)       -71.137563   \n",
       "\n",
       "   Longitude_masked           Neighborhood  \n",
       "0        -71.109633                Agassiz  \n",
       "1        -71.096900  Wellington-Harrington  \n",
       "2        -71.156026                    NaN  \n",
       "3        -71.095547  Wellington-Harrington  \n",
       "4        -71.137563         West Cambridge  "
      ]
     },
     "execution_count": 3,
     "metadata": {},
     "output_type": "execute_result"
    }
   ],
   "source": [
    "dog_data = pd.read_csv(\"/kaggle/input/dogs-of-cambridge/Dogs_of_Cambridge.csv\")\n",
    "dog_data.head()"
   ]
  },
  {
   "cell_type": "code",
   "execution_count": 4,
   "metadata": {
    "execution": {
     "iopub.execute_input": "2021-03-15T13:55:23.454810Z",
     "iopub.status.busy": "2021-03-15T13:55:23.454144Z",
     "iopub.status.idle": "2021-03-15T13:55:23.457784Z",
     "shell.execute_reply": "2021-03-15T13:55:23.457230Z"
    },
    "papermill": {
     "duration": 0.021044,
     "end_time": "2021-03-15T13:55:23.457911",
     "exception": false,
     "start_time": "2021-03-15T13:55:23.436867",
     "status": "completed"
    },
    "tags": []
   },
   "outputs": [
    {
     "name": "stdout",
     "output_type": "stream",
     "text": [
      "Dog_Name: 3 missing values\n",
      "Dog_Breed: 32 missing values\n",
      "Location_masked: 0 missing values\n",
      "Latitude_masked: 0 missing values\n",
      "Longitude_masked: 0 missing values\n",
      "Neighborhood: 40 missing values\n"
     ]
    }
   ],
   "source": [
    "#Find missing data\n",
    "for i in dog_data.columns:\n",
    "    print (i + \": \"+str(sum(dog_data[i].isnull()))+\" missing values\")"
   ]
  },
  {
   "cell_type": "code",
   "execution_count": 5,
   "metadata": {
    "execution": {
     "iopub.execute_input": "2021-03-15T13:55:23.490146Z",
     "iopub.status.busy": "2021-03-15T13:55:23.485142Z",
     "iopub.status.idle": "2021-03-15T13:55:24.970930Z",
     "shell.execute_reply": "2021-03-15T13:55:24.970240Z"
    },
    "papermill": {
     "duration": 1.505116,
     "end_time": "2021-03-15T13:55:24.971074",
     "exception": false,
     "start_time": "2021-03-15T13:55:23.465958",
     "status": "completed"
    },
    "tags": []
   },
   "outputs": [
    {
     "data": {
      "text/html": [
       "<div>\n",
       "<style scoped>\n",
       "    .dataframe tbody tr th:only-of-type {\n",
       "        vertical-align: middle;\n",
       "    }\n",
       "\n",
       "    .dataframe tbody tr th {\n",
       "        vertical-align: top;\n",
       "    }\n",
       "\n",
       "    .dataframe thead th {\n",
       "        text-align: right;\n",
       "    }\n",
       "</style>\n",
       "<table border=\"1\" class=\"dataframe\">\n",
       "  <thead>\n",
       "    <tr style=\"text-align: right;\">\n",
       "      <th></th>\n",
       "      <th>Dog_Name</th>\n",
       "      <th>Dog_Breed</th>\n",
       "      <th>Latitude_masked</th>\n",
       "      <th>Longitude_masked</th>\n",
       "      <th>Neighborhood</th>\n",
       "    </tr>\n",
       "  </thead>\n",
       "  <tbody>\n",
       "    <tr>\n",
       "      <th>0</th>\n",
       "      <td>Ella</td>\n",
       "      <td>Golden Retriever</td>\n",
       "      <td>42.381385</td>\n",
       "      <td>-71.109633</td>\n",
       "      <td>Agassiz</td>\n",
       "    </tr>\n",
       "    <tr>\n",
       "      <th>1</th>\n",
       "      <td>Nalah</td>\n",
       "      <td>Mix</td>\n",
       "      <td>42.374769</td>\n",
       "      <td>-71.096900</td>\n",
       "      <td>Wellington-Harrington</td>\n",
       "    </tr>\n",
       "    <tr>\n",
       "      <th>2</th>\n",
       "      <td>Mic</td>\n",
       "      <td>Havanese</td>\n",
       "      <td>42.375608</td>\n",
       "      <td>-71.156026</td>\n",
       "      <td>NaN</td>\n",
       "    </tr>\n",
       "    <tr>\n",
       "      <th>3</th>\n",
       "      <td>Cash</td>\n",
       "      <td>Labrador Retriever</td>\n",
       "      <td>42.372009</td>\n",
       "      <td>-71.095547</td>\n",
       "      <td>Wellington-Harrington</td>\n",
       "    </tr>\n",
       "    <tr>\n",
       "      <th>4</th>\n",
       "      <td>Barley</td>\n",
       "      <td>Labradoodle</td>\n",
       "      <td>42.374266</td>\n",
       "      <td>-71.137563</td>\n",
       "      <td>West Cambridge</td>\n",
       "    </tr>\n",
       "  </tbody>\n",
       "</table>\n",
       "</div>"
      ],
      "text/plain": [
       "  Dog_Name           Dog_Breed  Latitude_masked  Longitude_masked  \\\n",
       "0     Ella    Golden Retriever        42.381385        -71.109633   \n",
       "1    Nalah                 Mix        42.374769        -71.096900   \n",
       "2      Mic            Havanese        42.375608        -71.156026   \n",
       "3     Cash  Labrador Retriever        42.372009        -71.095547   \n",
       "4   Barley         Labradoodle        42.374266        -71.137563   \n",
       "\n",
       "            Neighborhood  \n",
       "0                Agassiz  \n",
       "1  Wellington-Harrington  \n",
       "2                    NaN  \n",
       "3  Wellington-Harrington  \n",
       "4         West Cambridge  "
      ]
     },
     "execution_count": 5,
     "metadata": {},
     "output_type": "execute_result"
    }
   ],
   "source": [
    "#Fixing Latitude_masked values with Location_masked\n",
    "for i in range(len(dog_data)):\n",
    "    splitLocation = dog_data.iloc[i].Location_masked.split(', ')\n",
    "    latitude = str(splitLocation[0])[1:]\n",
    "    dog_data.at[i, \"Latitude_masked\"] = latitude\n",
    "for i in range(len(dog_data)):\n",
    "    splitLocation = dog_data.iloc[i].Location_masked.split(', ')\n",
    "    longitude = str(splitLocation[1])[0:-1]\n",
    "    dog_data.at[i, \"Longitude_masked\"] = longitude\n",
    "\n",
    "#Dropping Location_masked values now that Latitude_masked is fixed\n",
    "dog_data = dog_data.drop(\"Location_masked\", axis=1)\n",
    "dog_data.head()"
   ]
  },
  {
   "cell_type": "code",
   "execution_count": 6,
   "metadata": {
    "execution": {
     "iopub.execute_input": "2021-03-15T13:55:24.993287Z",
     "iopub.status.busy": "2021-03-15T13:55:24.992606Z",
     "iopub.status.idle": "2021-03-15T13:55:25.006963Z",
     "shell.execute_reply": "2021-03-15T13:55:25.006475Z"
    },
    "papermill": {
     "duration": 0.026752,
     "end_time": "2021-03-15T13:55:25.007097",
     "exception": false,
     "start_time": "2021-03-15T13:55:24.980345",
     "status": "completed"
    },
    "tags": []
   },
   "outputs": [
    {
     "data": {
      "text/html": [
       "<div>\n",
       "<style scoped>\n",
       "    .dataframe tbody tr th:only-of-type {\n",
       "        vertical-align: middle;\n",
       "    }\n",
       "\n",
       "    .dataframe tbody tr th {\n",
       "        vertical-align: top;\n",
       "    }\n",
       "\n",
       "    .dataframe thead th {\n",
       "        text-align: right;\n",
       "    }\n",
       "</style>\n",
       "<table border=\"1\" class=\"dataframe\">\n",
       "  <thead>\n",
       "    <tr style=\"text-align: right;\">\n",
       "      <th></th>\n",
       "      <th>Name</th>\n",
       "      <th>Latitude</th>\n",
       "      <th>Longitude</th>\n",
       "    </tr>\n",
       "  </thead>\n",
       "  <tbody>\n",
       "    <tr>\n",
       "      <th>0</th>\n",
       "      <td>East Cambridge</td>\n",
       "      <td>42.369204</td>\n",
       "      <td>-71.079015</td>\n",
       "    </tr>\n",
       "    <tr>\n",
       "      <th>1</th>\n",
       "      <td>Area 2/MIT</td>\n",
       "      <td>42.359145</td>\n",
       "      <td>-71.094415</td>\n",
       "    </tr>\n",
       "    <tr>\n",
       "      <th>2</th>\n",
       "      <td>Wellington-Harrington</td>\n",
       "      <td>42.371264</td>\n",
       "      <td>-71.092608</td>\n",
       "    </tr>\n",
       "    <tr>\n",
       "      <th>3</th>\n",
       "      <td>The Port</td>\n",
       "      <td>42.365604</td>\n",
       "      <td>-71.096910</td>\n",
       "    </tr>\n",
       "    <tr>\n",
       "      <th>4</th>\n",
       "      <td>Cambridgeport</td>\n",
       "      <td>42.358600</td>\n",
       "      <td>-71.109293</td>\n",
       "    </tr>\n",
       "  </tbody>\n",
       "</table>\n",
       "</div>"
      ],
      "text/plain": [
       "                    Name   Latitude  Longitude\n",
       "0         East Cambridge  42.369204 -71.079015\n",
       "1             Area 2/MIT  42.359145 -71.094415\n",
       "2  Wellington-Harrington  42.371264 -71.092608\n",
       "3               The Port  42.365604 -71.096910\n",
       "4          Cambridgeport  42.358600 -71.109293"
      ]
     },
     "execution_count": 6,
     "metadata": {},
     "output_type": "execute_result"
    }
   ],
   "source": [
    "#Adding the neighborhood lat/long data so that missing Neighborhood values can be approximated\n",
    "neighborhood_data = pd.read_csv(\"/kaggle/input/dog-neighborhood-locations/Dog Neighbood Locations - Sheet1.csv\")\n",
    "neighborhood_data.head()"
   ]
  },
  {
   "cell_type": "code",
   "execution_count": 7,
   "metadata": {
    "execution": {
     "iopub.execute_input": "2021-03-15T13:55:25.045267Z",
     "iopub.status.busy": "2021-03-15T13:55:25.038541Z",
     "iopub.status.idle": "2021-03-15T13:55:25.930578Z",
     "shell.execute_reply": "2021-03-15T13:55:25.931055Z"
    },
    "papermill": {
     "duration": 0.91512,
     "end_time": "2021-03-15T13:55:25.931210",
     "exception": false,
     "start_time": "2021-03-15T13:55:25.016090",
     "status": "completed"
    },
    "tags": []
   },
   "outputs": [
    {
     "data": {
      "text/html": [
       "<div>\n",
       "<style scoped>\n",
       "    .dataframe tbody tr th:only-of-type {\n",
       "        vertical-align: middle;\n",
       "    }\n",
       "\n",
       "    .dataframe tbody tr th {\n",
       "        vertical-align: top;\n",
       "    }\n",
       "\n",
       "    .dataframe thead th {\n",
       "        text-align: right;\n",
       "    }\n",
       "</style>\n",
       "<table border=\"1\" class=\"dataframe\">\n",
       "  <thead>\n",
       "    <tr style=\"text-align: right;\">\n",
       "      <th></th>\n",
       "      <th>Dog_Name</th>\n",
       "      <th>Dog_Breed</th>\n",
       "      <th>Latitude_masked</th>\n",
       "      <th>Longitude_masked</th>\n",
       "      <th>Neighborhood</th>\n",
       "    </tr>\n",
       "  </thead>\n",
       "  <tbody>\n",
       "    <tr>\n",
       "      <th>2387</th>\n",
       "      <td>Shasta</td>\n",
       "      <td>Shih Poo</td>\n",
       "      <td>42.374503</td>\n",
       "      <td>-71.09377</td>\n",
       "      <td>Wellington-Harrington</td>\n",
       "    </tr>\n",
       "  </tbody>\n",
       "</table>\n",
       "</div>"
      ],
      "text/plain": [
       "     Dog_Name Dog_Breed  Latitude_masked  Longitude_masked  \\\n",
       "2387   Shasta  Shih Poo        42.374503         -71.09377   \n",
       "\n",
       "               Neighborhood  \n",
       "2387  Wellington-Harrington  "
      ]
     },
     "execution_count": 7,
     "metadata": {},
     "output_type": "execute_result"
    }
   ],
   "source": [
    "#Treating the lat/long as points on a cartesian plane, use simple distance formula d=√((x_2-x_1)²+(y_2-y_1)²)\n",
    "distances = [0]*len(neighborhood_data)\n",
    "for i in range(len(dog_data)):\n",
    "    if pd.isna(dog_data.iloc[i].Neighborhood):\n",
    "        for j in range(len(neighborhood_data)):\n",
    "            x1 = dog_data.iloc[i].Latitude_masked\n",
    "            x2 = neighborhood_data.iloc[j].Latitude\n",
    "            y1 = dog_data.iloc[i].Longitude_masked\n",
    "            y2 = neighborhood_data.iloc[j].Longitude\n",
    "            dist = float(((x2-x1)**2 + (y2-y1)**2)**0.5)\n",
    "            distances[j] = dist\n",
    "        dog_data.at[i, \"Neighborhood\"] = neighborhood_data.iloc[distances.index(min(distances))].Name\n",
    "\n",
    "#Checking if Shasta was correctly cleaned\n",
    "dog_data.loc[dog_data.Dog_Name.isin([\"Shasta\"])]\n",
    "#Hooray, it worked! Shasta the Shih Poo was successfully mapped to the Wellington-Harrington neighborhood."
   ]
  },
  {
   "cell_type": "code",
   "execution_count": 8,
   "metadata": {
    "execution": {
     "iopub.execute_input": "2021-03-15T13:55:25.952216Z",
     "iopub.status.busy": "2021-03-15T13:55:25.951710Z",
     "iopub.status.idle": "2021-03-15T13:55:26.572006Z",
     "shell.execute_reply": "2021-03-15T13:55:26.572542Z"
    },
    "papermill": {
     "duration": 0.631945,
     "end_time": "2021-03-15T13:55:26.572719",
     "exception": false,
     "start_time": "2021-03-15T13:55:25.940774",
     "status": "completed"
    },
    "tags": []
   },
   "outputs": [
    {
     "name": "stdout",
     "output_type": "stream",
     "text": [
      "Agassiz: 2 missing Dog_Breed\n",
      "Wellington-Harrington: 4 missing Dog_Breed\n",
      "Strawberry Hill: 2 missing Dog_Breed\n",
      "West Cambridge: 9 missing Dog_Breed\n",
      "Neighborhood Nine: 3 missing Dog_Breed\n",
      "North Cambridge: 4 missing Dog_Breed\n",
      "Mid-Cambridge: 3 missing Dog_Breed\n",
      "East Cambridge: 6 missing Dog_Breed\n",
      "Cambridge Highlands: 2 missing Dog_Breed\n",
      "Cambridgeport: 3 missing Dog_Breed\n",
      "Riverside: 4 missing Dog_Breed\n",
      "Area 2/MIT: 1 missing Dog_Breed\n",
      "The Port: 2 missing Dog_Breed\n"
     ]
    }
   ],
   "source": [
    "#Checking how many Dog_Breed missing in each neighborhood\n",
    "missing = {}\n",
    "for i, value in enumerate(dog_data.Neighborhood):\n",
    "    if value in missing:\n",
    "        if pd.isna(dog_data.iloc[i].Dog_Breed):\n",
    "            missing[value] += 1\n",
    "    else:\n",
    "        missing[value] = 1\n",
    "for key in missing:\n",
    "    print (key + \": \"+str(missing[key])+\" missing Dog_Breed\")"
   ]
  },
  {
   "cell_type": "code",
   "execution_count": 9,
   "metadata": {
    "execution": {
     "iopub.execute_input": "2021-03-15T13:55:26.601896Z",
     "iopub.status.busy": "2021-03-15T13:55:26.601269Z",
     "iopub.status.idle": "2021-03-15T13:55:26.605484Z",
     "shell.execute_reply": "2021-03-15T13:55:26.604898Z"
    },
    "papermill": {
     "duration": 0.023341,
     "end_time": "2021-03-15T13:55:26.605617",
     "exception": false,
     "start_time": "2021-03-15T13:55:26.582276",
     "status": "completed"
    },
    "tags": []
   },
   "outputs": [
    {
     "data": {
      "text/plain": [
       "Labrador Retriever        20\n",
       "Shih Tzu                   9\n",
       "Mix                        7\n",
       "Golden Retriever           7\n",
       "Labrador Retriever Mix     6\n",
       "                          ..\n",
       "Mini Golden Doodle         1\n",
       "Gordon Setter              1\n",
       "Maltipoo                   1\n",
       "Husky / Mix                1\n",
       "Yorkiepoo                  1\n",
       "Name: Dog_Breed, Length: 108, dtype: int64"
      ]
     },
     "execution_count": 9,
     "metadata": {},
     "output_type": "execute_result"
    }
   ],
   "source": [
    "#Partially order Dog_Breed frequency list with respect to Neighborhood\n",
    "dog_data.loc[dog_data.Neighborhood == \"Riverside\"].Dog_Breed.value_counts()"
   ]
  },
  {
   "cell_type": "code",
   "execution_count": 10,
   "metadata": {
    "execution": {
     "iopub.execute_input": "2021-03-15T13:55:26.633938Z",
     "iopub.status.busy": "2021-03-15T13:55:26.630381Z",
     "iopub.status.idle": "2021-03-15T13:55:26.641890Z",
     "shell.execute_reply": "2021-03-15T13:55:26.641197Z"
    },
    "papermill": {
     "duration": 0.026601,
     "end_time": "2021-03-15T13:55:26.642059",
     "exception": false,
     "start_time": "2021-03-15T13:55:26.615458",
     "status": "completed"
    },
    "tags": []
   },
   "outputs": [
    {
     "name": "stdout",
     "output_type": "stream",
     "text": [
      "Labrador Retriever       18\n",
      "Golden Retriever         17\n",
      "Chihuahua                16\n",
      "Maltese                  12\n",
      "Siberian Husky           12\n",
      "                         ..\n",
      "Toy Terrier Mix           1\n",
      "Weimainer                 1\n",
      "Weimaraner Mix            1\n",
      "York Terr                 1\n",
      "Yorkshire Maltese Mix     1\n",
      "Name: Dog_Breed, Length: 211, dtype: int64\n"
     ]
    }
   ],
   "source": [
    "#Figuring out how to properly order to series of Dog_Breed frequencies with respect to Neighborhood\n",
    "popularity = dog_data.loc[dog_data.Neighborhood == \"East Cambridge\"].Dog_Breed.value_counts()\n",
    "popularity = popularity.iloc[np.lexsort([popularity.index])]\n",
    "popularity = popularity.iloc[::-1]\n",
    "popularity = popularity.iloc[np.lexsort([popularity.values])]\n",
    "popularity = popularity.iloc[::-1]\n",
    "print(popularity)"
   ]
  },
  {
   "cell_type": "code",
   "execution_count": 11,
   "metadata": {
    "execution": {
     "iopub.execute_input": "2021-03-15T13:55:26.723318Z",
     "iopub.status.busy": "2021-03-15T13:55:26.692091Z",
     "iopub.status.idle": "2021-03-15T13:55:34.940005Z",
     "shell.execute_reply": "2021-03-15T13:55:34.939392Z"
    },
    "papermill": {
     "duration": 8.28707,
     "end_time": "2021-03-15T13:55:34.940175",
     "exception": false,
     "start_time": "2021-03-15T13:55:26.653105",
     "status": "completed"
    },
    "tags": []
   },
   "outputs": [],
   "source": [
    "#Filling in missing Dog_Breed based on popular breeds in each Neighborhood\n",
    "for i in range(len(neighborhood_data)):\n",
    "    popularity = dog_data.loc[dog_data.Neighborhood == neighborhood_data.iloc[i].Name].Dog_Breed.value_counts()\n",
    "    popularity = popularity.iloc[np.lexsort([popularity.index])]\n",
    "    popularity = popularity.iloc[::-1]\n",
    "    popularity = popularity.iloc[np.lexsort([popularity.values])]\n",
    "    popularity = popularity.iloc[::-1].index.tolist()\n",
    "    key = 0\n",
    "    for j in range(len(dog_data)):\n",
    "        if pd.isna(dog_data.iloc[j].Dog_Breed) and dog_data.iloc[j].Neighborhood == neighborhood_data.iloc[i].Name:\n",
    "            dog_data.at[j, \"Dog_Breed\"] = popularity[key]\n",
    "            key += 1"
   ]
  },
  {
   "cell_type": "code",
   "execution_count": 12,
   "metadata": {
    "execution": {
     "iopub.execute_input": "2021-03-15T13:55:34.967343Z",
     "iopub.status.busy": "2021-03-15T13:55:34.966153Z",
     "iopub.status.idle": "2021-03-15T13:55:34.970317Z",
     "shell.execute_reply": "2021-03-15T13:55:34.969882Z"
    },
    "papermill": {
     "duration": 0.019102,
     "end_time": "2021-03-15T13:55:34.970445",
     "exception": false,
     "start_time": "2021-03-15T13:55:34.951343",
     "status": "completed"
    },
    "tags": []
   },
   "outputs": [],
   "source": [
    "#Filling in missing Dog_Name with \"Poopsy\"\n",
    "dog_data.Dog_Name = dog_data.Dog_Name.fillna(\"Poopsy\")"
   ]
  },
  {
   "cell_type": "code",
   "execution_count": 13,
   "metadata": {
    "execution": {
     "iopub.execute_input": "2021-03-15T13:55:34.998181Z",
     "iopub.status.busy": "2021-03-15T13:55:34.997504Z",
     "iopub.status.idle": "2021-03-15T13:55:35.024686Z",
     "shell.execute_reply": "2021-03-15T13:55:35.025130Z"
    },
    "papermill": {
     "duration": 0.042779,
     "end_time": "2021-03-15T13:55:35.025306",
     "exception": false,
     "start_time": "2021-03-15T13:55:34.982527",
     "status": "completed"
    },
    "tags": []
   },
   "outputs": [
    {
     "name": "stdout",
     "output_type": "stream",
     "text": [
      "Your submission was successfully saved!\n"
     ]
    }
   ],
   "source": [
    "#Converting cleaned data to exportable csv file\n",
    "output = dog_data\n",
    "output.to_csv('Clean-Dogs-Nathan-Li.csv', index=False)\n",
    "print(\"Your submission was successfully saved!\")"
   ]
  }
 ],
 "metadata": {
  "kernelspec": {
   "display_name": "Python 3",
   "language": "python",
   "name": "python3"
  },
  "language_info": {
   "codemirror_mode": {
    "name": "ipython",
    "version": 3
   },
   "file_extension": ".py",
   "mimetype": "text/x-python",
   "name": "python",
   "nbconvert_exporter": "python",
   "pygments_lexer": "ipython3",
   "version": "3.7.9"
  },
  "papermill": {
   "default_parameters": {},
   "duration": 17.401337,
   "end_time": "2021-03-15T13:55:35.544686",
   "environment_variables": {},
   "exception": null,
   "input_path": "__notebook__.ipynb",
   "output_path": "__notebook__.ipynb",
   "parameters": {},
   "start_time": "2021-03-15T13:55:18.143349",
   "version": "2.2.2"
  }
 },
 "nbformat": 4,
 "nbformat_minor": 4
}
