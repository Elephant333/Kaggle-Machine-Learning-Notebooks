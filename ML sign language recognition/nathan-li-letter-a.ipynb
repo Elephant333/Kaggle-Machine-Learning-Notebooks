{
 "cells": [
  {
   "cell_type": "code",
   "execution_count": 1,
   "id": "sorted-freight",
   "metadata": {
    "_cell_guid": "b1076dfc-b9ad-4769-8c92-a6c4dae69d19",
    "_uuid": "8f2839f25d086af736a60e9eeb907d3b93b6e0e5",
    "execution": {
     "iopub.execute_input": "2021-05-04T13:04:59.150339Z",
     "iopub.status.busy": "2021-05-04T13:04:59.149188Z",
     "iopub.status.idle": "2021-05-04T13:04:59.168849Z",
     "shell.execute_reply": "2021-05-04T13:04:59.169355Z"
    },
    "papermill": {
     "duration": 0.030315,
     "end_time": "2021-05-04T13:04:59.169663",
     "exception": false,
     "start_time": "2021-05-04T13:04:59.139348",
     "status": "completed"
    },
    "tags": []
   },
   "outputs": [
    {
     "name": "stdout",
     "output_type": "stream",
     "text": [
      "/kaggle/input/lettera/Data.csv\n"
     ]
    }
   ],
   "source": [
    "# This Python 3 environment comes with many helpful analytics libraries installed\n",
    "# It is defined by the kaggle/python Docker image: https://github.com/kaggle/docker-python\n",
    "# For example, here's several helpful packages to load\n",
    "\n",
    "import numpy as np # linear algebra\n",
    "import pandas as pd # data processing, CSV file I/O (e.g. pd.read_csv)\n",
    "\n",
    "# Input data files are available in the read-only \"../input/\" directory\n",
    "# For example, running this (by clicking run or pressing Shift+Enter) will list all files under the input directory\n",
    "\n",
    "import os\n",
    "for dirname, _, filenames in os.walk('/kaggle/input'):\n",
    "    for filename in filenames:\n",
    "        print(os.path.join(dirname, filename))\n",
    "\n",
    "# You can write up to 20GB to the current directory (/kaggle/working/) that gets preserved as output when you create a version using \"Save & Run All\" \n",
    "# You can also write temporary files to /kaggle/temp/, but they won't be saved outside of the current session"
   ]
  },
  {
   "cell_type": "code",
   "execution_count": 2,
   "id": "serial-alcohol",
   "metadata": {
    "execution": {
     "iopub.execute_input": "2021-05-04T13:04:59.184626Z",
     "iopub.status.busy": "2021-05-04T13:04:59.183953Z",
     "iopub.status.idle": "2021-05-04T13:04:59.253448Z",
     "shell.execute_reply": "2021-05-04T13:04:59.254052Z"
    },
    "papermill": {
     "duration": 0.07841,
     "end_time": "2021-05-04T13:04:59.254250",
     "exception": false,
     "start_time": "2021-05-04T13:04:59.175840",
     "status": "completed"
    },
    "tags": []
   },
   "outputs": [
    {
     "data": {
      "text/html": [
       "<div>\n",
       "<style scoped>\n",
       "    .dataframe tbody tr th:only-of-type {\n",
       "        vertical-align: middle;\n",
       "    }\n",
       "\n",
       "    .dataframe tbody tr th {\n",
       "        vertical-align: top;\n",
       "    }\n",
       "\n",
       "    .dataframe thead th {\n",
       "        text-align: right;\n",
       "    }\n",
       "</style>\n",
       "<table border=\"1\" class=\"dataframe\">\n",
       "  <thead>\n",
       "    <tr style=\"text-align: right;\">\n",
       "      <th></th>\n",
       "      <th>grabStrength</th>\n",
       "      <th>palmNormalX</th>\n",
       "      <th>palmNormalY</th>\n",
       "      <th>palmNormalZ</th>\n",
       "      <th>palmPositionX</th>\n",
       "      <th>palmPositionY</th>\n",
       "      <th>palmPositionZ</th>\n",
       "      <th>stabilizedPalmPositionX</th>\n",
       "      <th>stabilizedPalmPositionY</th>\n",
       "      <th>stabilizedPalmPositionZ</th>\n",
       "      <th>...</th>\n",
       "      <th>Finger4mcpPositionX</th>\n",
       "      <th>Finger4mcpPositionY</th>\n",
       "      <th>Finger4mcpPositionZ</th>\n",
       "      <th>Finger4pipPositionX</th>\n",
       "      <th>Finger4pipPositionY</th>\n",
       "      <th>Finger4pipPositionZ</th>\n",
       "      <th>Finger4tipPositionX</th>\n",
       "      <th>Finger4tipPositionY</th>\n",
       "      <th>Finger4tipPositionZ</th>\n",
       "      <th>Letter</th>\n",
       "    </tr>\n",
       "  </thead>\n",
       "  <tbody>\n",
       "    <tr>\n",
       "      <th>0</th>\n",
       "      <td>1.0</td>\n",
       "      <td>0.316277</td>\n",
       "      <td>-0.899165</td>\n",
       "      <td>-0.302443</td>\n",
       "      <td>8.75897</td>\n",
       "      <td>121.553</td>\n",
       "      <td>-6.87139</td>\n",
       "      <td>5.74571</td>\n",
       "      <td>111.576</td>\n",
       "      <td>3.27893</td>\n",
       "      <td>...</td>\n",
       "      <td>-20.9447</td>\n",
       "      <td>119.546</td>\n",
       "      <td>-31.9654</td>\n",
       "      <td>-0.267190</td>\n",
       "      <td>93.5099</td>\n",
       "      <td>-42.1754</td>\n",
       "      <td>-0.032602</td>\n",
       "      <td>89.6613</td>\n",
       "      <td>-13.1510</td>\n",
       "      <td>1</td>\n",
       "    </tr>\n",
       "    <tr>\n",
       "      <th>1</th>\n",
       "      <td>1.0</td>\n",
       "      <td>0.251912</td>\n",
       "      <td>-0.929963</td>\n",
       "      <td>-0.267784</td>\n",
       "      <td>9.27760</td>\n",
       "      <td>116.851</td>\n",
       "      <td>-13.91970</td>\n",
       "      <td>7.89428</td>\n",
       "      <td>115.678</td>\n",
       "      <td>-13.29370</td>\n",
       "      <td>...</td>\n",
       "      <td>-20.0056</td>\n",
       "      <td>116.307</td>\n",
       "      <td>-39.5759</td>\n",
       "      <td>-1.163270</td>\n",
       "      <td>88.2638</td>\n",
       "      <td>-47.8372</td>\n",
       "      <td>-1.411540</td>\n",
       "      <td>84.6170</td>\n",
       "      <td>-17.5443</td>\n",
       "      <td>1</td>\n",
       "    </tr>\n",
       "    <tr>\n",
       "      <th>2</th>\n",
       "      <td>1.0</td>\n",
       "      <td>0.247850</td>\n",
       "      <td>-0.930583</td>\n",
       "      <td>-0.269416</td>\n",
       "      <td>9.08188</td>\n",
       "      <td>116.606</td>\n",
       "      <td>-13.51540</td>\n",
       "      <td>8.06055</td>\n",
       "      <td>115.800</td>\n",
       "      <td>-13.33880</td>\n",
       "      <td>...</td>\n",
       "      <td>-20.1071</td>\n",
       "      <td>116.292</td>\n",
       "      <td>-39.2826</td>\n",
       "      <td>-1.385810</td>\n",
       "      <td>88.1795</td>\n",
       "      <td>-47.5820</td>\n",
       "      <td>-1.670830</td>\n",
       "      <td>84.2455</td>\n",
       "      <td>-17.2408</td>\n",
       "      <td>1</td>\n",
       "    </tr>\n",
       "    <tr>\n",
       "      <th>3</th>\n",
       "      <td>1.0</td>\n",
       "      <td>0.260429</td>\n",
       "      <td>-0.924435</td>\n",
       "      <td>-0.278562</td>\n",
       "      <td>9.30693</td>\n",
       "      <td>116.008</td>\n",
       "      <td>-12.70850</td>\n",
       "      <td>8.21342</td>\n",
       "      <td>115.558</td>\n",
       "      <td>-12.90350</td>\n",
       "      <td>...</td>\n",
       "      <td>-20.0348</td>\n",
       "      <td>115.453</td>\n",
       "      <td>-38.2975</td>\n",
       "      <td>-0.922521</td>\n",
       "      <td>87.6897</td>\n",
       "      <td>-46.8758</td>\n",
       "      <td>-0.946492</td>\n",
       "      <td>83.4027</td>\n",
       "      <td>-16.5623</td>\n",
       "      <td>1</td>\n",
       "    </tr>\n",
       "    <tr>\n",
       "      <th>4</th>\n",
       "      <td>1.0</td>\n",
       "      <td>0.251308</td>\n",
       "      <td>-0.929858</td>\n",
       "      <td>-0.268715</td>\n",
       "      <td>9.70139</td>\n",
       "      <td>115.929</td>\n",
       "      <td>-12.32930</td>\n",
       "      <td>8.42703</td>\n",
       "      <td>115.584</td>\n",
       "      <td>-12.81140</td>\n",
       "      <td>...</td>\n",
       "      <td>-19.7613</td>\n",
       "      <td>115.320</td>\n",
       "      <td>-37.7778</td>\n",
       "      <td>-0.936266</td>\n",
       "      <td>87.3243</td>\n",
       "      <td>-46.2357</td>\n",
       "      <td>-0.768357</td>\n",
       "      <td>83.2537</td>\n",
       "      <td>-15.8121</td>\n",
       "      <td>1</td>\n",
       "    </tr>\n",
       "  </tbody>\n",
       "</table>\n",
       "<p>5 rows × 134 columns</p>\n",
       "</div>"
      ],
      "text/plain": [
       "   grabStrength  palmNormalX  palmNormalY  palmNormalZ  palmPositionX  \\\n",
       "0           1.0     0.316277    -0.899165    -0.302443        8.75897   \n",
       "1           1.0     0.251912    -0.929963    -0.267784        9.27760   \n",
       "2           1.0     0.247850    -0.930583    -0.269416        9.08188   \n",
       "3           1.0     0.260429    -0.924435    -0.278562        9.30693   \n",
       "4           1.0     0.251308    -0.929858    -0.268715        9.70139   \n",
       "\n",
       "   palmPositionY  palmPositionZ  stabilizedPalmPositionX  \\\n",
       "0        121.553       -6.87139                  5.74571   \n",
       "1        116.851      -13.91970                  7.89428   \n",
       "2        116.606      -13.51540                  8.06055   \n",
       "3        116.008      -12.70850                  8.21342   \n",
       "4        115.929      -12.32930                  8.42703   \n",
       "\n",
       "   stabilizedPalmPositionY  stabilizedPalmPositionZ  ...  Finger4mcpPositionX  \\\n",
       "0                  111.576                  3.27893  ...             -20.9447   \n",
       "1                  115.678                -13.29370  ...             -20.0056   \n",
       "2                  115.800                -13.33880  ...             -20.1071   \n",
       "3                  115.558                -12.90350  ...             -20.0348   \n",
       "4                  115.584                -12.81140  ...             -19.7613   \n",
       "\n",
       "   Finger4mcpPositionY  Finger4mcpPositionZ  Finger4pipPositionX  \\\n",
       "0              119.546             -31.9654            -0.267190   \n",
       "1              116.307             -39.5759            -1.163270   \n",
       "2              116.292             -39.2826            -1.385810   \n",
       "3              115.453             -38.2975            -0.922521   \n",
       "4              115.320             -37.7778            -0.936266   \n",
       "\n",
       "   Finger4pipPositionY  Finger4pipPositionZ  Finger4tipPositionX  \\\n",
       "0              93.5099             -42.1754            -0.032602   \n",
       "1              88.2638             -47.8372            -1.411540   \n",
       "2              88.1795             -47.5820            -1.670830   \n",
       "3              87.6897             -46.8758            -0.946492   \n",
       "4              87.3243             -46.2357            -0.768357   \n",
       "\n",
       "   Finger4tipPositionY  Finger4tipPositionZ  Letter  \n",
       "0              89.6613             -13.1510       1  \n",
       "1              84.6170             -17.5443       1  \n",
       "2              84.2455             -17.2408       1  \n",
       "3              83.4027             -16.5623       1  \n",
       "4              83.2537             -15.8121       1  \n",
       "\n",
       "[5 rows x 134 columns]"
      ]
     },
     "execution_count": 2,
     "metadata": {},
     "output_type": "execute_result"
    }
   ],
   "source": [
    "hand_data = pd.read_csv(\"/kaggle/input/lettera/Data.csv\")\n",
    "hand_data.head()"
   ]
  },
  {
   "cell_type": "code",
   "execution_count": 3,
   "id": "meaningful-services",
   "metadata": {
    "execution": {
     "iopub.execute_input": "2021-05-04T13:04:59.269955Z",
     "iopub.status.busy": "2021-05-04T13:04:59.269332Z",
     "iopub.status.idle": "2021-05-04T13:05:00.611862Z",
     "shell.execute_reply": "2021-05-04T13:05:00.612405Z"
    },
    "papermill": {
     "duration": 1.352087,
     "end_time": "2021-05-04T13:05:00.612602",
     "exception": false,
     "start_time": "2021-05-04T13:04:59.260515",
     "status": "completed"
    },
    "tags": []
   },
   "outputs": [],
   "source": [
    "from sklearn.ensemble import RandomForestClassifier, GradientBoostingClassifier\n",
    "from sklearn.metrics import accuracy_score #used instead of MAE because the letter A problem is a classification type, not regressiosn\n",
    "from sklearn.model_selection import train_test_split"
   ]
  },
  {
   "cell_type": "code",
   "execution_count": 4,
   "id": "eight-square",
   "metadata": {
    "execution": {
     "iopub.execute_input": "2021-05-04T13:05:00.628998Z",
     "iopub.status.busy": "2021-05-04T13:05:00.628356Z",
     "iopub.status.idle": "2021-05-04T13:05:00.636084Z",
     "shell.execute_reply": "2021-05-04T13:05:00.636566Z"
    },
    "papermill": {
     "duration": 0.017692,
     "end_time": "2021-05-04T13:05:00.636812",
     "exception": false,
     "start_time": "2021-05-04T13:05:00.619120",
     "status": "completed"
    },
    "tags": []
   },
   "outputs": [],
   "source": [
    "y = hand_data[\"Letter\"]\n",
    "X = hand_data.drop(\"Letter\", axis = 1)\n",
    "train_X, val_X, train_y, val_y = train_test_split(X, y, test_size = 0.2, random_state = 1)"
   ]
  },
  {
   "cell_type": "code",
   "execution_count": 5,
   "id": "frequent-saudi",
   "metadata": {
    "execution": {
     "iopub.execute_input": "2021-05-04T13:05:00.653098Z",
     "iopub.status.busy": "2021-05-04T13:05:00.652413Z",
     "iopub.status.idle": "2021-05-04T13:05:00.752268Z",
     "shell.execute_reply": "2021-05-04T13:05:00.752794Z"
    },
    "papermill": {
     "duration": 0.109714,
     "end_time": "2021-05-04T13:05:00.752963",
     "exception": false,
     "start_time": "2021-05-04T13:05:00.643249",
     "status": "completed"
    },
    "tags": []
   },
   "outputs": [
    {
     "name": "stdout",
     "output_type": "stream",
     "text": [
      "The accuracy of the Gradient Boosting Classifier is 100.0\n"
     ]
    }
   ],
   "source": [
    "model = GradientBoostingClassifier(random_state=1)\n",
    "model.fit(train_X, train_y)\n",
    "predictions = model.predict(val_X)\n",
    "\n",
    "print('The accuracy of the Gradient Boosting Classifier is',round(accuracy_score(val_y,predictions)*100,2))"
   ]
  }
 ],
 "metadata": {
  "kernelspec": {
   "display_name": "Python 3",
   "language": "python",
   "name": "python3"
  },
  "language_info": {
   "codemirror_mode": {
    "name": "ipython",
    "version": 3
   },
   "file_extension": ".py",
   "mimetype": "text/x-python",
   "name": "python",
   "nbconvert_exporter": "python",
   "pygments_lexer": "ipython3",
   "version": "3.7.9"
  },
  "papermill": {
   "default_parameters": {},
   "duration": 8.662735,
   "end_time": "2021-05-04T13:05:01.470040",
   "environment_variables": {},
   "exception": null,
   "input_path": "__notebook__.ipynb",
   "output_path": "__notebook__.ipynb",
   "parameters": {},
   "start_time": "2021-05-04T13:04:52.807305",
   "version": "2.3.2"
  }
 },
 "nbformat": 4,
 "nbformat_minor": 5
}
