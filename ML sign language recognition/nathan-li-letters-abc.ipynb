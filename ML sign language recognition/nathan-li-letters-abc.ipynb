{
 "cells": [
  {
   "cell_type": "code",
   "execution_count": 1,
   "id": "consistent-torture",
   "metadata": {
    "_cell_guid": "b1076dfc-b9ad-4769-8c92-a6c4dae69d19",
    "_uuid": "8f2839f25d086af736a60e9eeb907d3b93b6e0e5",
    "execution": {
     "iopub.execute_input": "2021-05-14T13:44:08.683248Z",
     "iopub.status.busy": "2021-05-14T13:44:08.682571Z",
     "iopub.status.idle": "2021-05-14T13:44:08.696548Z",
     "shell.execute_reply": "2021-05-14T13:44:08.694738Z"
    },
    "papermill": {
     "duration": 0.023512,
     "end_time": "2021-05-14T13:44:08.696740",
     "exception": false,
     "start_time": "2021-05-14T13:44:08.673228",
     "status": "completed"
    },
    "tags": []
   },
   "outputs": [
    {
     "name": "stdout",
     "output_type": "stream",
     "text": [
      "/kaggle/input/lettersabc/LettersABC.csv\n"
     ]
    }
   ],
   "source": [
    "#Nathan Li - Letters ABC - 5/14/2021\n",
    "\n",
    "# This Python 3 environment comes with many helpful analytics libraries installed\n",
    "# It is defined by the kaggle/python Docker image: https://github.com/kaggle/docker-python\n",
    "# For example, here's several helpful packages to load\n",
    "\n",
    "import numpy as np # linear algebra\n",
    "import pandas as pd # data processing, CSV file I/O (e.g. pd.read_csv)\n",
    "\n",
    "# Input data files are available in the read-only \"../input/\" directory\n",
    "# For example, running this (by clicking run or pressing Shift+Enter) will list all files under the input directory\n",
    "\n",
    "import os\n",
    "for dirname, _, filenames in os.walk('/kaggle/input'):\n",
    "    for filename in filenames:\n",
    "        print(os.path.join(dirname, filename))\n",
    "\n",
    "# You can write up to 20GB to the current directory (/kaggle/working/) that gets preserved as output when you create a version using \"Save & Run All\" \n",
    "# You can also write temporary files to /kaggle/temp/, but they won't be saved outside of the current session"
   ]
  },
  {
   "cell_type": "code",
   "execution_count": 2,
   "id": "greatest-scene",
   "metadata": {
    "execution": {
     "iopub.execute_input": "2021-05-14T13:44:08.710524Z",
     "iopub.status.busy": "2021-05-14T13:44:08.709881Z",
     "iopub.status.idle": "2021-05-14T13:44:08.743244Z",
     "shell.execute_reply": "2021-05-14T13:44:08.742697Z"
    },
    "papermill": {
     "duration": 0.041952,
     "end_time": "2021-05-14T13:44:08.743462",
     "exception": false,
     "start_time": "2021-05-14T13:44:08.701510",
     "status": "completed"
    },
    "tags": []
   },
   "outputs": [],
   "source": [
    "hand_data = pd.read_csv(\"/kaggle/input/lettersabc/LettersABC.csv\")\n",
    "hand_data.head()\n",
    "hand_data.drop(59, inplace=True)"
   ]
  },
  {
   "cell_type": "code",
   "execution_count": 3,
   "id": "objective-blogger",
   "metadata": {
    "execution": {
     "iopub.execute_input": "2021-05-14T13:44:08.757480Z",
     "iopub.status.busy": "2021-05-14T13:44:08.756860Z",
     "iopub.status.idle": "2021-05-14T13:44:14.892277Z",
     "shell.execute_reply": "2021-05-14T13:44:14.892699Z"
    },
    "papermill": {
     "duration": 6.144816,
     "end_time": "2021-05-14T13:44:14.892879",
     "exception": false,
     "start_time": "2021-05-14T13:44:08.748063",
     "status": "completed"
    },
    "tags": []
   },
   "outputs": [],
   "source": [
    "from tensorflow import keras\n",
    "from tensorflow.keras import layers, callbacks\n",
    "from sklearn.model_selection import train_test_split"
   ]
  },
  {
   "cell_type": "code",
   "execution_count": 4,
   "id": "third-justice",
   "metadata": {
    "execution": {
     "iopub.execute_input": "2021-05-14T13:44:14.904380Z",
     "iopub.status.busy": "2021-05-14T13:44:14.903523Z",
     "iopub.status.idle": "2021-05-14T13:44:19.280177Z",
     "shell.execute_reply": "2021-05-14T13:44:19.279665Z"
    },
    "papermill": {
     "duration": 4.383359,
     "end_time": "2021-05-14T13:44:19.280349",
     "exception": false,
     "start_time": "2021-05-14T13:44:14.896990",
     "status": "completed"
    },
    "tags": []
   },
   "outputs": [
    {
     "name": "stdout",
     "output_type": "stream",
     "text": [
      "Epoch 1/20\n",
      "7/7 [==============================] - 1s 95ms/step - loss: 1.9998e-07 - categorical_accuracy: 1.0000 - val_loss: 2.5946e-07 - val_categorical_accuracy: 1.0000\n",
      "Epoch 2/20\n",
      "7/7 [==============================] - 0s 21ms/step - loss: 1.8682e-07 - categorical_accuracy: 1.0000 - val_loss: 2.5946e-07 - val_categorical_accuracy: 1.0000\n",
      "Epoch 3/20\n",
      "7/7 [==============================] - 0s 21ms/step - loss: 1.8454e-07 - categorical_accuracy: 1.0000 - val_loss: 2.5946e-07 - val_categorical_accuracy: 1.0000\n",
      "Epoch 4/20\n",
      "7/7 [==============================] - 0s 20ms/step - loss: 1.9387e-07 - categorical_accuracy: 1.0000 - val_loss: 2.5946e-07 - val_categorical_accuracy: 1.0000\n",
      "Epoch 5/20\n",
      "7/7 [==============================] - 0s 19ms/step - loss: 1.9646e-07 - categorical_accuracy: 1.0000 - val_loss: 2.5946e-07 - val_categorical_accuracy: 1.0000\n",
      "Epoch 6/20\n",
      "7/7 [==============================] - 0s 20ms/step - loss: 1.8637e-07 - categorical_accuracy: 1.0000 - val_loss: 2.5946e-07 - val_categorical_accuracy: 1.0000\n",
      "Epoch 7/20\n",
      "7/7 [==============================] - 0s 21ms/step - loss: 1.9440e-07 - categorical_accuracy: 1.0000 - val_loss: 2.5946e-07 - val_categorical_accuracy: 1.0000\n",
      "Epoch 8/20\n",
      "7/7 [==============================] - 0s 21ms/step - loss: 2.0090e-07 - categorical_accuracy: 1.0000 - val_loss: 2.5946e-07 - val_categorical_accuracy: 1.0000\n",
      "Epoch 9/20\n",
      "7/7 [==============================] - 0s 21ms/step - loss: 1.8926e-07 - categorical_accuracy: 1.0000 - val_loss: 2.5946e-07 - val_categorical_accuracy: 1.0000\n",
      "Epoch 10/20\n",
      "7/7 [==============================] - 0s 19ms/step - loss: 1.9976e-07 - categorical_accuracy: 1.0000 - val_loss: 2.5946e-07 - val_categorical_accuracy: 1.0000\n",
      "Epoch 11/20\n",
      "7/7 [==============================] - 0s 19ms/step - loss: 1.9708e-07 - categorical_accuracy: 1.0000 - val_loss: 2.5946e-07 - val_categorical_accuracy: 1.0000\n",
      "Epoch 12/20\n",
      "7/7 [==============================] - 0s 20ms/step - loss: 1.7371e-07 - categorical_accuracy: 1.0000 - val_loss: 2.5946e-07 - val_categorical_accuracy: 1.0000\n",
      "Epoch 13/20\n",
      "7/7 [==============================] - 0s 20ms/step - loss: 1.7666e-07 - categorical_accuracy: 1.0000 - val_loss: 2.5946e-07 - val_categorical_accuracy: 1.0000\n",
      "Epoch 14/20\n",
      "7/7 [==============================] - 0s 21ms/step - loss: 1.7624e-07 - categorical_accuracy: 1.0000 - val_loss: 2.5946e-07 - val_categorical_accuracy: 1.0000\n",
      "Epoch 15/20\n",
      "7/7 [==============================] - 0s 22ms/step - loss: 1.8903e-07 - categorical_accuracy: 1.0000 - val_loss: 2.5946e-07 - val_categorical_accuracy: 1.0000\n",
      "Epoch 16/20\n",
      "7/7 [==============================] - 0s 20ms/step - loss: 1.8806e-07 - categorical_accuracy: 1.0000 - val_loss: 2.5946e-07 - val_categorical_accuracy: 1.0000\n",
      "Epoch 17/20\n",
      "7/7 [==============================] - 0s 21ms/step - loss: 1.8329e-07 - categorical_accuracy: 1.0000 - val_loss: 2.5946e-07 - val_categorical_accuracy: 1.0000\n",
      "Epoch 18/20\n",
      "7/7 [==============================] - 0s 21ms/step - loss: 1.8896e-07 - categorical_accuracy: 1.0000 - val_loss: 2.5946e-07 - val_categorical_accuracy: 1.0000\n",
      "Epoch 19/20\n",
      "7/7 [==============================] - 0s 20ms/step - loss: 1.9780e-07 - categorical_accuracy: 1.0000 - val_loss: 2.5946e-07 - val_categorical_accuracy: 1.0000\n",
      "Epoch 20/20\n",
      "7/7 [==============================] - 0s 21ms/step - loss: 1.9358e-07 - categorical_accuracy: 1.0000 - val_loss: 2.5946e-07 - val_categorical_accuracy: 1.0000\n"
     ]
    },
    {
     "data": {
      "image/png": "[encoded data removed]",
      "text/plain": [
       "<Figure size 432x288 with 1 Axes>"
      ]
     },
     "metadata": {
      "needs_background": "light"
     },
     "output_type": "display_data"
    },
    {
     "data": {
      "image/png": "[encoded data removed]",
      "text/plain": [
       "<Figure size 432x288 with 1 Axes>"
      ]
     },
     "metadata": {
      "needs_background": "light"
     },
     "output_type": "display_data"
    }
   ],
   "source": [
    "model = keras.Sequential([\n",
    "    layers.Dense(1024, activation='relu', input_shape=[133]),\n",
    "    layers.Dense(1024, activation='relu'),\n",
    "    layers.Dense(1024, activation='relu'),\n",
    "    layers.Dense(1),\n",
    "])\n",
    "\n",
    "model.compile(\n",
    "    optimizer='adam',\n",
    "    loss='categorical_crossentropy',\n",
    "    metrics=['categorical_accuracy']\n",
    ")\n",
    "\n",
    "y = hand_data[\"Letter\"]\n",
    "X = hand_data.drop(\"Letter\", axis = 1)\n",
    "train_X, val_X, train_y, val_y = train_test_split(X, y, test_size = 0.2, random_state = 1)\n",
    "\n",
    "history = model.fit(\n",
    "    train_X, train_y,\n",
    "    validation_data=(val_X, val_y),\n",
    "    batch_size=10,\n",
    "    epochs=20,\n",
    ")\n",
    "\n",
    "# convert the training history to a dataframe\n",
    "history_df = pd.DataFrame(history.history)\n",
    "# use Pandas native plot method\n",
    "history_df[['loss', 'val_loss']].plot();\n",
    "history_df[['categorical_accuracy', 'val_categorical_accuracy']].plot();"
   ]
  },
  {
   "cell_type": "markdown",
   "id": "sustainable-cable",
   "metadata": {
    "papermill": {
     "duration": 0.019084,
     "end_time": "2021-05-14T13:44:19.319059",
     "exception": false,
     "start_time": "2021-05-14T13:44:19.299975",
     "status": "completed"
    },
    "tags": []
   },
   "source": [
    "It's important to note that this used categorical loss and accuracy metrics instead of MAE because identifying letters ABC relates to classification, not regression."
   ]
  }
 ],
 "metadata": {
  "kernelspec": {
   "display_name": "Python 3",
   "language": "python",
   "name": "python3"
  },
  "language_info": {
   "codemirror_mode": {
    "name": "ipython",
    "version": 3
   },
   "file_extension": ".py",
   "mimetype": "text/x-python",
   "name": "python",
   "nbconvert_exporter": "python",
   "pygments_lexer": "ipython3",
   "version": "3.7.9"
  },
  "papermill": {
   "default_parameters": {},
   "duration": 16.987591,
   "end_time": "2021-05-14T13:44:20.448871",
   "environment_variables": {},
   "exception": null,
   "input_path": "__notebook__.ipynb",
   "output_path": "__notebook__.ipynb",
   "parameters": {},
   "start_time": "2021-05-14T13:44:03.461280",
   "version": "2.3.2"
  }
 },
 "nbformat": 4,
 "nbformat_minor": 5
}
