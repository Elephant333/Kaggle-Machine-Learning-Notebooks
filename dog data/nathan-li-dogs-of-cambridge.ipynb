{
 "cells": [
  {
   "cell_type": "code",
   "execution_count": 1,
   "metadata": {
    "_cell_guid": "b1076dfc-b9ad-4769-8c92-a6c4dae69d19",
    "_uuid": "8f2839f25d086af736a60e9eeb907d3b93b6e0e5",
    "execution": {
     "iopub.execute_input": "2021-03-11T22:28:29.971643Z",
     "iopub.status.busy": "2021-03-11T22:28:29.970720Z",
     "iopub.status.idle": "2021-03-11T22:28:29.987749Z",
     "shell.execute_reply": "2021-03-11T22:28:29.988363Z"
    },
    "papermill": {
     "duration": 0.028029,
     "end_time": "2021-03-11T22:28:29.988701",
     "exception": false,
     "start_time": "2021-03-11T22:28:29.960672",
     "status": "completed"
    },
    "tags": []
   },
   "outputs": [
    {
     "name": "stdout",
     "output_type": "stream",
     "text": [
      "/kaggle/input/dogs-of-cambridge/Dogs_of_Cambridge.csv\n"
     ]
    }
   ],
   "source": [
    "# This Python 3 environment comes with many helpful analytics libraries installed\n",
    "# It is defined by the kaggle/python Docker image: https://github.com/kaggle/docker-python\n",
    "# For example, here's several helpful packages to load\n",
    "\n",
    "import numpy as np # linear algebra\n",
    "import pandas as pd # data processing, CSV file I/O (e.g. pd.read_csv)\n",
    "\n",
    "# Input data files are available in the read-only \"../input/\" directory\n",
    "# For example, running this (by clicking run or pressing Shift+Enter) will list all files under the input directory\n",
    "\n",
    "import os\n",
    "for dirname, _, filenames in os.walk('/kaggle/input'):\n",
    "    for filename in filenames:\n",
    "        print(os.path.join(dirname, filename))\n",
    "\n",
    "# You can write up to 20GB to the current directory (/kaggle/working/) that gets preserved as output when you create a version using \"Save & Run All\" \n",
    "# You can also write temporary files to /kaggle/temp/, but they won't be saved outside of the current session"
   ]
  },
  {
   "cell_type": "code",
   "execution_count": 2,
   "metadata": {
    "execution": {
     "iopub.execute_input": "2021-03-11T22:28:30.008570Z",
     "iopub.status.busy": "2021-03-11T22:28:30.007730Z",
     "iopub.status.idle": "2021-03-11T22:28:30.061061Z",
     "shell.execute_reply": "2021-03-11T22:28:30.060243Z"
    },
    "papermill": {
     "duration": 0.065503,
     "end_time": "2021-03-11T22:28:30.061335",
     "exception": false,
     "start_time": "2021-03-11T22:28:29.995832",
     "status": "completed"
    },
    "tags": []
   },
   "outputs": [
    {
     "data": {
      "text/html": [
       "<div>\n",
       "<style scoped>\n",
       "    .dataframe tbody tr th:only-of-type {\n",
       "        vertical-align: middle;\n",
       "    }\n",
       "\n",
       "    .dataframe tbody tr th {\n",
       "        vertical-align: top;\n",
       "    }\n",
       "\n",
       "    .dataframe thead th {\n",
       "        text-align: right;\n",
       "    }\n",
       "</style>\n",
       "<table border=\"1\" class=\"dataframe\">\n",
       "  <thead>\n",
       "    <tr style=\"text-align: right;\">\n",
       "      <th></th>\n",
       "      <th>Dog_Name</th>\n",
       "      <th>Dog_Breed</th>\n",
       "      <th>Location_masked</th>\n",
       "      <th>Latitude_masked</th>\n",
       "      <th>Longitude_masked</th>\n",
       "      <th>Neighborhood</th>\n",
       "    </tr>\n",
       "  </thead>\n",
       "  <tbody>\n",
       "    <tr>\n",
       "      <th>0</th>\n",
       "      <td>Ella</td>\n",
       "      <td>Golden Retriever</td>\n",
       "      <td>(42.38138453, -71.10963321)</td>\n",
       "      <td>-71.109633</td>\n",
       "      <td>-71.109633</td>\n",
       "      <td>Agassiz</td>\n",
       "    </tr>\n",
       "    <tr>\n",
       "      <th>1</th>\n",
       "      <td>Nalah</td>\n",
       "      <td>Mix</td>\n",
       "      <td>(42.37476908, -71.09690009)</td>\n",
       "      <td>-71.096900</td>\n",
       "      <td>-71.096900</td>\n",
       "      <td>Wellington-Harrington</td>\n",
       "    </tr>\n",
       "    <tr>\n",
       "      <th>2</th>\n",
       "      <td>Mic</td>\n",
       "      <td>Havanese</td>\n",
       "      <td>(42.37560824, -71.15602601)</td>\n",
       "      <td>-71.156026</td>\n",
       "      <td>-71.156026</td>\n",
       "      <td>NaN</td>\n",
       "    </tr>\n",
       "    <tr>\n",
       "      <th>3</th>\n",
       "      <td>Cash</td>\n",
       "      <td>Labrador Retriever</td>\n",
       "      <td>(42.37200905, -71.0955469)</td>\n",
       "      <td>-71.095547</td>\n",
       "      <td>-71.095547</td>\n",
       "      <td>Wellington-Harrington</td>\n",
       "    </tr>\n",
       "    <tr>\n",
       "      <th>4</th>\n",
       "      <td>Barley</td>\n",
       "      <td>Labradoodle</td>\n",
       "      <td>(42.37426564, -71.13756283)</td>\n",
       "      <td>-71.137563</td>\n",
       "      <td>-71.137563</td>\n",
       "      <td>West Cambridge</td>\n",
       "    </tr>\n",
       "  </tbody>\n",
       "</table>\n",
       "</div>"
      ],
      "text/plain": [
       "  Dog_Name           Dog_Breed              Location_masked  Latitude_masked  \\\n",
       "0     Ella    Golden Retriever  (42.38138453, -71.10963321)       -71.109633   \n",
       "1    Nalah                 Mix  (42.37476908, -71.09690009)       -71.096900   \n",
       "2      Mic            Havanese  (42.37560824, -71.15602601)       -71.156026   \n",
       "3     Cash  Labrador Retriever   (42.37200905, -71.0955469)       -71.095547   \n",
       "4   Barley         Labradoodle  (42.37426564, -71.13756283)       -71.137563   \n",
       "\n",
       "   Longitude_masked           Neighborhood  \n",
       "0        -71.109633                Agassiz  \n",
       "1        -71.096900  Wellington-Harrington  \n",
       "2        -71.156026                    NaN  \n",
       "3        -71.095547  Wellington-Harrington  \n",
       "4        -71.137563         West Cambridge  "
      ]
     },
     "execution_count": 2,
     "metadata": {},
     "output_type": "execute_result"
    }
   ],
   "source": [
    "dog_data = pd.read_csv(\"/kaggle/input/dogs-of-cambridge/Dogs_of_Cambridge.csv\")\n",
    "dog_data.head()"
   ]
  },
  {
   "cell_type": "code",
   "execution_count": 3,
   "metadata": {
    "execution": {
     "iopub.execute_input": "2021-03-11T22:28:30.086857Z",
     "iopub.status.busy": "2021-03-11T22:28:30.085873Z",
     "iopub.status.idle": "2021-03-11T22:28:30.091263Z",
     "shell.execute_reply": "2021-03-11T22:28:30.090757Z"
    },
    "papermill": {
     "duration": 0.022754,
     "end_time": "2021-03-11T22:28:30.091425",
     "exception": false,
     "start_time": "2021-03-11T22:28:30.068671",
     "status": "completed"
    },
    "tags": []
   },
   "outputs": [
    {
     "name": "stdout",
     "output_type": "stream",
     "text": [
      "Dog_Name: 3 missing values\n",
      "Dog_Breed: 32 missing values\n",
      "Location_masked: 0 missing values\n",
      "Latitude_masked: 0 missing values\n",
      "Longitude_masked: 0 missing values\n",
      "Neighborhood: 40 missing values\n"
     ]
    }
   ],
   "source": [
    "#Find missing data\n",
    "for i in dog_data.columns:\n",
    "    print (i + \": \"+str(sum(dog_data[i].isnull()))+\" missing values\")"
   ]
  },
  {
   "cell_type": "code",
   "execution_count": 4,
   "metadata": {
    "execution": {
     "iopub.execute_input": "2021-03-11T22:28:30.112973Z",
     "iopub.status.busy": "2021-03-11T22:28:30.112048Z",
     "iopub.status.idle": "2021-03-11T22:28:30.117048Z",
     "shell.execute_reply": "2021-03-11T22:28:30.116433Z"
    },
    "papermill": {
     "duration": 0.01808,
     "end_time": "2021-03-11T22:28:30.117184",
     "exception": false,
     "start_time": "2021-03-11T22:28:30.099104",
     "status": "completed"
    },
    "tags": []
   },
   "outputs": [
    {
     "data": {
      "text/plain": [
       "5071"
      ]
     },
     "execution_count": 4,
     "metadata": {},
     "output_type": "execute_result"
    }
   ],
   "source": [
    "dog_data.Location_masked.count()"
   ]
  },
  {
   "cell_type": "code",
   "execution_count": 5,
   "metadata": {
    "execution": {
     "iopub.execute_input": "2021-03-11T22:28:30.140180Z",
     "iopub.status.busy": "2021-03-11T22:28:30.139344Z",
     "iopub.status.idle": "2021-03-11T22:28:30.145567Z",
     "shell.execute_reply": "2021-03-11T22:28:30.144973Z"
    },
    "papermill": {
     "duration": 0.020976,
     "end_time": "2021-03-11T22:28:30.145706",
     "exception": false,
     "start_time": "2021-03-11T22:28:30.124730",
     "status": "completed"
    },
    "tags": []
   },
   "outputs": [
    {
     "data": {
      "text/plain": [
       "33"
      ]
     },
     "execution_count": 5,
     "metadata": {},
     "output_type": "execute_result"
    }
   ],
   "source": [
    "names = dog_data.Dog_Name.value_counts()\n",
    "names.index[6]\n",
    "names[6]"
   ]
  },
  {
   "cell_type": "code",
   "execution_count": 6,
   "metadata": {
    "execution": {
     "iopub.execute_input": "2021-03-11T22:28:30.166664Z",
     "iopub.status.busy": "2021-03-11T22:28:30.165999Z",
     "iopub.status.idle": "2021-03-11T22:28:30.170891Z",
     "shell.execute_reply": "2021-03-11T22:28:30.169716Z"
    },
    "papermill": {
     "duration": 0.017468,
     "end_time": "2021-03-11T22:28:30.171040",
     "exception": false,
     "start_time": "2021-03-11T22:28:30.153572",
     "status": "completed"
    },
    "tags": []
   },
   "outputs": [
    {
     "data": {
      "text/plain": [
       "757"
      ]
     },
     "execution_count": 6,
     "metadata": {},
     "output_type": "execute_result"
    }
   ],
   "source": [
    "breeds = dog_data.Dog_Breed.unique()\n",
    "len(breeds)"
   ]
  },
  {
   "cell_type": "code",
   "execution_count": 7,
   "metadata": {
    "execution": {
     "iopub.execute_input": "2021-03-11T22:28:30.203314Z",
     "iopub.status.busy": "2021-03-11T22:28:30.202279Z",
     "iopub.status.idle": "2021-03-11T22:28:30.208055Z",
     "shell.execute_reply": "2021-03-11T22:28:30.207579Z"
    },
    "papermill": {
     "duration": 0.028685,
     "end_time": "2021-03-11T22:28:30.208190",
     "exception": false,
     "start_time": "2021-03-11T22:28:30.179505",
     "status": "completed"
    },
    "tags": []
   },
   "outputs": [
    {
     "data": {
      "text/html": [
       "<div>\n",
       "<style scoped>\n",
       "    .dataframe tbody tr th:only-of-type {\n",
       "        vertical-align: middle;\n",
       "    }\n",
       "\n",
       "    .dataframe tbody tr th {\n",
       "        vertical-align: top;\n",
       "    }\n",
       "\n",
       "    .dataframe thead th {\n",
       "        text-align: right;\n",
       "    }\n",
       "</style>\n",
       "<table border=\"1\" class=\"dataframe\">\n",
       "  <thead>\n",
       "    <tr style=\"text-align: right;\">\n",
       "      <th></th>\n",
       "      <th>Dog_Name</th>\n",
       "      <th>Dog_Breed</th>\n",
       "      <th>Location_masked</th>\n",
       "      <th>Latitude_masked</th>\n",
       "      <th>Longitude_masked</th>\n",
       "      <th>Neighborhood</th>\n",
       "    </tr>\n",
       "  </thead>\n",
       "  <tbody>\n",
       "    <tr>\n",
       "      <th>60</th>\n",
       "      <td>Duke</td>\n",
       "      <td>Husky</td>\n",
       "      <td>(42.36666946, -71.11039314)</td>\n",
       "      <td>-71.110393</td>\n",
       "      <td>-71.110393</td>\n",
       "      <td>Riverside</td>\n",
       "    </tr>\n",
       "    <tr>\n",
       "      <th>750</th>\n",
       "      <td>Phantom</td>\n",
       "      <td>Husky</td>\n",
       "      <td>(42.3770862, -71.15366219)</td>\n",
       "      <td>-71.153662</td>\n",
       "      <td>-71.153662</td>\n",
       "      <td>Strawberry Hill</td>\n",
       "    </tr>\n",
       "    <tr>\n",
       "      <th>1004</th>\n",
       "      <td>Rex</td>\n",
       "      <td>Husky</td>\n",
       "      <td>(42.37738765, -71.13164448)</td>\n",
       "      <td>-71.131644</td>\n",
       "      <td>-71.131644</td>\n",
       "      <td>West Cambridge</td>\n",
       "    </tr>\n",
       "    <tr>\n",
       "      <th>1215</th>\n",
       "      <td>Belle</td>\n",
       "      <td>Husky</td>\n",
       "      <td>(42.36111312, -71.11228302)</td>\n",
       "      <td>-71.112283</td>\n",
       "      <td>-71.112283</td>\n",
       "      <td>Cambridgeport</td>\n",
       "    </tr>\n",
       "    <tr>\n",
       "      <th>1723</th>\n",
       "      <td>Luna</td>\n",
       "      <td>Husky</td>\n",
       "      <td>(42.36237763, -71.11000047)</td>\n",
       "      <td>-71.110000</td>\n",
       "      <td>-71.110000</td>\n",
       "      <td>Riverside</td>\n",
       "    </tr>\n",
       "    <tr>\n",
       "      <th>2730</th>\n",
       "      <td>Gnocchi</td>\n",
       "      <td>Husky</td>\n",
       "      <td>(42.38612842, -71.13112701)</td>\n",
       "      <td>-71.131127</td>\n",
       "      <td>-71.131127</td>\n",
       "      <td>Neighborhood Nine</td>\n",
       "    </tr>\n",
       "    <tr>\n",
       "      <th>2838</th>\n",
       "      <td>Lilo</td>\n",
       "      <td>Husky</td>\n",
       "      <td>(42.35540022, -71.10023236)</td>\n",
       "      <td>-71.100232</td>\n",
       "      <td>-71.100232</td>\n",
       "      <td>Area 2/MIT</td>\n",
       "    </tr>\n",
       "    <tr>\n",
       "      <th>2935</th>\n",
       "      <td>Juno</td>\n",
       "      <td>Husky</td>\n",
       "      <td>(42.37944728, -71.12688892)</td>\n",
       "      <td>-71.126889</td>\n",
       "      <td>-71.126889</td>\n",
       "      <td>West Cambridge</td>\n",
       "    </tr>\n",
       "    <tr>\n",
       "      <th>3119</th>\n",
       "      <td>Maverick</td>\n",
       "      <td>Husky</td>\n",
       "      <td>(42.37435991, -71.12953173)</td>\n",
       "      <td>-71.129532</td>\n",
       "      <td>-71.129532</td>\n",
       "      <td>West Cambridge</td>\n",
       "    </tr>\n",
       "    <tr>\n",
       "      <th>3443</th>\n",
       "      <td>Luna</td>\n",
       "      <td>Husky</td>\n",
       "      <td>(42.38802099, -71.14561876)</td>\n",
       "      <td>-71.145619</td>\n",
       "      <td>-71.145619</td>\n",
       "      <td>Cambridge Highlands</td>\n",
       "    </tr>\n",
       "    <tr>\n",
       "      <th>3941</th>\n",
       "      <td>Chi</td>\n",
       "      <td>Husky</td>\n",
       "      <td>(42.37651989, -71.11286687)</td>\n",
       "      <td>-71.112867</td>\n",
       "      <td>-71.112867</td>\n",
       "      <td>Mid-Cambridge</td>\n",
       "    </tr>\n",
       "    <tr>\n",
       "      <th>4485</th>\n",
       "      <td>Cisco</td>\n",
       "      <td>Husky</td>\n",
       "      <td>(42.39566569, -71.12993868)</td>\n",
       "      <td>-71.129939</td>\n",
       "      <td>-71.129939</td>\n",
       "      <td>North Cambridge</td>\n",
       "    </tr>\n",
       "    <tr>\n",
       "      <th>4850</th>\n",
       "      <td>Bodie</td>\n",
       "      <td>Husky</td>\n",
       "      <td>(42.37748572, -71.13323447)</td>\n",
       "      <td>-71.133234</td>\n",
       "      <td>-71.133234</td>\n",
       "      <td>West Cambridge</td>\n",
       "    </tr>\n",
       "  </tbody>\n",
       "</table>\n",
       "</div>"
      ],
      "text/plain": [
       "      Dog_Name Dog_Breed              Location_masked  Latitude_masked  \\\n",
       "60        Duke     Husky  (42.36666946, -71.11039314)       -71.110393   \n",
       "750    Phantom     Husky   (42.3770862, -71.15366219)       -71.153662   \n",
       "1004       Rex     Husky  (42.37738765, -71.13164448)       -71.131644   \n",
       "1215     Belle     Husky  (42.36111312, -71.11228302)       -71.112283   \n",
       "1723      Luna     Husky  (42.36237763, -71.11000047)       -71.110000   \n",
       "2730   Gnocchi     Husky  (42.38612842, -71.13112701)       -71.131127   \n",
       "2838      Lilo     Husky  (42.35540022, -71.10023236)       -71.100232   \n",
       "2935      Juno     Husky  (42.37944728, -71.12688892)       -71.126889   \n",
       "3119  Maverick     Husky  (42.37435991, -71.12953173)       -71.129532   \n",
       "3443      Luna     Husky  (42.38802099, -71.14561876)       -71.145619   \n",
       "3941       Chi     Husky  (42.37651989, -71.11286687)       -71.112867   \n",
       "4485     Cisco     Husky  (42.39566569, -71.12993868)       -71.129939   \n",
       "4850     Bodie     Husky  (42.37748572, -71.13323447)       -71.133234   \n",
       "\n",
       "      Longitude_masked         Neighborhood  \n",
       "60          -71.110393            Riverside  \n",
       "750         -71.153662      Strawberry Hill  \n",
       "1004        -71.131644       West Cambridge  \n",
       "1215        -71.112283        Cambridgeport  \n",
       "1723        -71.110000            Riverside  \n",
       "2730        -71.131127    Neighborhood Nine  \n",
       "2838        -71.100232           Area 2/MIT  \n",
       "2935        -71.126889       West Cambridge  \n",
       "3119        -71.129532       West Cambridge  \n",
       "3443        -71.145619  Cambridge Highlands  \n",
       "3941        -71.112867        Mid-Cambridge  \n",
       "4485        -71.129939      North Cambridge  \n",
       "4850        -71.133234       West Cambridge  "
      ]
     },
     "execution_count": 7,
     "metadata": {},
     "output_type": "execute_result"
    }
   ],
   "source": [
    "dog_data.loc[dog_data.Dog_Breed.isin([\"Husky\"])]"
   ]
  },
  {
   "cell_type": "code",
   "execution_count": 8,
   "metadata": {
    "execution": {
     "iopub.execute_input": "2021-03-11T22:28:30.234766Z",
     "iopub.status.busy": "2021-03-11T22:28:30.234086Z",
     "iopub.status.idle": "2021-03-11T22:28:30.238733Z",
     "shell.execute_reply": "2021-03-11T22:28:30.237858Z"
    },
    "papermill": {
     "duration": 0.021788,
     "end_time": "2021-03-11T22:28:30.238882",
     "exception": false,
     "start_time": "2021-03-11T22:28:30.217094",
     "status": "completed"
    },
    "tags": []
   },
   "outputs": [
    {
     "name": "stdout",
     "output_type": "stream",
     "text": [
      "729\n"
     ]
    }
   ],
   "source": [
    "total = 0\n",
    "for breed in dog_data[\"Dog_Breed\"].tolist():\n",
    "    if \"mix\" in str(breed) or \"Mix\" in str(breed):\n",
    "        total += 1\n",
    "print(total)"
   ]
  },
  {
   "cell_type": "code",
   "execution_count": 9,
   "metadata": {
    "execution": {
     "iopub.execute_input": "2021-03-11T22:28:30.263671Z",
     "iopub.status.busy": "2021-03-11T22:28:30.263015Z",
     "iopub.status.idle": "2021-03-11T22:28:30.269247Z",
     "shell.execute_reply": "2021-03-11T22:28:30.268654Z"
    },
    "papermill": {
     "duration": 0.020856,
     "end_time": "2021-03-11T22:28:30.269401",
     "exception": false,
     "start_time": "2021-03-11T22:28:30.248545",
     "status": "completed"
    },
    "tags": []
   },
   "outputs": [
    {
     "data": {
      "text/plain": [
       "array(['Agassiz', 'Wellington-Harrington', nan, 'West Cambridge',\n",
       "       'Neighborhood Nine', 'North Cambridge', 'Mid-Cambridge',\n",
       "       'East Cambridge', 'Cambridge Highlands', 'Cambridgeport',\n",
       "       'Strawberry Hill', 'Riverside', 'Area 2/MIT', 'The Port'],\n",
       "      dtype=object)"
      ]
     },
     "execution_count": 9,
     "metadata": {},
     "output_type": "execute_result"
    }
   ],
   "source": [
    "dog_data[\"Neighborhood\"].unique()"
   ]
  },
  {
   "cell_type": "code",
   "execution_count": 10,
   "metadata": {
    "execution": {
     "iopub.execute_input": "2021-03-11T22:28:30.297626Z",
     "iopub.status.busy": "2021-03-11T22:28:30.296613Z",
     "iopub.status.idle": "2021-03-11T22:28:30.301906Z",
     "shell.execute_reply": "2021-03-11T22:28:30.301254Z"
    },
    "papermill": {
     "duration": 0.023136,
     "end_time": "2021-03-11T22:28:30.302046",
     "exception": false,
     "start_time": "2021-03-11T22:28:30.278910",
     "status": "completed"
    },
    "tags": []
   },
   "outputs": [
    {
     "data": {
      "text/plain": [
       "West Cambridge           852\n",
       "North Cambridge          716\n",
       "Neighborhood Nine        649\n",
       "Cambridgeport            526\n",
       "East Cambridge           508\n",
       "Mid-Cambridge            473\n",
       "Wellington-Harrington    265\n",
       "The Port                 251\n",
       "Riverside                236\n",
       "Agassiz                  203\n",
       "Cambridge Highlands      187\n",
       "Strawberry Hill          149\n",
       "Area 2/MIT                16\n",
       "Name: Neighborhood, dtype: int64"
      ]
     },
     "execution_count": 10,
     "metadata": {},
     "output_type": "execute_result"
    }
   ],
   "source": [
    "dog_data.Neighborhood.value_counts()"
   ]
  },
  {
   "cell_type": "code",
   "execution_count": 11,
   "metadata": {
    "execution": {
     "iopub.execute_input": "2021-03-11T22:28:30.332062Z",
     "iopub.status.busy": "2021-03-11T22:28:30.331173Z",
     "iopub.status.idle": "2021-03-11T22:28:30.336543Z",
     "shell.execute_reply": "2021-03-11T22:28:30.335908Z"
    },
    "papermill": {
     "duration": 0.024411,
     "end_time": "2021-03-11T22:28:30.336683",
     "exception": false,
     "start_time": "2021-03-11T22:28:30.312272",
     "status": "completed"
    },
    "tags": []
   },
   "outputs": [
    {
     "data": {
      "text/plain": [
       "Labrador Retriever    41\n",
       "Chihuahua             20\n",
       "Golden Retriever      17\n",
       "Terrier               14\n",
       "Mix                   13\n",
       "                      ..\n",
       "Pitbull Mix            1\n",
       "Cairn Terr.            1\n",
       "Pekingese Mix          1\n",
       "Lab Shepherd Mix       1\n",
       "Catahoula              1\n",
       "Name: Dog_Breed, Length: 205, dtype: int64"
      ]
     },
     "execution_count": 11,
     "metadata": {},
     "output_type": "execute_result"
    }
   ],
   "source": [
    "dog_data.loc[dog_data.Neighborhood == \"Cambridgeport\"].Dog_Breed.value_counts()"
   ]
  }
 ],
 "metadata": {
  "kernelspec": {
   "display_name": "Python 3",
   "language": "python",
   "name": "python3"
  },
  "language_info": {
   "codemirror_mode": {
    "name": "ipython",
    "version": 3
   },
   "file_extension": ".py",
   "mimetype": "text/x-python",
   "name": "python",
   "nbconvert_exporter": "python",
   "pygments_lexer": "ipython3",
   "version": "3.7.9"
  },
  "papermill": {
   "default_parameters": {},
   "duration": 6.618875,
   "end_time": "2021-03-11T22:28:30.957662",
   "environment_variables": {},
   "exception": null,
   "input_path": "__notebook__.ipynb",
   "output_path": "__notebook__.ipynb",
   "parameters": {},
   "start_time": "2021-03-11T22:28:24.338787",
   "version": "2.2.2"
  }
 },
 "nbformat": 4,
 "nbformat_minor": 4
}
