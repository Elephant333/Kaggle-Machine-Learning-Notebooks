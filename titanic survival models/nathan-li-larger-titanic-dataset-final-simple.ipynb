{
 "cells": [
  {
   "cell_type": "code",
   "execution_count": 1,
   "metadata": {
    "execution": {
     "iopub.execute_input": "2021-03-09T14:25:33.305769Z",
     "iopub.status.busy": "2021-03-09T14:25:33.305104Z",
     "iopub.status.idle": "2021-03-09T14:25:33.308761Z",
     "shell.execute_reply": "2021-03-09T14:25:33.308014Z"
    },
    "papermill": {
     "duration": 0.016554,
     "end_time": "2021-03-09T14:25:33.309010",
     "exception": false,
     "start_time": "2021-03-09T14:25:33.292456",
     "status": "completed"
    },
    "tags": []
   },
   "outputs": [],
   "source": [
    "#Nathan Li - Larger Titanic Survival Model (Final, Simple)\n",
    "#The only difference between this model and my previous simple model for final submission is that this model uses a larger dataset"
   ]
  },
  {
   "cell_type": "code",
   "execution_count": 2,
   "metadata": {
    "_cell_guid": "b1076dfc-b9ad-4769-8c92-a6c4dae69d19",
    "_uuid": "8f2839f25d086af736a60e9eeb907d3b93b6e0e5",
    "execution": {
     "iopub.execute_input": "2021-03-09T14:25:33.327350Z",
     "iopub.status.busy": "2021-03-09T14:25:33.326654Z",
     "iopub.status.idle": "2021-03-09T14:25:33.340842Z",
     "shell.execute_reply": "2021-03-09T14:25:33.341349Z"
    },
    "papermill": {
     "duration": 0.024801,
     "end_time": "2021-03-09T14:25:33.341514",
     "exception": false,
     "start_time": "2021-03-09T14:25:33.316713",
     "status": "completed"
    },
    "tags": []
   },
   "outputs": [
    {
     "name": "stdout",
     "output_type": "stream",
     "text": [
      "/kaggle/input/titanic-dataset-from-lake-forest-college/Titanic dataset from Lake Forest College - Sheet1.csv\n",
      "/kaggle/input/titanic/train.csv\n",
      "/kaggle/input/titanic/test.csv\n",
      "/kaggle/input/titanic/gender_submission.csv\n"
     ]
    }
   ],
   "source": [
    "# This Python 3 environment comes with many helpful analytics libraries installed\n",
    "# It is defined by the kaggle/python Docker image: https://github.com/kaggle/docker-python\n",
    "# For example, here's several helpful packages to load\n",
    "\n",
    "import numpy as np # linear algebra\n",
    "import pandas as pd # data processing, CSV file I/O (e.g. pd.read_csv)\n",
    "\n",
    "# Input data files are available in the read-only \"../input/\" directory\n",
    "# For example, running this (by clicking run or pressing Shift+Enter) will list all files under the input directory\n",
    "\n",
    "import os\n",
    "for dirname, _, filenames in os.walk('/kaggle/input'):\n",
    "    for filename in filenames:\n",
    "        print(os.path.join(dirname, filename))\n",
    "\n",
    "# You can write up to 20GB to the current directory (/kaggle/working/) that gets preserved as output when you create a version using \"Save & Run All\" \n",
    "# You can also write temporary files to /kaggle/temp/, but they won't be saved outside of the current session"
   ]
  },
  {
   "cell_type": "code",
   "execution_count": 3,
   "metadata": {
    "execution": {
     "iopub.execute_input": "2021-03-09T14:25:33.360309Z",
     "iopub.status.busy": "2021-03-09T14:25:33.359664Z",
     "iopub.status.idle": "2021-03-09T14:25:33.414977Z",
     "shell.execute_reply": "2021-03-09T14:25:33.414455Z"
    },
    "papermill": {
     "duration": 0.065668,
     "end_time": "2021-03-09T14:25:33.415138",
     "exception": false,
     "start_time": "2021-03-09T14:25:33.349470",
     "status": "completed"
    },
    "tags": []
   },
   "outputs": [
    {
     "data": {
      "text/html": [
       "<div>\n",
       "<style scoped>\n",
       "    .dataframe tbody tr th:only-of-type {\n",
       "        vertical-align: middle;\n",
       "    }\n",
       "\n",
       "    .dataframe tbody tr th {\n",
       "        vertical-align: top;\n",
       "    }\n",
       "\n",
       "    .dataframe thead th {\n",
       "        text-align: right;\n",
       "    }\n",
       "</style>\n",
       "<table border=\"1\" class=\"dataframe\">\n",
       "  <thead>\n",
       "    <tr style=\"text-align: right;\">\n",
       "      <th></th>\n",
       "      <th>pclass</th>\n",
       "      <th>survived</th>\n",
       "      <th>name</th>\n",
       "      <th>sex</th>\n",
       "      <th>age</th>\n",
       "      <th>sibsp</th>\n",
       "      <th>parch</th>\n",
       "      <th>ticket</th>\n",
       "      <th>fare</th>\n",
       "      <th>cabin</th>\n",
       "      <th>embarked</th>\n",
       "      <th>boat</th>\n",
       "      <th>body</th>\n",
       "      <th>home.dest</th>\n",
       "    </tr>\n",
       "  </thead>\n",
       "  <tbody>\n",
       "    <tr>\n",
       "      <th>0</th>\n",
       "      <td>1</td>\n",
       "      <td>1</td>\n",
       "      <td>Allen, Miss. Elisabeth Walton</td>\n",
       "      <td>female</td>\n",
       "      <td>29.0</td>\n",
       "      <td>0</td>\n",
       "      <td>0</td>\n",
       "      <td>24160</td>\n",
       "      <td>211.34</td>\n",
       "      <td>B5</td>\n",
       "      <td>S</td>\n",
       "      <td>2</td>\n",
       "      <td>NaN</td>\n",
       "      <td>St Louis, MO</td>\n",
       "    </tr>\n",
       "    <tr>\n",
       "      <th>1</th>\n",
       "      <td>1</td>\n",
       "      <td>1</td>\n",
       "      <td>Allison, Master. Hudson Trevor</td>\n",
       "      <td>male</td>\n",
       "      <td>1.0</td>\n",
       "      <td>1</td>\n",
       "      <td>2</td>\n",
       "      <td>113781</td>\n",
       "      <td>151.55</td>\n",
       "      <td>C22 C26</td>\n",
       "      <td>S</td>\n",
       "      <td>11</td>\n",
       "      <td>NaN</td>\n",
       "      <td>Montreal, PQ / Chesterville, ON</td>\n",
       "    </tr>\n",
       "    <tr>\n",
       "      <th>2</th>\n",
       "      <td>1</td>\n",
       "      <td>0</td>\n",
       "      <td>Allison, Miss. Helen Loraine</td>\n",
       "      <td>female</td>\n",
       "      <td>2.0</td>\n",
       "      <td>1</td>\n",
       "      <td>2</td>\n",
       "      <td>113781</td>\n",
       "      <td>151.55</td>\n",
       "      <td>C22 C26</td>\n",
       "      <td>S</td>\n",
       "      <td>NaN</td>\n",
       "      <td>NaN</td>\n",
       "      <td>Montreal, PQ / Chesterville, ON</td>\n",
       "    </tr>\n",
       "    <tr>\n",
       "      <th>3</th>\n",
       "      <td>1</td>\n",
       "      <td>0</td>\n",
       "      <td>Allison, Mr. Hudson Joshua Creighton</td>\n",
       "      <td>male</td>\n",
       "      <td>30.0</td>\n",
       "      <td>1</td>\n",
       "      <td>2</td>\n",
       "      <td>113781</td>\n",
       "      <td>151.55</td>\n",
       "      <td>C22 C26</td>\n",
       "      <td>S</td>\n",
       "      <td>NaN</td>\n",
       "      <td>135.0</td>\n",
       "      <td>Montreal, PQ / Chesterville, ON</td>\n",
       "    </tr>\n",
       "    <tr>\n",
       "      <th>4</th>\n",
       "      <td>1</td>\n",
       "      <td>0</td>\n",
       "      <td>Allison, Mrs. Hudson J C (Bessie Waldo Daniels)</td>\n",
       "      <td>female</td>\n",
       "      <td>25.0</td>\n",
       "      <td>1</td>\n",
       "      <td>2</td>\n",
       "      <td>113781</td>\n",
       "      <td>151.55</td>\n",
       "      <td>C22 C26</td>\n",
       "      <td>S</td>\n",
       "      <td>NaN</td>\n",
       "      <td>NaN</td>\n",
       "      <td>Montreal, PQ / Chesterville, ON</td>\n",
       "    </tr>\n",
       "  </tbody>\n",
       "</table>\n",
       "</div>"
      ],
      "text/plain": [
       "   pclass  survived                                             name     sex  \\\n",
       "0       1         1                    Allen, Miss. Elisabeth Walton  female   \n",
       "1       1         1                   Allison, Master. Hudson Trevor    male   \n",
       "2       1         0                     Allison, Miss. Helen Loraine  female   \n",
       "3       1         0             Allison, Mr. Hudson Joshua Creighton    male   \n",
       "4       1         0  Allison, Mrs. Hudson J C (Bessie Waldo Daniels)  female   \n",
       "\n",
       "    age  sibsp  parch  ticket    fare    cabin embarked boat   body  \\\n",
       "0  29.0      0      0   24160  211.34       B5        S    2    NaN   \n",
       "1   1.0      1      2  113781  151.55  C22 C26        S   11    NaN   \n",
       "2   2.0      1      2  113781  151.55  C22 C26        S  NaN    NaN   \n",
       "3  30.0      1      2  113781  151.55  C22 C26        S  NaN  135.0   \n",
       "4  25.0      1      2  113781  151.55  C22 C26        S  NaN    NaN   \n",
       "\n",
       "                         home.dest  \n",
       "0                     St Louis, MO  \n",
       "1  Montreal, PQ / Chesterville, ON  \n",
       "2  Montreal, PQ / Chesterville, ON  \n",
       "3  Montreal, PQ / Chesterville, ON  \n",
       "4  Montreal, PQ / Chesterville, ON  "
      ]
     },
     "execution_count": 3,
     "metadata": {},
     "output_type": "execute_result"
    }
   ],
   "source": [
    "train_data = pd.read_csv(\"/kaggle/input/titanic-dataset-from-lake-forest-college/Titanic dataset from Lake Forest College - Sheet1.csv\")\n",
    "train_data.head()"
   ]
  },
  {
   "cell_type": "code",
   "execution_count": 4,
   "metadata": {
    "execution": {
     "iopub.execute_input": "2021-03-09T14:25:33.436568Z",
     "iopub.status.busy": "2021-03-09T14:25:33.435896Z",
     "iopub.status.idle": "2021-03-09T14:25:33.463112Z",
     "shell.execute_reply": "2021-03-09T14:25:33.462017Z"
    },
    "papermill": {
     "duration": 0.039713,
     "end_time": "2021-03-09T14:25:33.463275",
     "exception": false,
     "start_time": "2021-03-09T14:25:33.423562",
     "status": "completed"
    },
    "tags": []
   },
   "outputs": [
    {
     "data": {
      "text/html": [
       "<div>\n",
       "<style scoped>\n",
       "    .dataframe tbody tr th:only-of-type {\n",
       "        vertical-align: middle;\n",
       "    }\n",
       "\n",
       "    .dataframe tbody tr th {\n",
       "        vertical-align: top;\n",
       "    }\n",
       "\n",
       "    .dataframe thead th {\n",
       "        text-align: right;\n",
       "    }\n",
       "</style>\n",
       "<table border=\"1\" class=\"dataframe\">\n",
       "  <thead>\n",
       "    <tr style=\"text-align: right;\">\n",
       "      <th></th>\n",
       "      <th>PassengerId</th>\n",
       "      <th>Pclass</th>\n",
       "      <th>Name</th>\n",
       "      <th>Sex</th>\n",
       "      <th>Age</th>\n",
       "      <th>SibSp</th>\n",
       "      <th>Parch</th>\n",
       "      <th>Ticket</th>\n",
       "      <th>Fare</th>\n",
       "      <th>Cabin</th>\n",
       "      <th>Embarked</th>\n",
       "    </tr>\n",
       "  </thead>\n",
       "  <tbody>\n",
       "    <tr>\n",
       "      <th>0</th>\n",
       "      <td>892</td>\n",
       "      <td>3</td>\n",
       "      <td>Kelly, Mr. James</td>\n",
       "      <td>male</td>\n",
       "      <td>34.5</td>\n",
       "      <td>0</td>\n",
       "      <td>0</td>\n",
       "      <td>330911</td>\n",
       "      <td>7.8292</td>\n",
       "      <td>NaN</td>\n",
       "      <td>Q</td>\n",
       "    </tr>\n",
       "    <tr>\n",
       "      <th>1</th>\n",
       "      <td>893</td>\n",
       "      <td>3</td>\n",
       "      <td>Wilkes, Mrs. James (Ellen Needs)</td>\n",
       "      <td>female</td>\n",
       "      <td>47.0</td>\n",
       "      <td>1</td>\n",
       "      <td>0</td>\n",
       "      <td>363272</td>\n",
       "      <td>7.0000</td>\n",
       "      <td>NaN</td>\n",
       "      <td>S</td>\n",
       "    </tr>\n",
       "    <tr>\n",
       "      <th>2</th>\n",
       "      <td>894</td>\n",
       "      <td>2</td>\n",
       "      <td>Myles, Mr. Thomas Francis</td>\n",
       "      <td>male</td>\n",
       "      <td>62.0</td>\n",
       "      <td>0</td>\n",
       "      <td>0</td>\n",
       "      <td>240276</td>\n",
       "      <td>9.6875</td>\n",
       "      <td>NaN</td>\n",
       "      <td>Q</td>\n",
       "    </tr>\n",
       "    <tr>\n",
       "      <th>3</th>\n",
       "      <td>895</td>\n",
       "      <td>3</td>\n",
       "      <td>Wirz, Mr. Albert</td>\n",
       "      <td>male</td>\n",
       "      <td>27.0</td>\n",
       "      <td>0</td>\n",
       "      <td>0</td>\n",
       "      <td>315154</td>\n",
       "      <td>8.6625</td>\n",
       "      <td>NaN</td>\n",
       "      <td>S</td>\n",
       "    </tr>\n",
       "    <tr>\n",
       "      <th>4</th>\n",
       "      <td>896</td>\n",
       "      <td>3</td>\n",
       "      <td>Hirvonen, Mrs. Alexander (Helga E Lindqvist)</td>\n",
       "      <td>female</td>\n",
       "      <td>22.0</td>\n",
       "      <td>1</td>\n",
       "      <td>1</td>\n",
       "      <td>3101298</td>\n",
       "      <td>12.2875</td>\n",
       "      <td>NaN</td>\n",
       "      <td>S</td>\n",
       "    </tr>\n",
       "  </tbody>\n",
       "</table>\n",
       "</div>"
      ],
      "text/plain": [
       "   PassengerId  Pclass                                          Name     Sex  \\\n",
       "0          892       3                              Kelly, Mr. James    male   \n",
       "1          893       3              Wilkes, Mrs. James (Ellen Needs)  female   \n",
       "2          894       2                     Myles, Mr. Thomas Francis    male   \n",
       "3          895       3                              Wirz, Mr. Albert    male   \n",
       "4          896       3  Hirvonen, Mrs. Alexander (Helga E Lindqvist)  female   \n",
       "\n",
       "    Age  SibSp  Parch   Ticket     Fare Cabin Embarked  \n",
       "0  34.5      0      0   330911   7.8292   NaN        Q  \n",
       "1  47.0      1      0   363272   7.0000   NaN        S  \n",
       "2  62.0      0      0   240276   9.6875   NaN        Q  \n",
       "3  27.0      0      0   315154   8.6625   NaN        S  \n",
       "4  22.0      1      1  3101298  12.2875   NaN        S  "
      ]
     },
     "execution_count": 4,
     "metadata": {},
     "output_type": "execute_result"
    }
   ],
   "source": [
    "test_data = pd.read_csv(\"/kaggle/input/titanic/test.csv\")\n",
    "test_data.head()"
   ]
  },
  {
   "cell_type": "code",
   "execution_count": 5,
   "metadata": {
    "execution": {
     "iopub.execute_input": "2021-03-09T14:25:33.486481Z",
     "iopub.status.busy": "2021-03-09T14:25:33.485646Z",
     "iopub.status.idle": "2021-03-09T14:25:34.890650Z",
     "shell.execute_reply": "2021-03-09T14:25:34.890082Z"
    },
    "papermill": {
     "duration": 1.418482,
     "end_time": "2021-03-09T14:25:34.890792",
     "exception": false,
     "start_time": "2021-03-09T14:25:33.472310",
     "status": "completed"
    },
    "tags": []
   },
   "outputs": [],
   "source": [
    "from sklearn.ensemble import RandomForestClassifier, GradientBoostingClassifier\n",
    "from sklearn.metrics import accuracy_score #used instead of MAE because the Titanic problem is a classification type, not regressiosn\n",
    "from sklearn.model_selection import train_test_split\n",
    "from sklearn.preprocessing import LabelEncoder"
   ]
  },
  {
   "cell_type": "code",
   "execution_count": 6,
   "metadata": {
    "execution": {
     "iopub.execute_input": "2021-03-09T14:25:34.924988Z",
     "iopub.status.busy": "2021-03-09T14:25:34.924072Z",
     "iopub.status.idle": "2021-03-09T14:25:34.928296Z",
     "shell.execute_reply": "2021-03-09T14:25:34.927658Z"
    },
    "papermill": {
     "duration": 0.028275,
     "end_time": "2021-03-09T14:25:34.928438",
     "exception": false,
     "start_time": "2021-03-09T14:25:34.900163",
     "status": "completed"
    },
    "tags": []
   },
   "outputs": [],
   "source": [
    "#Dropping the features that will not be used\n",
    "train_data = train_data.drop([\"name\", \"ticket\", \"cabin\", \"boat\", \"body\", \"home.dest\"], axis = 1)\n",
    "test_data = test_data.drop([\"Name\", \"Ticket\", \"Cabin\"], axis = 1)\n",
    "\n",
    "#Capitalize train data columns\n",
    "train_data = train_data.rename(columns={\n",
    "    \"pclass\":\"Pclass\", \n",
    "    \"survived\":\"Survived\", \n",
    "    \"sex\":\"Sex\", \n",
    "    \"age\":\"Age\", \n",
    "    \"sibsp\":\"Sibsp\", \n",
    "    \"parch\":\"Parch\", \n",
    "    \"fare\":\"Fare\", \n",
    "    \"embarked\":\"Embarked\"\n",
    "})\n",
    "\n",
    "#Simply filling empty Age values with the median age\n",
    "train_data[\"Age\"] = train_data[\"Age\"].fillna(train_data[\"Age\"].median())\n",
    "test_data[\"Age\"] = test_data[\"Age\"].fillna(train_data[\"Age\"].median())\n",
    "\n",
    "#Filling empty Embarked values with the mode, S\n",
    "train_data[\"Embarked\"] = train_data[\"Embarked\"].fillna(\"S\")\n",
    "test_data[\"Embarked\"] = test_data[\"Embarked\"].fillna(\"S\")\n",
    "\n",
    "#Filling empty Fare value with the median Fare\n",
    "train_data[\"Fare\"] = train_data[\"Fare\"].fillna(train_data[\"Fare\"].median())\n",
    "test_data[\"Fare\"] = test_data[\"Fare\"].fillna(test_data[\"Fare\"].median())"
   ]
  },
  {
   "cell_type": "code",
   "execution_count": 7,
   "metadata": {
    "execution": {
     "iopub.execute_input": "2021-03-09T14:25:34.958966Z",
     "iopub.status.busy": "2021-03-09T14:25:34.955478Z",
     "iopub.status.idle": "2021-03-09T14:25:34.980081Z",
     "shell.execute_reply": "2021-03-09T14:25:34.979421Z"
    },
    "papermill": {
     "duration": 0.042598,
     "end_time": "2021-03-09T14:25:34.980292",
     "exception": false,
     "start_time": "2021-03-09T14:25:34.937694",
     "status": "completed"
    },
    "tags": []
   },
   "outputs": [
    {
     "data": {
      "text/html": [
       "<div>\n",
       "<style scoped>\n",
       "    .dataframe tbody tr th:only-of-type {\n",
       "        vertical-align: middle;\n",
       "    }\n",
       "\n",
       "    .dataframe tbody tr th {\n",
       "        vertical-align: top;\n",
       "    }\n",
       "\n",
       "    .dataframe thead th {\n",
       "        text-align: right;\n",
       "    }\n",
       "</style>\n",
       "<table border=\"1\" class=\"dataframe\">\n",
       "  <thead>\n",
       "    <tr style=\"text-align: right;\">\n",
       "      <th></th>\n",
       "      <th>Pclass</th>\n",
       "      <th>Survived</th>\n",
       "      <th>Sex</th>\n",
       "      <th>Age</th>\n",
       "      <th>Sibsp</th>\n",
       "      <th>Parch</th>\n",
       "      <th>Fare</th>\n",
       "      <th>Embarked_C</th>\n",
       "      <th>Embarked_Q</th>\n",
       "      <th>Embarked_S</th>\n",
       "    </tr>\n",
       "  </thead>\n",
       "  <tbody>\n",
       "    <tr>\n",
       "      <th>0</th>\n",
       "      <td>1</td>\n",
       "      <td>1</td>\n",
       "      <td>0</td>\n",
       "      <td>29.0</td>\n",
       "      <td>0</td>\n",
       "      <td>0</td>\n",
       "      <td>211.34</td>\n",
       "      <td>0</td>\n",
       "      <td>0</td>\n",
       "      <td>1</td>\n",
       "    </tr>\n",
       "    <tr>\n",
       "      <th>1</th>\n",
       "      <td>1</td>\n",
       "      <td>1</td>\n",
       "      <td>1</td>\n",
       "      <td>1.0</td>\n",
       "      <td>1</td>\n",
       "      <td>2</td>\n",
       "      <td>151.55</td>\n",
       "      <td>0</td>\n",
       "      <td>0</td>\n",
       "      <td>1</td>\n",
       "    </tr>\n",
       "    <tr>\n",
       "      <th>2</th>\n",
       "      <td>1</td>\n",
       "      <td>0</td>\n",
       "      <td>0</td>\n",
       "      <td>2.0</td>\n",
       "      <td>1</td>\n",
       "      <td>2</td>\n",
       "      <td>151.55</td>\n",
       "      <td>0</td>\n",
       "      <td>0</td>\n",
       "      <td>1</td>\n",
       "    </tr>\n",
       "    <tr>\n",
       "      <th>3</th>\n",
       "      <td>1</td>\n",
       "      <td>0</td>\n",
       "      <td>1</td>\n",
       "      <td>30.0</td>\n",
       "      <td>1</td>\n",
       "      <td>2</td>\n",
       "      <td>151.55</td>\n",
       "      <td>0</td>\n",
       "      <td>0</td>\n",
       "      <td>1</td>\n",
       "    </tr>\n",
       "    <tr>\n",
       "      <th>4</th>\n",
       "      <td>1</td>\n",
       "      <td>0</td>\n",
       "      <td>0</td>\n",
       "      <td>25.0</td>\n",
       "      <td>1</td>\n",
       "      <td>2</td>\n",
       "      <td>151.55</td>\n",
       "      <td>0</td>\n",
       "      <td>0</td>\n",
       "      <td>1</td>\n",
       "    </tr>\n",
       "  </tbody>\n",
       "</table>\n",
       "</div>"
      ],
      "text/plain": [
       "   Pclass  Survived  Sex   Age  Sibsp  Parch    Fare  Embarked_C  Embarked_Q  \\\n",
       "0       1         1    0  29.0      0      0  211.34           0           0   \n",
       "1       1         1    1   1.0      1      2  151.55           0           0   \n",
       "2       1         0    0   2.0      1      2  151.55           0           0   \n",
       "3       1         0    1  30.0      1      2  151.55           0           0   \n",
       "4       1         0    0  25.0      1      2  151.55           0           0   \n",
       "\n",
       "   Embarked_S  \n",
       "0           1  \n",
       "1           1  \n",
       "2           1  \n",
       "3           1  \n",
       "4           1  "
      ]
     },
     "execution_count": 7,
     "metadata": {},
     "output_type": "execute_result"
    }
   ],
   "source": [
    "le = LabelEncoder()\n",
    "\n",
    "#Turning the categorical Sex values to numerical\n",
    "train_data[\"Sex\"] = le.fit_transform(train_data[\"Sex\"])\n",
    "test_data[\"Sex\"] = le.fit_transform(test_data[\"Sex\"])\n",
    "\n",
    "#Turning the categorical Embarked values to numerical with a method similar to hot-end encoding\n",
    "train_data = pd.get_dummies(train_data, columns = [\"Embarked\"])\n",
    "test_data = pd.get_dummies(test_data, columns = [\"Embarked\"])\n",
    "train_data.head()"
   ]
  },
  {
   "cell_type": "code",
   "execution_count": 8,
   "metadata": {
    "execution": {
     "iopub.execute_input": "2021-03-09T14:25:35.007363Z",
     "iopub.status.busy": "2021-03-09T14:25:35.006364Z",
     "iopub.status.idle": "2021-03-09T14:25:35.014119Z",
     "shell.execute_reply": "2021-03-09T14:25:35.013441Z"
    },
    "papermill": {
     "duration": 0.023958,
     "end_time": "2021-03-09T14:25:35.014264",
     "exception": false,
     "start_time": "2021-03-09T14:25:34.990306",
     "status": "completed"
    },
    "tags": []
   },
   "outputs": [],
   "source": [
    "#Using train test split\n",
    "y = train_data[\"Survived\"]\n",
    "X = train_data.drop(\"Survived\", axis = 1)\n",
    "train_X, val_X, train_y, val_y = train_test_split(X, y, test_size = 0.2, random_state = 1)"
   ]
  },
  {
   "cell_type": "code",
   "execution_count": 9,
   "metadata": {
    "execution": {
     "iopub.execute_input": "2021-03-09T14:25:35.042190Z",
     "iopub.status.busy": "2021-03-09T14:25:35.041516Z",
     "iopub.status.idle": "2021-03-09T14:25:35.181688Z",
     "shell.execute_reply": "2021-03-09T14:25:35.182233Z"
    },
    "papermill": {
     "duration": 0.157904,
     "end_time": "2021-03-09T14:25:35.182410",
     "exception": false,
     "start_time": "2021-03-09T14:25:35.024506",
     "status": "completed"
    },
    "tags": []
   },
   "outputs": [
    {
     "name": "stdout",
     "output_type": "stream",
     "text": [
      "The accuracy of the Gradient Boosting Classifier is 82.06\n"
     ]
    }
   ],
   "source": [
    "#I didn't bother changing the Gradient Boosting Classifier parameters, but I may be able to squeeze out more accuracy by messing around with it later\n",
    "model = GradientBoostingClassifier(random_state=1)\n",
    "model.fit(train_X, train_y)\n",
    "predictions = model.predict(val_X)\n",
    "\n",
    "print('The accuracy of the Gradient Boosting Classifier is',round(accuracy_score(val_y,predictions)*100,2))"
   ]
  },
  {
   "cell_type": "code",
   "execution_count": 10,
   "metadata": {
    "execution": {
     "iopub.execute_input": "2021-03-09T14:25:35.212710Z",
     "iopub.status.busy": "2021-03-09T14:25:35.209350Z",
     "iopub.status.idle": "2021-03-09T14:25:35.373973Z",
     "shell.execute_reply": "2021-03-09T14:25:35.374694Z"
    },
    "papermill": {
     "duration": 0.181739,
     "end_time": "2021-03-09T14:25:35.374910",
     "exception": false,
     "start_time": "2021-03-09T14:25:35.193171",
     "status": "completed"
    },
    "tags": []
   },
   "outputs": [
    {
     "name": "stdout",
     "output_type": "stream",
     "text": [
      "Your submission was successfully saved!\n"
     ]
    }
   ],
   "source": [
    "#Test for submission\n",
    "X_test = test_data.drop(\"PassengerId\", axis = 1)\n",
    "model.fit(X, y)\n",
    "predictions = model.predict(X_test)\n",
    "\n",
    "output = pd.DataFrame({'PassengerId': test_data.PassengerId, 'Survived': predictions})\n",
    "output.to_csv('my_submission.csv', index=False)\n",
    "print(\"Your submission was successfully saved!\")"
   ]
  }
 ],
 "metadata": {
  "kernelspec": {
   "display_name": "Python 3",
   "language": "python",
   "name": "python3"
  },
  "language_info": {
   "codemirror_mode": {
    "name": "ipython",
    "version": 3
   },
   "file_extension": ".py",
   "mimetype": "text/x-python",
   "name": "python",
   "nbconvert_exporter": "python",
   "pygments_lexer": "ipython3",
   "version": "3.7.9"
  },
  "papermill": {
   "default_parameters": {},
   "duration": 8.62859,
   "end_time": "2021-03-09T14:25:35.999287",
   "environment_variables": {},
   "exception": null,
   "input_path": "__notebook__.ipynb",
   "output_path": "__notebook__.ipynb",
   "parameters": {},
   "start_time": "2021-03-09T14:25:27.370697",
   "version": "2.2.2"
  }
 },
 "nbformat": 4,
 "nbformat_minor": 4
}
