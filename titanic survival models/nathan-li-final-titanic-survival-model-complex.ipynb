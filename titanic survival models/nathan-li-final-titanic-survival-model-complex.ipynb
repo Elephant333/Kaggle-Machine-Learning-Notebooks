{
 "cells": [
  {
   "cell_type": "code",
   "execution_count": 1,
   "metadata": {
    "execution": {
     "iopub.execute_input": "2021-03-02T00:59:08.021265Z",
     "iopub.status.busy": "2021-03-02T00:59:08.020406Z",
     "iopub.status.idle": "2021-03-02T00:59:08.023702Z",
     "shell.execute_reply": "2021-03-02T00:59:08.023039Z"
    },
    "papermill": {
     "duration": 0.021627,
     "end_time": "2021-03-02T00:59:08.023907",
     "exception": false,
     "start_time": "2021-03-02T00:59:08.002280",
     "status": "completed"
    },
    "tags": []
   },
   "outputs": [],
   "source": [
    "#Nathan Li - Final Titanic Survival Model"
   ]
  },
  {
   "cell_type": "code",
   "execution_count": 2,
   "metadata": {
    "_cell_guid": "b1076dfc-b9ad-4769-8c92-a6c4dae69d19",
    "_uuid": "8f2839f25d086af736a60e9eeb907d3b93b6e0e5",
    "execution": {
     "iopub.execute_input": "2021-03-02T00:59:08.053784Z",
     "iopub.status.busy": "2021-03-02T00:59:08.052749Z",
     "iopub.status.idle": "2021-03-02T00:59:08.059070Z",
     "shell.execute_reply": "2021-03-02T00:59:08.058339Z"
    },
    "papermill": {
     "duration": 0.023718,
     "end_time": "2021-03-02T00:59:08.059237",
     "exception": false,
     "start_time": "2021-03-02T00:59:08.035519",
     "status": "completed"
    },
    "tags": []
   },
   "outputs": [
    {
     "name": "stdout",
     "output_type": "stream",
     "text": [
      "/kaggle/input/titanic/train.csv\n",
      "/kaggle/input/titanic/test.csv\n",
      "/kaggle/input/titanic/gender_submission.csv\n"
     ]
    }
   ],
   "source": [
    "# This Python 3 environment comes with many helpful analytics libraries installed\n",
    "# It is defined by the kaggle/python Docker image: https://github.com/kaggle/docker-python\n",
    "# For example, here's several helpful packages to load\n",
    "\n",
    "import numpy as np # linear algebra\n",
    "import pandas as pd # data processing, CSV file I/O (e.g. pd.read_csv)\n",
    "pd.set_option('display.max_columns', None)\n",
    "\n",
    "# Input data files are available in the read-only \"../input/\" directory\n",
    "# For example, running this (by clicking run or pressing Shift+Enter) will list all files under the input directory\n",
    "\n",
    "import os\n",
    "for dirname, _, filenames in os.walk('/kaggle/input'):\n",
    "    for filename in filenames:\n",
    "        print(os.path.join(dirname, filename))\n",
    "\n",
    "# You can write up to 20GB to the current directory (/kaggle/working/) that gets preserved as output when you create a version using \"Save & Run All\" \n",
    "# You can also write temporary files to /kaggle/temp/, but they won't be saved outside of the current session"
   ]
  },
  {
   "cell_type": "code",
   "execution_count": 3,
   "metadata": {
    "execution": {
     "iopub.execute_input": "2021-03-02T00:59:08.088262Z",
     "iopub.status.busy": "2021-03-02T00:59:08.087581Z",
     "iopub.status.idle": "2021-03-02T00:59:08.138098Z",
     "shell.execute_reply": "2021-03-02T00:59:08.137546Z"
    },
    "papermill": {
     "duration": 0.066757,
     "end_time": "2021-03-02T00:59:08.138245",
     "exception": false,
     "start_time": "2021-03-02T00:59:08.071488",
     "status": "completed"
    },
    "tags": []
   },
   "outputs": [
    {
     "data": {
      "text/html": [
       "<div>\n",
       "<style scoped>\n",
       "    .dataframe tbody tr th:only-of-type {\n",
       "        vertical-align: middle;\n",
       "    }\n",
       "\n",
       "    .dataframe tbody tr th {\n",
       "        vertical-align: top;\n",
       "    }\n",
       "\n",
       "    .dataframe thead th {\n",
       "        text-align: right;\n",
       "    }\n",
       "</style>\n",
       "<table border=\"1\" class=\"dataframe\">\n",
       "  <thead>\n",
       "    <tr style=\"text-align: right;\">\n",
       "      <th></th>\n",
       "      <th>PassengerId</th>\n",
       "      <th>Survived</th>\n",
       "      <th>Pclass</th>\n",
       "      <th>Name</th>\n",
       "      <th>Sex</th>\n",
       "      <th>Age</th>\n",
       "      <th>SibSp</th>\n",
       "      <th>Parch</th>\n",
       "      <th>Ticket</th>\n",
       "      <th>Fare</th>\n",
       "      <th>Cabin</th>\n",
       "      <th>Embarked</th>\n",
       "    </tr>\n",
       "  </thead>\n",
       "  <tbody>\n",
       "    <tr>\n",
       "      <th>0</th>\n",
       "      <td>1</td>\n",
       "      <td>0</td>\n",
       "      <td>3</td>\n",
       "      <td>Braund, Mr. Owen Harris</td>\n",
       "      <td>male</td>\n",
       "      <td>22.0</td>\n",
       "      <td>1</td>\n",
       "      <td>0</td>\n",
       "      <td>A/5 21171</td>\n",
       "      <td>7.2500</td>\n",
       "      <td>NaN</td>\n",
       "      <td>S</td>\n",
       "    </tr>\n",
       "    <tr>\n",
       "      <th>1</th>\n",
       "      <td>2</td>\n",
       "      <td>1</td>\n",
       "      <td>1</td>\n",
       "      <td>Cumings, Mrs. John Bradley (Florence Briggs Th...</td>\n",
       "      <td>female</td>\n",
       "      <td>38.0</td>\n",
       "      <td>1</td>\n",
       "      <td>0</td>\n",
       "      <td>PC 17599</td>\n",
       "      <td>71.2833</td>\n",
       "      <td>C85</td>\n",
       "      <td>C</td>\n",
       "    </tr>\n",
       "    <tr>\n",
       "      <th>2</th>\n",
       "      <td>3</td>\n",
       "      <td>1</td>\n",
       "      <td>3</td>\n",
       "      <td>Heikkinen, Miss. Laina</td>\n",
       "      <td>female</td>\n",
       "      <td>26.0</td>\n",
       "      <td>0</td>\n",
       "      <td>0</td>\n",
       "      <td>STON/O2. 3101282</td>\n",
       "      <td>7.9250</td>\n",
       "      <td>NaN</td>\n",
       "      <td>S</td>\n",
       "    </tr>\n",
       "    <tr>\n",
       "      <th>3</th>\n",
       "      <td>4</td>\n",
       "      <td>1</td>\n",
       "      <td>1</td>\n",
       "      <td>Futrelle, Mrs. Jacques Heath (Lily May Peel)</td>\n",
       "      <td>female</td>\n",
       "      <td>35.0</td>\n",
       "      <td>1</td>\n",
       "      <td>0</td>\n",
       "      <td>113803</td>\n",
       "      <td>53.1000</td>\n",
       "      <td>C123</td>\n",
       "      <td>S</td>\n",
       "    </tr>\n",
       "    <tr>\n",
       "      <th>4</th>\n",
       "      <td>5</td>\n",
       "      <td>0</td>\n",
       "      <td>3</td>\n",
       "      <td>Allen, Mr. William Henry</td>\n",
       "      <td>male</td>\n",
       "      <td>35.0</td>\n",
       "      <td>0</td>\n",
       "      <td>0</td>\n",
       "      <td>373450</td>\n",
       "      <td>8.0500</td>\n",
       "      <td>NaN</td>\n",
       "      <td>S</td>\n",
       "    </tr>\n",
       "  </tbody>\n",
       "</table>\n",
       "</div>"
      ],
      "text/plain": [
       "   PassengerId  Survived  Pclass  \\\n",
       "0            1         0       3   \n",
       "1            2         1       1   \n",
       "2            3         1       3   \n",
       "3            4         1       1   \n",
       "4            5         0       3   \n",
       "\n",
       "                                                Name     Sex   Age  SibSp  \\\n",
       "0                            Braund, Mr. Owen Harris    male  22.0      1   \n",
       "1  Cumings, Mrs. John Bradley (Florence Briggs Th...  female  38.0      1   \n",
       "2                             Heikkinen, Miss. Laina  female  26.0      0   \n",
       "3       Futrelle, Mrs. Jacques Heath (Lily May Peel)  female  35.0      1   \n",
       "4                           Allen, Mr. William Henry    male  35.0      0   \n",
       "\n",
       "   Parch            Ticket     Fare Cabin Embarked  \n",
       "0      0         A/5 21171   7.2500   NaN        S  \n",
       "1      0          PC 17599  71.2833   C85        C  \n",
       "2      0  STON/O2. 3101282   7.9250   NaN        S  \n",
       "3      0            113803  53.1000  C123        S  \n",
       "4      0            373450   8.0500   NaN        S  "
      ]
     },
     "execution_count": 3,
     "metadata": {},
     "output_type": "execute_result"
    }
   ],
   "source": [
    "train_data = pd.read_csv(\"/kaggle/input/titanic/train.csv\")\n",
    "train_data.head()"
   ]
  },
  {
   "cell_type": "code",
   "execution_count": 4,
   "metadata": {
    "execution": {
     "iopub.execute_input": "2021-03-02T00:59:08.172500Z",
     "iopub.status.busy": "2021-03-02T00:59:08.171512Z",
     "iopub.status.idle": "2021-03-02T00:59:08.200389Z",
     "shell.execute_reply": "2021-03-02T00:59:08.199862Z"
    },
    "papermill": {
     "duration": 0.049781,
     "end_time": "2021-03-02T00:59:08.200592",
     "exception": false,
     "start_time": "2021-03-02T00:59:08.150811",
     "status": "completed"
    },
    "tags": []
   },
   "outputs": [
    {
     "data": {
      "text/html": [
       "<div>\n",
       "<style scoped>\n",
       "    .dataframe tbody tr th:only-of-type {\n",
       "        vertical-align: middle;\n",
       "    }\n",
       "\n",
       "    .dataframe tbody tr th {\n",
       "        vertical-align: top;\n",
       "    }\n",
       "\n",
       "    .dataframe thead th {\n",
       "        text-align: right;\n",
       "    }\n",
       "</style>\n",
       "<table border=\"1\" class=\"dataframe\">\n",
       "  <thead>\n",
       "    <tr style=\"text-align: right;\">\n",
       "      <th></th>\n",
       "      <th>PassengerId</th>\n",
       "      <th>Survived</th>\n",
       "      <th>Pclass</th>\n",
       "      <th>Age</th>\n",
       "      <th>SibSp</th>\n",
       "      <th>Parch</th>\n",
       "      <th>Fare</th>\n",
       "    </tr>\n",
       "  </thead>\n",
       "  <tbody>\n",
       "    <tr>\n",
       "      <th>count</th>\n",
       "      <td>891.000000</td>\n",
       "      <td>891.000000</td>\n",
       "      <td>891.000000</td>\n",
       "      <td>714.000000</td>\n",
       "      <td>891.000000</td>\n",
       "      <td>891.000000</td>\n",
       "      <td>891.000000</td>\n",
       "    </tr>\n",
       "    <tr>\n",
       "      <th>mean</th>\n",
       "      <td>446.000000</td>\n",
       "      <td>0.383838</td>\n",
       "      <td>2.308642</td>\n",
       "      <td>29.699118</td>\n",
       "      <td>0.523008</td>\n",
       "      <td>0.381594</td>\n",
       "      <td>32.204208</td>\n",
       "    </tr>\n",
       "    <tr>\n",
       "      <th>std</th>\n",
       "      <td>257.353842</td>\n",
       "      <td>0.486592</td>\n",
       "      <td>0.836071</td>\n",
       "      <td>14.526497</td>\n",
       "      <td>1.102743</td>\n",
       "      <td>0.806057</td>\n",
       "      <td>49.693429</td>\n",
       "    </tr>\n",
       "    <tr>\n",
       "      <th>min</th>\n",
       "      <td>1.000000</td>\n",
       "      <td>0.000000</td>\n",
       "      <td>1.000000</td>\n",
       "      <td>0.420000</td>\n",
       "      <td>0.000000</td>\n",
       "      <td>0.000000</td>\n",
       "      <td>0.000000</td>\n",
       "    </tr>\n",
       "    <tr>\n",
       "      <th>25%</th>\n",
       "      <td>223.500000</td>\n",
       "      <td>0.000000</td>\n",
       "      <td>2.000000</td>\n",
       "      <td>20.125000</td>\n",
       "      <td>0.000000</td>\n",
       "      <td>0.000000</td>\n",
       "      <td>7.910400</td>\n",
       "    </tr>\n",
       "    <tr>\n",
       "      <th>50%</th>\n",
       "      <td>446.000000</td>\n",
       "      <td>0.000000</td>\n",
       "      <td>3.000000</td>\n",
       "      <td>28.000000</td>\n",
       "      <td>0.000000</td>\n",
       "      <td>0.000000</td>\n",
       "      <td>14.454200</td>\n",
       "    </tr>\n",
       "    <tr>\n",
       "      <th>75%</th>\n",
       "      <td>668.500000</td>\n",
       "      <td>1.000000</td>\n",
       "      <td>3.000000</td>\n",
       "      <td>38.000000</td>\n",
       "      <td>1.000000</td>\n",
       "      <td>0.000000</td>\n",
       "      <td>31.000000</td>\n",
       "    </tr>\n",
       "    <tr>\n",
       "      <th>max</th>\n",
       "      <td>891.000000</td>\n",
       "      <td>1.000000</td>\n",
       "      <td>3.000000</td>\n",
       "      <td>80.000000</td>\n",
       "      <td>8.000000</td>\n",
       "      <td>6.000000</td>\n",
       "      <td>512.329200</td>\n",
       "    </tr>\n",
       "  </tbody>\n",
       "</table>\n",
       "</div>"
      ],
      "text/plain": [
       "       PassengerId    Survived      Pclass         Age       SibSp  \\\n",
       "count   891.000000  891.000000  891.000000  714.000000  891.000000   \n",
       "mean    446.000000    0.383838    2.308642   29.699118    0.523008   \n",
       "std     257.353842    0.486592    0.836071   14.526497    1.102743   \n",
       "min       1.000000    0.000000    1.000000    0.420000    0.000000   \n",
       "25%     223.500000    0.000000    2.000000   20.125000    0.000000   \n",
       "50%     446.000000    0.000000    3.000000   28.000000    0.000000   \n",
       "75%     668.500000    1.000000    3.000000   38.000000    1.000000   \n",
       "max     891.000000    1.000000    3.000000   80.000000    8.000000   \n",
       "\n",
       "            Parch        Fare  \n",
       "count  891.000000  891.000000  \n",
       "mean     0.381594   32.204208  \n",
       "std      0.806057   49.693429  \n",
       "min      0.000000    0.000000  \n",
       "25%      0.000000    7.910400  \n",
       "50%      0.000000   14.454200  \n",
       "75%      0.000000   31.000000  \n",
       "max      6.000000  512.329200  "
      ]
     },
     "execution_count": 4,
     "metadata": {},
     "output_type": "execute_result"
    }
   ],
   "source": [
    "train_data.describe()"
   ]
  },
  {
   "cell_type": "code",
   "execution_count": 5,
   "metadata": {
    "execution": {
     "iopub.execute_input": "2021-03-02T00:59:08.231372Z",
     "iopub.status.busy": "2021-03-02T00:59:08.230723Z",
     "iopub.status.idle": "2021-03-02T00:59:08.254800Z",
     "shell.execute_reply": "2021-03-02T00:59:08.255252Z"
    },
    "papermill": {
     "duration": 0.041584,
     "end_time": "2021-03-02T00:59:08.255429",
     "exception": false,
     "start_time": "2021-03-02T00:59:08.213845",
     "status": "completed"
    },
    "tags": []
   },
   "outputs": [
    {
     "data": {
      "text/html": [
       "<div>\n",
       "<style scoped>\n",
       "    .dataframe tbody tr th:only-of-type {\n",
       "        vertical-align: middle;\n",
       "    }\n",
       "\n",
       "    .dataframe tbody tr th {\n",
       "        vertical-align: top;\n",
       "    }\n",
       "\n",
       "    .dataframe thead th {\n",
       "        text-align: right;\n",
       "    }\n",
       "</style>\n",
       "<table border=\"1\" class=\"dataframe\">\n",
       "  <thead>\n",
       "    <tr style=\"text-align: right;\">\n",
       "      <th></th>\n",
       "      <th>PassengerId</th>\n",
       "      <th>Pclass</th>\n",
       "      <th>Name</th>\n",
       "      <th>Sex</th>\n",
       "      <th>Age</th>\n",
       "      <th>SibSp</th>\n",
       "      <th>Parch</th>\n",
       "      <th>Ticket</th>\n",
       "      <th>Fare</th>\n",
       "      <th>Cabin</th>\n",
       "      <th>Embarked</th>\n",
       "    </tr>\n",
       "  </thead>\n",
       "  <tbody>\n",
       "    <tr>\n",
       "      <th>0</th>\n",
       "      <td>892</td>\n",
       "      <td>3</td>\n",
       "      <td>Kelly, Mr. James</td>\n",
       "      <td>male</td>\n",
       "      <td>34.5</td>\n",
       "      <td>0</td>\n",
       "      <td>0</td>\n",
       "      <td>330911</td>\n",
       "      <td>7.8292</td>\n",
       "      <td>NaN</td>\n",
       "      <td>Q</td>\n",
       "    </tr>\n",
       "    <tr>\n",
       "      <th>1</th>\n",
       "      <td>893</td>\n",
       "      <td>3</td>\n",
       "      <td>Wilkes, Mrs. James (Ellen Needs)</td>\n",
       "      <td>female</td>\n",
       "      <td>47.0</td>\n",
       "      <td>1</td>\n",
       "      <td>0</td>\n",
       "      <td>363272</td>\n",
       "      <td>7.0000</td>\n",
       "      <td>NaN</td>\n",
       "      <td>S</td>\n",
       "    </tr>\n",
       "    <tr>\n",
       "      <th>2</th>\n",
       "      <td>894</td>\n",
       "      <td>2</td>\n",
       "      <td>Myles, Mr. Thomas Francis</td>\n",
       "      <td>male</td>\n",
       "      <td>62.0</td>\n",
       "      <td>0</td>\n",
       "      <td>0</td>\n",
       "      <td>240276</td>\n",
       "      <td>9.6875</td>\n",
       "      <td>NaN</td>\n",
       "      <td>Q</td>\n",
       "    </tr>\n",
       "    <tr>\n",
       "      <th>3</th>\n",
       "      <td>895</td>\n",
       "      <td>3</td>\n",
       "      <td>Wirz, Mr. Albert</td>\n",
       "      <td>male</td>\n",
       "      <td>27.0</td>\n",
       "      <td>0</td>\n",
       "      <td>0</td>\n",
       "      <td>315154</td>\n",
       "      <td>8.6625</td>\n",
       "      <td>NaN</td>\n",
       "      <td>S</td>\n",
       "    </tr>\n",
       "    <tr>\n",
       "      <th>4</th>\n",
       "      <td>896</td>\n",
       "      <td>3</td>\n",
       "      <td>Hirvonen, Mrs. Alexander (Helga E Lindqvist)</td>\n",
       "      <td>female</td>\n",
       "      <td>22.0</td>\n",
       "      <td>1</td>\n",
       "      <td>1</td>\n",
       "      <td>3101298</td>\n",
       "      <td>12.2875</td>\n",
       "      <td>NaN</td>\n",
       "      <td>S</td>\n",
       "    </tr>\n",
       "  </tbody>\n",
       "</table>\n",
       "</div>"
      ],
      "text/plain": [
       "   PassengerId  Pclass                                          Name     Sex  \\\n",
       "0          892       3                              Kelly, Mr. James    male   \n",
       "1          893       3              Wilkes, Mrs. James (Ellen Needs)  female   \n",
       "2          894       2                     Myles, Mr. Thomas Francis    male   \n",
       "3          895       3                              Wirz, Mr. Albert    male   \n",
       "4          896       3  Hirvonen, Mrs. Alexander (Helga E Lindqvist)  female   \n",
       "\n",
       "    Age  SibSp  Parch   Ticket     Fare Cabin Embarked  \n",
       "0  34.5      0      0   330911   7.8292   NaN        Q  \n",
       "1  47.0      1      0   363272   7.0000   NaN        S  \n",
       "2  62.0      0      0   240276   9.6875   NaN        Q  \n",
       "3  27.0      0      0   315154   8.6625   NaN        S  \n",
       "4  22.0      1      1  3101298  12.2875   NaN        S  "
      ]
     },
     "execution_count": 5,
     "metadata": {},
     "output_type": "execute_result"
    }
   ],
   "source": [
    "test_data = pd.read_csv(\"/kaggle/input/titanic/test.csv\")\n",
    "test_data.head()"
   ]
  },
  {
   "cell_type": "code",
   "execution_count": 6,
   "metadata": {
    "execution": {
     "iopub.execute_input": "2021-03-02T00:59:08.286313Z",
     "iopub.status.busy": "2021-03-02T00:59:08.285327Z",
     "iopub.status.idle": "2021-03-02T00:59:09.611584Z",
     "shell.execute_reply": "2021-03-02T00:59:09.610431Z"
    },
    "papermill": {
     "duration": 1.342798,
     "end_time": "2021-03-02T00:59:09.611789",
     "exception": false,
     "start_time": "2021-03-02T00:59:08.268991",
     "status": "completed"
    },
    "tags": []
   },
   "outputs": [],
   "source": [
    "from sklearn.ensemble import RandomForestClassifier\n",
    "from sklearn.metrics import accuracy_score #used instead of MAE because the Titanic problem is a classification type, not regression\n",
    "from sklearn.model_selection import train_test_split\n",
    "from sklearn.preprocessing import LabelEncoder"
   ]
  },
  {
   "cell_type": "code",
   "execution_count": 7,
   "metadata": {
    "execution": {
     "iopub.execute_input": "2021-03-02T00:59:09.647161Z",
     "iopub.status.busy": "2021-03-02T00:59:09.646208Z",
     "iopub.status.idle": "2021-03-02T00:59:09.650501Z",
     "shell.execute_reply": "2021-03-02T00:59:09.649903Z"
    },
    "papermill": {
     "duration": 0.023252,
     "end_time": "2021-03-02T00:59:09.650637",
     "exception": false,
     "start_time": "2021-03-02T00:59:09.627385",
     "status": "completed"
    },
    "tags": []
   },
   "outputs": [
    {
     "data": {
      "text/plain": [
       "'genders = {\"male\": 1, \"female\": 0}\\ntrain_data[\"Sex\"] = train_data[\"Sex\"].map(genders)\\ntrain_data[\"Sex\"] = train_data[\"Sex\"].map(genders)\\ntrain_data.head()'"
      ]
     },
     "execution_count": 7,
     "metadata": {},
     "output_type": "execute_result"
    }
   ],
   "source": [
    "#Label encode \"Sex\"\n",
    "\"\"\"genders = {\"male\": 1, \"female\": 0}\n",
    "train_data[\"Sex\"] = train_data[\"Sex\"].map(genders)\n",
    "train_data[\"Sex\"] = train_data[\"Sex\"].map(genders)\n",
    "train_data.head()\"\"\"\n",
    "#This isn't working for some reason, and it's just putting NaN in each \"Sex\" value. Need to research"
   ]
  },
  {
   "cell_type": "code",
   "execution_count": 8,
   "metadata": {
    "execution": {
     "iopub.execute_input": "2021-03-02T00:59:09.682646Z",
     "iopub.status.busy": "2021-03-02T00:59:09.681725Z",
     "iopub.status.idle": "2021-03-02T00:59:09.713258Z",
     "shell.execute_reply": "2021-03-02T00:59:09.713797Z"
    },
    "papermill": {
     "duration": 0.049348,
     "end_time": "2021-03-02T00:59:09.713996",
     "exception": false,
     "start_time": "2021-03-02T00:59:09.664648",
     "status": "completed"
    },
    "tags": []
   },
   "outputs": [],
   "source": [
    "#Create some new features surrounding family size, assuming that larger families are more likely to get rescued\n",
    "def process_family(dataset):\n",
    "    dataset['FamilySize'] = dataset['Parch'] + dataset['SibSp'] + 1 #new feature for size of family, including the passenger\n",
    "    \n",
    "    #Adding some extra features based on FamilySize\n",
    "    dataset['Singleton'] = dataset['FamilySize'].map(lambda s: 1 if s == 1 else 0)\n",
    "    dataset['SmallFamily'] = dataset['FamilySize'].map(lambda s: 1 if 2 <= s <= 4 else 0)\n",
    "    dataset['LargeFamily'] = dataset['FamilySize'].map(lambda s: 1 if 5 <= s else 0)\n",
    "    \n",
    "process_family(train_data)\n",
    "process_family(test_data)"
   ]
  },
  {
   "cell_type": "code",
   "execution_count": 9,
   "metadata": {
    "execution": {
     "iopub.execute_input": "2021-03-02T00:59:09.756858Z",
     "iopub.status.busy": "2021-03-02T00:59:09.755794Z",
     "iopub.status.idle": "2021-03-02T00:59:09.760051Z",
     "shell.execute_reply": "2021-03-02T00:59:09.760535Z"
    },
    "papermill": {
     "duration": 0.032107,
     "end_time": "2021-03-02T00:59:09.760754",
     "exception": false,
     "start_time": "2021-03-02T00:59:09.728647",
     "status": "completed"
    },
    "tags": []
   },
   "outputs": [],
   "source": [
    "#Process the names of people to extract their titles\n",
    "Title_Dictionary = {\n",
    "    \"Capt\": \"Officer\",\n",
    "    \"Col\": \"Officer\",\n",
    "    \"Major\": \"Officer\",\n",
    "    \"Dr\": \"Officer\",\n",
    "    \"Rev\": \"Officer\",\n",
    "    \"Jonkheer\": \"Royalty\",\n",
    "    \"Don\": \"Royalty\",\n",
    "    \"Sir\": \"Royalty\",\n",
    "    \"the Countess\": \"Royalty\",\n",
    "    \"Lady\": \"Royalty\",\n",
    "    \"Mlle\": \"Miss\",\n",
    "    \"Miss\": \"Miss\",\n",
    "    \"Mme\": \"Mrs\",\n",
    "    \"Ms\": \"Mrs\",\n",
    "    \"Mrs\": \"Mrs\",\n",
    "    \"Mr\": \"Mr\",\n",
    "    \"Master\": \"Master\"\n",
    "}\n",
    "\n",
    "def get_titles(dataset):\n",
    "    #extract title from each name\n",
    "    dataset['Title'] = dataset['Name'].map(lambda name:name.split(',')[1].split('.')[0].strip())\n",
    "    \n",
    "    #map each title\n",
    "    dataset['Title'] = dataset.Title.map(Title_Dictionary)\n",
    "\n",
    "get_titles(train_data)\n",
    "get_titles(test_data)"
   ]
  },
  {
   "cell_type": "code",
   "execution_count": 10,
   "metadata": {
    "execution": {
     "iopub.execute_input": "2021-03-02T00:59:09.793777Z",
     "iopub.status.busy": "2021-03-02T00:59:09.792816Z",
     "iopub.status.idle": "2021-03-02T00:59:09.814870Z",
     "shell.execute_reply": "2021-03-02T00:59:09.814094Z"
    },
    "papermill": {
     "duration": 0.039607,
     "end_time": "2021-03-02T00:59:09.815086",
     "exception": false,
     "start_time": "2021-03-02T00:59:09.775479",
     "status": "completed"
    },
    "tags": []
   },
   "outputs": [
    {
     "name": "stdout",
     "output_type": "stream",
     "text": [
      "PassengerId: 0 missing values\n",
      "Survived: 0 missing values\n",
      "Pclass: 0 missing values\n",
      "Name: 0 missing values\n",
      "Sex: 0 missing values\n",
      "Age: 177 missing values\n",
      "SibSp: 0 missing values\n",
      "Parch: 0 missing values\n",
      "Ticket: 0 missing values\n",
      "Fare: 0 missing values\n",
      "Cabin: 687 missing values\n",
      "Embarked: 2 missing values\n",
      "FamilySize: 0 missing values\n",
      "Singleton: 0 missing values\n",
      "SmallFamily: 0 missing values\n",
      "LargeFamily: 0 missing values\n",
      "Title: 0 missing values\n",
      "\n",
      "PassengerId: 0 missing values\n",
      "Pclass: 0 missing values\n",
      "Name: 0 missing values\n",
      "Sex: 0 missing values\n",
      "Age: 86 missing values\n",
      "SibSp: 0 missing values\n",
      "Parch: 0 missing values\n",
      "Ticket: 0 missing values\n",
      "Fare: 1 missing values\n",
      "Cabin: 327 missing values\n",
      "Embarked: 0 missing values\n",
      "FamilySize: 0 missing values\n",
      "Singleton: 0 missing values\n",
      "SmallFamily: 0 missing values\n",
      "LargeFamily: 0 missing values\n",
      "Title: 1 missing values\n"
     ]
    }
   ],
   "source": [
    "#Find missing data\n",
    "for i in train_data.columns:\n",
    "    print (i + \": \"+str(sum(train_data[i].isnull()))+\" missing values\")\n",
    "print ()\n",
    "for i in test_data.columns:\n",
    "    print (i + \": \"+str(sum(test_data[i].isnull()))+\" missing values\")\n",
    "#Will fill age and embarked, drop Cabin"
   ]
  },
  {
   "cell_type": "code",
   "execution_count": 11,
   "metadata": {
    "execution": {
     "iopub.execute_input": "2021-03-02T00:59:09.853255Z",
     "iopub.status.busy": "2021-03-02T00:59:09.852335Z",
     "iopub.status.idle": "2021-03-02T00:59:09.856467Z",
     "shell.execute_reply": "2021-03-02T00:59:09.855382Z"
    },
    "papermill": {
     "duration": 0.025968,
     "end_time": "2021-03-02T00:59:09.856615",
     "exception": false,
     "start_time": "2021-03-02T00:59:09.830647",
     "status": "completed"
    },
    "tags": []
   },
   "outputs": [],
   "source": [
    "#The test data has one missing Fare value, so fill that with the mean\n",
    "test_data[\"Fare\"] = test_data[\"Fare\"].fillna(np.mean(test_data[\"Fare\"]))"
   ]
  },
  {
   "cell_type": "code",
   "execution_count": 12,
   "metadata": {
    "execution": {
     "iopub.execute_input": "2021-03-02T00:59:09.904219Z",
     "iopub.status.busy": "2021-03-02T00:59:09.898302Z",
     "iopub.status.idle": "2021-03-02T00:59:10.371304Z",
     "shell.execute_reply": "2021-03-02T00:59:10.370721Z"
    },
    "papermill": {
     "duration": 0.499698,
     "end_time": "2021-03-02T00:59:10.371468",
     "exception": false,
     "start_time": "2021-03-02T00:59:09.871770",
     "status": "completed"
    },
    "tags": []
   },
   "outputs": [],
   "source": [
    "#Fill missing Age values based on Pclass, Title, and Sex\n",
    "grouped_train_data = train_data.groupby([\"Pclass\", \"Title\", \"Sex\"])\n",
    "grouped_median_train_data = grouped_train_data.median()\n",
    "grouped_median_train_data = grouped_median_train_data.reset_index()[[\"Pclass\", \"Title\", \"Sex\", \"Age\"]]\n",
    "\n",
    "grouped_test_data = test_data.groupby([\"Pclass\", \"Title\", \"Sex\"])\n",
    "grouped_median_test_data = grouped_test_data.median()\n",
    "grouped_median_test_data = grouped_median_test_data.reset_index()[[\"Pclass\", \"Title\", \"Sex\", \"Age\"]]\n",
    "\n",
    "def fill_age(row, grouped_dataset):\n",
    "    condition = (\n",
    "        (grouped_dataset[\"Pclass\"] == row[\"Pclass\"]) &\n",
    "        (grouped_dataset[\"Title\"] == row[\"Title\"]) &\n",
    "        (grouped_dataset[\"Sex\"] == row[\"Sex\"])\n",
    "    )\n",
    "    if np.isnan(grouped_dataset[condition]['Age'].values[0]):\n",
    "        condition = (\n",
    "            (grouped_dataset[\"Pclass\"] == row[\"Pclass\"]) &\n",
    "            (grouped_dataset[\"Sex\"] == row[\"Sex\"])\n",
    "        )\n",
    "    \n",
    "    return grouped_dataset[condition]['Age'].values[0]\n",
    "\n",
    "train_data[\"Age\"] = train_data.apply(lambda row: fill_age(row, grouped_median_train_data) if np.isnan(row['Age']) else row['Age'], axis=1)\n",
    "test_data[\"Age\"] = test_data.apply(lambda row: fill_age(row, grouped_median_test_data) if np.isnan(row['Age']) else row['Age'], axis=1)"
   ]
  },
  {
   "cell_type": "code",
   "execution_count": 13,
   "metadata": {
    "execution": {
     "iopub.execute_input": "2021-03-02T00:59:10.410389Z",
     "iopub.status.busy": "2021-03-02T00:59:10.409377Z",
     "iopub.status.idle": "2021-03-02T00:59:10.413195Z",
     "shell.execute_reply": "2021-03-02T00:59:10.412625Z"
    },
    "papermill": {
     "duration": 0.025903,
     "end_time": "2021-03-02T00:59:10.413416",
     "exception": false,
     "start_time": "2021-03-02T00:59:10.387513",
     "status": "completed"
    },
    "tags": []
   },
   "outputs": [],
   "source": [
    "#Fill missing Embarked values with mode, S\n",
    "train_data[\"Embarked\"]=train_data[\"Embarked\"].fillna(\"S\")\n",
    "test_data[\"Embarked\"]=test_data[\"Embarked\"].fillna(\"S\")"
   ]
  },
  {
   "cell_type": "code",
   "execution_count": 14,
   "metadata": {
    "execution": {
     "iopub.execute_input": "2021-03-02T00:59:10.453837Z",
     "iopub.status.busy": "2021-03-02T00:59:10.450392Z",
     "iopub.status.idle": "2021-03-02T00:59:10.457486Z",
     "shell.execute_reply": "2021-03-02T00:59:10.456811Z"
    },
    "papermill": {
     "duration": 0.0286,
     "end_time": "2021-03-02T00:59:10.457633",
     "exception": false,
     "start_time": "2021-03-02T00:59:10.429033",
     "status": "completed"
    },
    "tags": []
   },
   "outputs": [],
   "source": [
    "#Fill missing Cabin values with U (for Unknown)\n",
    "train_data[\"Cabin\"]=train_data[\"Cabin\"].fillna(\"U\")\n",
    "test_data[\"Cabin\"]=test_data[\"Cabin\"].fillna(\"U\")\n",
    "\n",
    "#replace each Cabin value with just the letter\n",
    "train_data[\"Cabin\"]=train_data[\"Cabin\"].map(lambda c: c[0])\n",
    "test_data[\"Cabin\"]=test_data[\"Cabin\"].map(lambda c: c[0])"
   ]
  },
  {
   "cell_type": "code",
   "execution_count": 15,
   "metadata": {
    "execution": {
     "iopub.execute_input": "2021-03-02T00:59:10.501505Z",
     "iopub.status.busy": "2021-03-02T00:59:10.499377Z",
     "iopub.status.idle": "2021-03-02T00:59:10.514646Z",
     "shell.execute_reply": "2021-03-02T00:59:10.515260Z"
    },
    "papermill": {
     "duration": 0.041956,
     "end_time": "2021-03-02T00:59:10.515442",
     "exception": false,
     "start_time": "2021-03-02T00:59:10.473486",
     "status": "completed"
    },
    "tags": []
   },
   "outputs": [],
   "source": [
    "#Choose features for modeling\n",
    "features = [\n",
    "    \"Pclass\", \n",
    "    \"Sex\", \n",
    "    \"SibSp\", \n",
    "    \"Parch\", \n",
    "    \"Fare\", \n",
    "    \"Age\", \n",
    "    \"Title\", \n",
    "    \"FamilySize\", \n",
    "    \"LargeFamily\", \n",
    "    \"SmallFamily\", \n",
    "    \"Singleton\",\n",
    "    \"Cabin\"\n",
    "]\n",
    "y = train_data[\"Survived\"]\n",
    "X = pd.get_dummies(train_data[features])\n",
    "X_test = pd.get_dummies(test_data[features])"
   ]
  },
  {
   "cell_type": "code",
   "execution_count": 16,
   "metadata": {
    "execution": {
     "iopub.execute_input": "2021-03-02T00:59:10.554802Z",
     "iopub.status.busy": "2021-03-02T00:59:10.554124Z",
     "iopub.status.idle": "2021-03-02T00:59:11.973351Z",
     "shell.execute_reply": "2021-03-02T00:59:11.972704Z"
    },
    "papermill": {
     "duration": 1.442187,
     "end_time": "2021-03-02T00:59:11.973527",
     "exception": false,
     "start_time": "2021-03-02T00:59:10.531340",
     "status": "completed"
    },
    "tags": []
   },
   "outputs": [
    {
     "name": "stdout",
     "output_type": "stream",
     "text": [
      "The accuracy of the Random Forest Classifier is 80.0\n"
     ]
    }
   ],
   "source": [
    "#Split train data and validate using Random Forest\n",
    "train_X, val_X, train_y, val_y = train_test_split(X, y, test_size=60, random_state=1)\n",
    "\n",
    "model = RandomForestClassifier(n_estimators=400, max_depth=None, n_jobs=-1,random_state=1)\n",
    "model.fit(train_X, train_y)\n",
    "predictions = model.predict(val_X)\n",
    "\n",
    "print('The accuracy of the Random Forest Classifier is',round(accuracy_score(val_y, predictions)*100,2))"
   ]
  },
  {
   "cell_type": "code",
   "execution_count": 17,
   "metadata": {
    "execution": {
     "iopub.execute_input": "2021-03-02T00:59:12.014308Z",
     "iopub.status.busy": "2021-03-02T00:59:12.013579Z",
     "iopub.status.idle": "2021-03-02T00:59:13.430519Z",
     "shell.execute_reply": "2021-03-02T00:59:13.431158Z"
    },
    "papermill": {
     "duration": 1.441487,
     "end_time": "2021-03-02T00:59:13.431331",
     "exception": false,
     "start_time": "2021-03-02T00:59:11.989844",
     "status": "completed"
    },
    "tags": []
   },
   "outputs": [
    {
     "name": "stdout",
     "output_type": "stream",
     "text": [
      "Your submission was successfully saved!\n"
     ]
    }
   ],
   "source": [
    "#Test for submission\n",
    "model.fit(X, y)\n",
    "X_test[\"Title_Royalty\"] = 0 #added because test data has no royalty, leading to the accidental deletion of Title_Royalty column\n",
    "X_test[\"Cabin_T\"] = 0 #added because test data has no Cabin_T, leading to the accidental deletion of Cabin_T column\n",
    "predictions = model.predict(X_test)\n",
    "\n",
    "output = pd.DataFrame({'PassengerId': test_data.PassengerId, 'Survived': predictions})\n",
    "output.to_csv('my_submission.csv', index=False)\n",
    "print(\"Your submission was successfully saved!\")"
   ]
  }
 ],
 "metadata": {
  "kernelspec": {
   "display_name": "Python 3",
   "language": "python",
   "name": "python3"
  },
  "language_info": {
   "codemirror_mode": {
    "name": "ipython",
    "version": 3
   },
   "file_extension": ".py",
   "mimetype": "text/x-python",
   "name": "python",
   "nbconvert_exporter": "python",
   "pygments_lexer": "ipython3",
   "version": "3.7.9"
  },
  "papermill": {
   "default_parameters": {},
   "duration": 12.847719,
   "end_time": "2021-03-02T00:59:15.049316",
   "environment_variables": {},
   "exception": null,
   "input_path": "__notebook__.ipynb",
   "output_path": "__notebook__.ipynb",
   "parameters": {},
   "start_time": "2021-03-02T00:59:02.201597",
   "version": "2.2.2"
  }
 },
 "nbformat": 4,
 "nbformat_minor": 4
}
