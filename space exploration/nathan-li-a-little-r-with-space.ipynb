{
 "cells": [
  {
   "cell_type": "code",
   "execution_count": 1,
   "id": "parental-pharmaceutical",
   "metadata": {
    "_execution_state": "idle",
    "_uuid": "051d70d956493feee0c6d64651c6a088724dca2a",
    "execution": {
     "iopub.execute_input": "2021-04-16T18:38:20.627524Z",
     "iopub.status.busy": "2021-04-16T18:38:20.624732Z",
     "iopub.status.idle": "2021-04-16T18:38:22.287544Z",
     "shell.execute_reply": "2021-04-16T18:38:22.285769Z"
    },
    "papermill": {
     "duration": 1.677487,
     "end_time": "2021-04-16T18:38:22.287795",
     "exception": false,
     "start_time": "2021-04-16T18:38:20.610308",
     "status": "completed"
    },
    "tags": []
   },
   "outputs": [
    {
     "name": "stderr",
     "output_type": "stream",
     "text": [
      "── \u001b[1mAttaching packages\u001b[22m ─────────────────────────────────────── tidyverse 1.3.0 ──\n",
      "\n",
      "\u001b[32m✔\u001b[39m \u001b[34mggplot2\u001b[39m 3.3.3     \u001b[32m✔\u001b[39m \u001b[34mpurrr  \u001b[39m 0.3.4\n",
      "\u001b[32m✔\u001b[39m \u001b[34mtibble \u001b[39m 3.1.0     \u001b[32m✔\u001b[39m \u001b[34mdplyr  \u001b[39m 1.0.5\n",
      "\u001b[32m✔\u001b[39m \u001b[34mtidyr  \u001b[39m 1.1.3     \u001b[32m✔\u001b[39m \u001b[34mstringr\u001b[39m 1.4.0\n",
      "\u001b[32m✔\u001b[39m \u001b[34mreadr  \u001b[39m 1.4.0     \u001b[32m✔\u001b[39m \u001b[34mforcats\u001b[39m 0.5.0\n",
      "\n",
      "── \u001b[1mConflicts\u001b[22m ────────────────────────────────────────── tidyverse_conflicts() ──\n",
      "\u001b[31m✖\u001b[39m \u001b[34mdplyr\u001b[39m::\u001b[32mfilter()\u001b[39m masks \u001b[34mstats\u001b[39m::filter()\n",
      "\u001b[31m✖\u001b[39m \u001b[34mdplyr\u001b[39m::\u001b[32mlag()\u001b[39m    masks \u001b[34mstats\u001b[39m::lag()\n",
      "\n"
     ]
    },
    {
     "data": {
      "text/html": [
       "'all-space-missions-from-1957'"
      ],
      "text/latex": [
       "'all-space-missions-from-1957'"
      ],
      "text/markdown": [
       "'all-space-missions-from-1957'"
      ],
      "text/plain": [
       "[1] \"all-space-missions-from-1957\""
      ]
     },
     "metadata": {},
     "output_type": "display_data"
    }
   ],
   "source": [
    "# This R environment comes with many helpful analytics packages installed\n",
    "# It is defined by the kaggle/rstats Docker image: https://github.com/kaggle/docker-rstats\n",
    "# For example, here's a helpful package to load\n",
    "\n",
    "library(tidyverse) # metapackage of all tidyverse packages\n",
    "\n",
    "# Input data files are available in the read-only \"../input/\" directory\n",
    "# For example, running this (by clicking run or pressing Shift+Enter) will list all files under the input directory\n",
    "\n",
    "list.files(path = \"../input\")\n",
    "\n",
    "# You can write up to 20GB to the current directory (/kaggle/working/) that gets preserved as output when you create a version using \"Save & Run All\" \n",
    "# You can also write temporary files to /kaggle/temp/, but they won't be saved outside of the current session"
   ]
  },
  {
   "cell_type": "code",
   "execution_count": 2,
   "id": "numerical-symposium",
   "metadata": {
    "execution": {
     "iopub.execute_input": "2021-04-16T18:38:22.354321Z",
     "iopub.status.busy": "2021-04-16T18:38:22.315502Z",
     "iopub.status.idle": "2021-04-16T18:38:22.600424Z",
     "shell.execute_reply": "2021-04-16T18:38:22.598132Z"
    },
    "papermill": {
     "duration": 0.300683,
     "end_time": "2021-04-16T18:38:22.600663",
     "exception": false,
     "start_time": "2021-04-16T18:38:22.299980",
     "status": "completed"
    },
    "tags": []
   },
   "outputs": [
    {
     "name": "stderr",
     "output_type": "stream",
     "text": [
      "Warning message:\n",
      "“Missing column names filled in: 'X1' [1]”\n",
      "\n",
      "\u001b[36m──\u001b[39m \u001b[1m\u001b[1mColumn specification\u001b[1m\u001b[22m \u001b[36m────────────────────────────────────────────────────────\u001b[39m\n",
      "cols(\n",
      "  X1 = \u001b[32mcol_double()\u001b[39m,\n",
      "  `Unnamed: 0` = \u001b[32mcol_double()\u001b[39m,\n",
      "  `Company Name` = \u001b[31mcol_character()\u001b[39m,\n",
      "  Location = \u001b[31mcol_character()\u001b[39m,\n",
      "  Datum = \u001b[31mcol_character()\u001b[39m,\n",
      "  Detail = \u001b[31mcol_character()\u001b[39m,\n",
      "  `Status Rocket` = \u001b[31mcol_character()\u001b[39m,\n",
      "  Rocket = \u001b[32mcol_double()\u001b[39m,\n",
      "  `Status Mission` = \u001b[31mcol_character()\u001b[39m\n",
      ")\n",
      "\n",
      "\n",
      "Warning message:\n",
      "“15 parsing failures.\n",
      " row    col               expected  actual                                                        file\n",
      "1917 Rocket no trailing characters 5,000.0 '../input/all-space-missions-from-1957/Space_Corrected.csv'\n",
      "2001 Rocket no trailing characters 5,000.0 '../input/all-space-missions-from-1957/Space_Corrected.csv'\n",
      "3150 Rocket no trailing characters 1,160.0 '../input/all-space-missions-from-1957/Space_Corrected.csv'\n",
      "3181 Rocket no trailing characters 1,160.0 '../input/all-space-missions-from-1957/Space_Corrected.csv'\n",
      "3244 Rocket no trailing characters 1,160.0 '../input/all-space-missions-from-1957/Space_Corrected.csv'\n",
      ".... ...... ...................... ....... ...........................................................\n",
      "See problems(...) for more details.\n",
      "”\n"
     ]
    }
   ],
   "source": [
    "space_data <- read_csv(\"../input/all-space-missions-from-1957/Space_Corrected.csv\")\n",
    "space_data <- space_data[-2] #Getting rid of unnecessary second index column. Side note, R starts indices at 1, which is weird"
   ]
  },
  {
   "cell_type": "markdown",
   "id": "annual-messaging",
   "metadata": {
    "papermill": {
     "duration": 0.012096,
     "end_time": "2021-04-16T18:38:22.625540",
     "exception": false,
     "start_time": "2021-04-16T18:38:22.613444",
     "status": "completed"
    },
    "tags": []
   },
   "source": [
    "# Initial exploration of the space data"
   ]
  },
  {
   "cell_type": "code",
   "execution_count": 3,
   "id": "inappropriate-diamond",
   "metadata": {
    "execution": {
     "iopub.execute_input": "2021-04-16T18:38:22.655497Z",
     "iopub.status.busy": "2021-04-16T18:38:22.654039Z",
     "iopub.status.idle": "2021-04-16T18:38:22.686541Z",
     "shell.execute_reply": "2021-04-16T18:38:22.684875Z"
    },
    "papermill": {
     "duration": 0.049092,
     "end_time": "2021-04-16T18:38:22.686696",
     "exception": false,
     "start_time": "2021-04-16T18:38:22.637604",
     "status": "completed"
    },
    "tags": []
   },
   "outputs": [
    {
     "data": {
      "text/html": [
       "<table class=\"dataframe\">\n",
       "<caption>A tibble: 6 × 8</caption>\n",
       "<thead>\n",
       "\t<tr><th scope=col>X1</th><th scope=col>Company Name</th><th scope=col>Location</th><th scope=col>Datum</th><th scope=col>Detail</th><th scope=col>Status Rocket</th><th scope=col>Rocket</th><th scope=col>Status Mission</th></tr>\n",
       "\t<tr><th scope=col>&lt;dbl&gt;</th><th scope=col>&lt;chr&gt;</th><th scope=col>&lt;chr&gt;</th><th scope=col>&lt;chr&gt;</th><th scope=col>&lt;chr&gt;</th><th scope=col>&lt;chr&gt;</th><th scope=col>&lt;dbl&gt;</th><th scope=col>&lt;chr&gt;</th></tr>\n",
       "</thead>\n",
       "<tbody>\n",
       "\t<tr><td>0</td><td><span style=white-space:pre-wrap>SpaceX   </span></td><td><span style=white-space:pre-wrap>LC-39A, Kennedy Space Center, Florida, USA               </span></td><td>Fri Aug 07, 2020 05:12 UTC</td><td><span style=white-space:pre-wrap>Falcon 9 Block 5 | Starlink V1 L9 &amp; BlackSky          </span></td><td>StatusActive</td><td> 50.00</td><td>Success</td></tr>\n",
       "\t<tr><td>1</td><td><span style=white-space:pre-wrap>CASC     </span></td><td>Site 9401 (SLS-2), Jiuquan Satellite Launch Center, China</td><td>Thu Aug 06, 2020 04:01 UTC</td><td><span style=white-space:pre-wrap>Long March 2D | Gaofen-9 04 &amp; Q-SAT                   </span></td><td>StatusActive</td><td> 29.75</td><td>Success</td></tr>\n",
       "\t<tr><td>2</td><td>SpaceX   </td><td>Pad A, Boca Chica, Texas, USA                            </td><td>Tue Aug 04, 2020 23:57 UTC</td><td>Starship Prototype | 150 Meter Hop                    </td><td>StatusActive</td><td>    NA</td><td>Success</td></tr>\n",
       "\t<tr><td>3</td><td>Roscosmos</td><td><span style=white-space:pre-wrap>Site 200/39, Baikonur Cosmodrome, Kazakhstan             </span></td><td>Thu Jul 30, 2020 21:25 UTC</td><td><span style=white-space:pre-wrap>Proton-M/Briz-M | Ekspress-80 &amp; Ekspress-103          </span></td><td>StatusActive</td><td> 65.00</td><td>Success</td></tr>\n",
       "\t<tr><td>4</td><td>ULA      </td><td>SLC-41, Cape Canaveral AFS, Florida, USA                 </td><td>Thu Jul 30, 2020 11:50 UTC</td><td>Atlas V 541 | Perseverance                            </td><td>StatusActive</td><td>145.00</td><td>Success</td></tr>\n",
       "\t<tr><td>5</td><td><span style=white-space:pre-wrap>CASC     </span></td><td><span style=white-space:pre-wrap>LC-9, Taiyuan Satellite Launch Center, China             </span></td><td>Sat Jul 25, 2020 03:13 UTC</td><td>Long March 4B | Ziyuan-3 03, Apocalypse-10 &amp; NJU-HKU 1</td><td>StatusActive</td><td> 64.68</td><td>Success</td></tr>\n",
       "</tbody>\n",
       "</table>\n"
      ],
      "text/latex": [
       "A tibble: 6 × 8\n",
       "\\begin{tabular}{llllllll}\n",
       " X1 & Company Name & Location & Datum & Detail & Status Rocket & Rocket & Status Mission\\\\\n",
       " <dbl> & <chr> & <chr> & <chr> & <chr> & <chr> & <dbl> & <chr>\\\\\n",
       "\\hline\n",
       "\t 0 & SpaceX    & LC-39A, Kennedy Space Center, Florida, USA                & Fri Aug 07, 2020 05:12 UTC & Falcon 9 Block 5 \\textbar{} Starlink V1 L9 \\& BlackSky           & StatusActive &  50.00 & Success\\\\\n",
       "\t 1 & CASC      & Site 9401 (SLS-2), Jiuquan Satellite Launch Center, China & Thu Aug 06, 2020 04:01 UTC & Long March 2D \\textbar{} Gaofen-9 04 \\& Q-SAT                    & StatusActive &  29.75 & Success\\\\\n",
       "\t 2 & SpaceX    & Pad A, Boca Chica, Texas, USA                             & Tue Aug 04, 2020 23:57 UTC & Starship Prototype \\textbar{} 150 Meter Hop                     & StatusActive &     NA & Success\\\\\n",
       "\t 3 & Roscosmos & Site 200/39, Baikonur Cosmodrome, Kazakhstan              & Thu Jul 30, 2020 21:25 UTC & Proton-M/Briz-M \\textbar{} Ekspress-80 \\& Ekspress-103           & StatusActive &  65.00 & Success\\\\\n",
       "\t 4 & ULA       & SLC-41, Cape Canaveral AFS, Florida, USA                  & Thu Jul 30, 2020 11:50 UTC & Atlas V 541 \\textbar{} Perseverance                             & StatusActive & 145.00 & Success\\\\\n",
       "\t 5 & CASC      & LC-9, Taiyuan Satellite Launch Center, China              & Sat Jul 25, 2020 03:13 UTC & Long March 4B \\textbar{} Ziyuan-3 03, Apocalypse-10 \\& NJU-HKU 1 & StatusActive &  64.68 & Success\\\\\n",
       "\\end{tabular}\n"
      ],
      "text/markdown": [
       "\n",
       "A tibble: 6 × 8\n",
       "\n",
       "| X1 &lt;dbl&gt; | Company Name &lt;chr&gt; | Location &lt;chr&gt; | Datum &lt;chr&gt; | Detail &lt;chr&gt; | Status Rocket &lt;chr&gt; | Rocket &lt;dbl&gt; | Status Mission &lt;chr&gt; |\n",
       "|---|---|---|---|---|---|---|---|\n",
       "| 0 | SpaceX    | LC-39A, Kennedy Space Center, Florida, USA                | Fri Aug 07, 2020 05:12 UTC | Falcon 9 Block 5 | Starlink V1 L9 &amp; BlackSky           | StatusActive |  50.00 | Success |\n",
       "| 1 | CASC      | Site 9401 (SLS-2), Jiuquan Satellite Launch Center, China | Thu Aug 06, 2020 04:01 UTC | Long March 2D | Gaofen-9 04 &amp; Q-SAT                    | StatusActive |  29.75 | Success |\n",
       "| 2 | SpaceX    | Pad A, Boca Chica, Texas, USA                             | Tue Aug 04, 2020 23:57 UTC | Starship Prototype | 150 Meter Hop                     | StatusActive |     NA | Success |\n",
       "| 3 | Roscosmos | Site 200/39, Baikonur Cosmodrome, Kazakhstan              | Thu Jul 30, 2020 21:25 UTC | Proton-M/Briz-M | Ekspress-80 &amp; Ekspress-103           | StatusActive |  65.00 | Success |\n",
       "| 4 | ULA       | SLC-41, Cape Canaveral AFS, Florida, USA                  | Thu Jul 30, 2020 11:50 UTC | Atlas V 541 | Perseverance                             | StatusActive | 145.00 | Success |\n",
       "| 5 | CASC      | LC-9, Taiyuan Satellite Launch Center, China              | Sat Jul 25, 2020 03:13 UTC | Long March 4B | Ziyuan-3 03, Apocalypse-10 &amp; NJU-HKU 1 | StatusActive |  64.68 | Success |\n",
       "\n"
      ],
      "text/plain": [
       "  X1 Company Name Location                                                 \n",
       "1 0  SpaceX       LC-39A, Kennedy Space Center, Florida, USA               \n",
       "2 1  CASC         Site 9401 (SLS-2), Jiuquan Satellite Launch Center, China\n",
       "3 2  SpaceX       Pad A, Boca Chica, Texas, USA                            \n",
       "4 3  Roscosmos    Site 200/39, Baikonur Cosmodrome, Kazakhstan             \n",
       "5 4  ULA          SLC-41, Cape Canaveral AFS, Florida, USA                 \n",
       "6 5  CASC         LC-9, Taiyuan Satellite Launch Center, China             \n",
       "  Datum                     \n",
       "1 Fri Aug 07, 2020 05:12 UTC\n",
       "2 Thu Aug 06, 2020 04:01 UTC\n",
       "3 Tue Aug 04, 2020 23:57 UTC\n",
       "4 Thu Jul 30, 2020 21:25 UTC\n",
       "5 Thu Jul 30, 2020 11:50 UTC\n",
       "6 Sat Jul 25, 2020 03:13 UTC\n",
       "  Detail                                                 Status Rocket Rocket\n",
       "1 Falcon 9 Block 5 | Starlink V1 L9 & BlackSky           StatusActive   50.00\n",
       "2 Long March 2D | Gaofen-9 04 & Q-SAT                    StatusActive   29.75\n",
       "3 Starship Prototype | 150 Meter Hop                     StatusActive      NA\n",
       "4 Proton-M/Briz-M | Ekspress-80 & Ekspress-103           StatusActive   65.00\n",
       "5 Atlas V 541 | Perseverance                             StatusActive  145.00\n",
       "6 Long March 4B | Ziyuan-3 03, Apocalypse-10 & NJU-HKU 1 StatusActive   64.68\n",
       "  Status Mission\n",
       "1 Success       \n",
       "2 Success       \n",
       "3 Success       \n",
       "4 Success       \n",
       "5 Success       \n",
       "6 Success       "
      ]
     },
     "metadata": {},
     "output_type": "display_data"
    }
   ],
   "source": [
    "head(space_data)"
   ]
  },
  {
   "cell_type": "code",
   "execution_count": 4,
   "id": "strategic-simulation",
   "metadata": {
    "execution": {
     "iopub.execute_input": "2021-04-16T18:38:22.730911Z",
     "iopub.status.busy": "2021-04-16T18:38:22.728779Z",
     "iopub.status.idle": "2021-04-16T18:38:22.756028Z",
     "shell.execute_reply": "2021-04-16T18:38:22.754466Z"
    },
    "papermill": {
     "duration": 0.055958,
     "end_time": "2021-04-16T18:38:22.756198",
     "exception": false,
     "start_time": "2021-04-16T18:38:22.700240",
     "status": "completed"
    },
    "tags": []
   },
   "outputs": [
    {
     "data": {
      "text/html": [
       "<table class=\"dataframe\">\n",
       "<caption>A tibble: 6 × 8</caption>\n",
       "<thead>\n",
       "\t<tr><th scope=col>X1</th><th scope=col>Company Name</th><th scope=col>Location</th><th scope=col>Datum</th><th scope=col>Detail</th><th scope=col>Status Rocket</th><th scope=col>Rocket</th><th scope=col>Status Mission</th></tr>\n",
       "\t<tr><th scope=col>&lt;dbl&gt;</th><th scope=col>&lt;chr&gt;</th><th scope=col>&lt;chr&gt;</th><th scope=col>&lt;chr&gt;</th><th scope=col>&lt;chr&gt;</th><th scope=col>&lt;chr&gt;</th><th scope=col>&lt;dbl&gt;</th><th scope=col>&lt;chr&gt;</th></tr>\n",
       "</thead>\n",
       "<tbody>\n",
       "\t<tr><td>4318</td><td>AMBA     </td><td>LC-26A, Cape Canaveral AFS, Florida, USA </td><td>Wed Mar 05, 1958 18:27 UTC</td><td>Juno I | Explorer 2       </td><td>StatusRetired</td><td>NA</td><td>Failure</td></tr>\n",
       "\t<tr><td>4319</td><td>US Navy  </td><td>LC-18A, Cape Canaveral AFS, Florida, USA </td><td>Wed Feb 05, 1958 07:33 UTC</td><td>Vanguard | Vanguard TV3BU </td><td>StatusRetired</td><td>NA</td><td>Failure</td></tr>\n",
       "\t<tr><td>4320</td><td>AMBA     </td><td>LC-26A, Cape Canaveral AFS, Florida, USA </td><td>Sat Feb 01, 1958 03:48 UTC</td><td>Juno I | Explorer 1       </td><td>StatusRetired</td><td>NA</td><td>Success</td></tr>\n",
       "\t<tr><td>4321</td><td>US Navy  </td><td>LC-18A, Cape Canaveral AFS, Florida, USA </td><td>Fri Dec 06, 1957 16:44 UTC</td><td>Vanguard | Vanguard TV3   </td><td>StatusRetired</td><td>NA</td><td>Failure</td></tr>\n",
       "\t<tr><td>4322</td><td>RVSN USSR</td><td>Site 1/5, Baikonur Cosmodrome, Kazakhstan</td><td>Sun Nov 03, 1957 02:30 UTC</td><td>Sputnik 8K71PS | Sputnik-2</td><td>StatusRetired</td><td>NA</td><td>Success</td></tr>\n",
       "\t<tr><td>4323</td><td>RVSN USSR</td><td>Site 1/5, Baikonur Cosmodrome, Kazakhstan</td><td>Fri Oct 04, 1957 19:28 UTC</td><td>Sputnik 8K71PS | Sputnik-1</td><td>StatusRetired</td><td>NA</td><td>Success</td></tr>\n",
       "</tbody>\n",
       "</table>\n"
      ],
      "text/latex": [
       "A tibble: 6 × 8\n",
       "\\begin{tabular}{llllllll}\n",
       " X1 & Company Name & Location & Datum & Detail & Status Rocket & Rocket & Status Mission\\\\\n",
       " <dbl> & <chr> & <chr> & <chr> & <chr> & <chr> & <dbl> & <chr>\\\\\n",
       "\\hline\n",
       "\t 4318 & AMBA      & LC-26A, Cape Canaveral AFS, Florida, USA  & Wed Mar 05, 1958 18:27 UTC & Juno I \\textbar{} Explorer 2        & StatusRetired & NA & Failure\\\\\n",
       "\t 4319 & US Navy   & LC-18A, Cape Canaveral AFS, Florida, USA  & Wed Feb 05, 1958 07:33 UTC & Vanguard \\textbar{} Vanguard TV3BU  & StatusRetired & NA & Failure\\\\\n",
       "\t 4320 & AMBA      & LC-26A, Cape Canaveral AFS, Florida, USA  & Sat Feb 01, 1958 03:48 UTC & Juno I \\textbar{} Explorer 1        & StatusRetired & NA & Success\\\\\n",
       "\t 4321 & US Navy   & LC-18A, Cape Canaveral AFS, Florida, USA  & Fri Dec 06, 1957 16:44 UTC & Vanguard \\textbar{} Vanguard TV3    & StatusRetired & NA & Failure\\\\\n",
       "\t 4322 & RVSN USSR & Site 1/5, Baikonur Cosmodrome, Kazakhstan & Sun Nov 03, 1957 02:30 UTC & Sputnik 8K71PS \\textbar{} Sputnik-2 & StatusRetired & NA & Success\\\\\n",
       "\t 4323 & RVSN USSR & Site 1/5, Baikonur Cosmodrome, Kazakhstan & Fri Oct 04, 1957 19:28 UTC & Sputnik 8K71PS \\textbar{} Sputnik-1 & StatusRetired & NA & Success\\\\\n",
       "\\end{tabular}\n"
      ],
      "text/markdown": [
       "\n",
       "A tibble: 6 × 8\n",
       "\n",
       "| X1 &lt;dbl&gt; | Company Name &lt;chr&gt; | Location &lt;chr&gt; | Datum &lt;chr&gt; | Detail &lt;chr&gt; | Status Rocket &lt;chr&gt; | Rocket &lt;dbl&gt; | Status Mission &lt;chr&gt; |\n",
       "|---|---|---|---|---|---|---|---|\n",
       "| 4318 | AMBA      | LC-26A, Cape Canaveral AFS, Florida, USA  | Wed Mar 05, 1958 18:27 UTC | Juno I | Explorer 2        | StatusRetired | NA | Failure |\n",
       "| 4319 | US Navy   | LC-18A, Cape Canaveral AFS, Florida, USA  | Wed Feb 05, 1958 07:33 UTC | Vanguard | Vanguard TV3BU  | StatusRetired | NA | Failure |\n",
       "| 4320 | AMBA      | LC-26A, Cape Canaveral AFS, Florida, USA  | Sat Feb 01, 1958 03:48 UTC | Juno I | Explorer 1        | StatusRetired | NA | Success |\n",
       "| 4321 | US Navy   | LC-18A, Cape Canaveral AFS, Florida, USA  | Fri Dec 06, 1957 16:44 UTC | Vanguard | Vanguard TV3    | StatusRetired | NA | Failure |\n",
       "| 4322 | RVSN USSR | Site 1/5, Baikonur Cosmodrome, Kazakhstan | Sun Nov 03, 1957 02:30 UTC | Sputnik 8K71PS | Sputnik-2 | StatusRetired | NA | Success |\n",
       "| 4323 | RVSN USSR | Site 1/5, Baikonur Cosmodrome, Kazakhstan | Fri Oct 04, 1957 19:28 UTC | Sputnik 8K71PS | Sputnik-1 | StatusRetired | NA | Success |\n",
       "\n"
      ],
      "text/plain": [
       "  X1   Company Name Location                                 \n",
       "1 4318 AMBA         LC-26A, Cape Canaveral AFS, Florida, USA \n",
       "2 4319 US Navy      LC-18A, Cape Canaveral AFS, Florida, USA \n",
       "3 4320 AMBA         LC-26A, Cape Canaveral AFS, Florida, USA \n",
       "4 4321 US Navy      LC-18A, Cape Canaveral AFS, Florida, USA \n",
       "5 4322 RVSN USSR    Site 1/5, Baikonur Cosmodrome, Kazakhstan\n",
       "6 4323 RVSN USSR    Site 1/5, Baikonur Cosmodrome, Kazakhstan\n",
       "  Datum                      Detail                     Status Rocket Rocket\n",
       "1 Wed Mar 05, 1958 18:27 UTC Juno I | Explorer 2        StatusRetired NA    \n",
       "2 Wed Feb 05, 1958 07:33 UTC Vanguard | Vanguard TV3BU  StatusRetired NA    \n",
       "3 Sat Feb 01, 1958 03:48 UTC Juno I | Explorer 1        StatusRetired NA    \n",
       "4 Fri Dec 06, 1957 16:44 UTC Vanguard | Vanguard TV3    StatusRetired NA    \n",
       "5 Sun Nov 03, 1957 02:30 UTC Sputnik 8K71PS | Sputnik-2 StatusRetired NA    \n",
       "6 Fri Oct 04, 1957 19:28 UTC Sputnik 8K71PS | Sputnik-1 StatusRetired NA    \n",
       "  Status Mission\n",
       "1 Failure       \n",
       "2 Failure       \n",
       "3 Success       \n",
       "4 Failure       \n",
       "5 Success       \n",
       "6 Success       "
      ]
     },
     "metadata": {},
     "output_type": "display_data"
    }
   ],
   "source": [
    "tail(space_data)"
   ]
  },
  {
   "cell_type": "markdown",
   "id": "surface-outline",
   "metadata": {
    "papermill": {
     "duration": 0.013806,
     "end_time": "2021-04-16T18:38:22.784152",
     "exception": false,
     "start_time": "2021-04-16T18:38:22.770346",
     "status": "completed"
    },
    "tags": []
   },
   "source": [
    "# Some basic cleaning of missing space data"
   ]
  },
  {
   "cell_type": "code",
   "execution_count": 5,
   "id": "sophisticated-programmer",
   "metadata": {
    "execution": {
     "iopub.execute_input": "2021-04-16T18:38:22.818141Z",
     "iopub.status.busy": "2021-04-16T18:38:22.816218Z",
     "iopub.status.idle": "2021-04-16T18:38:22.850325Z",
     "shell.execute_reply": "2021-04-16T18:38:22.848809Z"
    },
    "papermill": {
     "duration": 0.052444,
     "end_time": "2021-04-16T18:38:22.850475",
     "exception": false,
     "start_time": "2021-04-16T18:38:22.798031",
     "status": "completed"
    },
    "tags": []
   },
   "outputs": [
    {
     "data": {
      "text/html": [
       "<style>\n",
       ".list-inline {list-style: none; margin:0; padding: 0}\n",
       ".list-inline>li {display: inline-block}\n",
       ".list-inline>li:not(:last-child)::after {content: \"\\00b7\"; padding: 0 .5ex}\n",
       "</style>\n",
       "<ol class=list-inline><li>3375</li><li>8</li></ol>\n"
      ],
      "text/latex": [
       "\\begin{enumerate*}\n",
       "\\item 3375\n",
       "\\item 8\n",
       "\\end{enumerate*}\n"
      ],
      "text/markdown": [
       "1. 3375\n",
       "2. 8\n",
       "\n",
       "\n"
      ],
      "text/plain": [
       "[1] 3375    8"
      ]
     },
     "metadata": {},
     "output_type": "display_data"
    },
    {
     "data": {
      "text/html": [
       "<table class=\"dataframe\">\n",
       "<caption>A tibble: 6 × 8</caption>\n",
       "<thead>\n",
       "\t<tr><th scope=col>X1</th><th scope=col>Company Name</th><th scope=col>Location</th><th scope=col>Datum</th><th scope=col>Detail</th><th scope=col>Status Rocket</th><th scope=col>Rocket</th><th scope=col>Status Mission</th></tr>\n",
       "\t<tr><th scope=col>&lt;dbl&gt;</th><th scope=col>&lt;chr&gt;</th><th scope=col>&lt;chr&gt;</th><th scope=col>&lt;chr&gt;</th><th scope=col>&lt;chr&gt;</th><th scope=col>&lt;chr&gt;</th><th scope=col>&lt;dbl&gt;</th><th scope=col>&lt;chr&gt;</th></tr>\n",
       "</thead>\n",
       "<tbody>\n",
       "\t<tr><td> 2</td><td>SpaceX</td><td>Pad A, Boca Chica, Texas, USA                  </td><td>Tue Aug 04, 2020 23:57 UTC</td><td>Starship Prototype | 150 Meter Hop            </td><td>StatusActive</td><td>NA</td><td>Success</td></tr>\n",
       "\t<tr><td> 7</td><td>CASC  </td><td>LC-101, Wenchang Satellite Launch Center, China</td><td>Thu Jul 23, 2020 04:41 UTC</td><td>Long March 5 | Tianwen-1                      </td><td>StatusActive</td><td>NA</td><td>Success</td></tr>\n",
       "\t<tr><td>13</td><td>IAI   </td><td>Pad 1, Palmachim Airbase, Israel               </td><td>Mon Jul 06, 2020 01:00 UTC</td><td>Shavit-2 | Ofek-16                            </td><td>StatusActive</td><td>NA</td><td>Success</td></tr>\n",
       "\t<tr><td>28</td><td>VKS RF</td><td>Site 43/4, Plesetsk Cosmodrome, Russia         </td><td>Fri May 22, 2020 07:31 UTC</td><td>Soyuz 2.1b/Fregat-M | Cosmos 2546             </td><td>StatusActive</td><td>NA</td><td>Success</td></tr>\n",
       "\t<tr><td>31</td><td>ExPace</td><td>Site 95, Jiuquan Satellite Launch Center, China</td><td>Tue May 12, 2020 01:16 UTC</td><td><span style=white-space:pre-wrap>Kuaizhou 1A | Xingyun-2 01 (Wuhan) &amp; 02       </span></td><td>StatusActive</td><td>NA</td><td>Success</td></tr>\n",
       "\t<tr><td>32</td><td>CASC  </td><td>LC-101, Wenchang Satellite Launch Center, China</td><td>Tue May 05, 2020 10:00 UTC</td><td>Long March 5B | Test Flight (New Crew Capsule)</td><td>StatusActive</td><td>NA</td><td>Success</td></tr>\n",
       "</tbody>\n",
       "</table>\n"
      ],
      "text/latex": [
       "A tibble: 6 × 8\n",
       "\\begin{tabular}{llllllll}\n",
       " X1 & Company Name & Location & Datum & Detail & Status Rocket & Rocket & Status Mission\\\\\n",
       " <dbl> & <chr> & <chr> & <chr> & <chr> & <chr> & <dbl> & <chr>\\\\\n",
       "\\hline\n",
       "\t  2 & SpaceX & Pad A, Boca Chica, Texas, USA                   & Tue Aug 04, 2020 23:57 UTC & Starship Prototype \\textbar{} 150 Meter Hop             & StatusActive & NA & Success\\\\\n",
       "\t  7 & CASC   & LC-101, Wenchang Satellite Launch Center, China & Thu Jul 23, 2020 04:41 UTC & Long March 5 \\textbar{} Tianwen-1                       & StatusActive & NA & Success\\\\\n",
       "\t 13 & IAI    & Pad 1, Palmachim Airbase, Israel                & Mon Jul 06, 2020 01:00 UTC & Shavit-2 \\textbar{} Ofek-16                             & StatusActive & NA & Success\\\\\n",
       "\t 28 & VKS RF & Site 43/4, Plesetsk Cosmodrome, Russia          & Fri May 22, 2020 07:31 UTC & Soyuz 2.1b/Fregat-M \\textbar{} Cosmos 2546              & StatusActive & NA & Success\\\\\n",
       "\t 31 & ExPace & Site 95, Jiuquan Satellite Launch Center, China & Tue May 12, 2020 01:16 UTC & Kuaizhou 1A \\textbar{} Xingyun-2 01 (Wuhan) \\& 02        & StatusActive & NA & Success\\\\\n",
       "\t 32 & CASC   & LC-101, Wenchang Satellite Launch Center, China & Tue May 05, 2020 10:00 UTC & Long March 5B \\textbar{} Test Flight (New Crew Capsule) & StatusActive & NA & Success\\\\\n",
       "\\end{tabular}\n"
      ],
      "text/markdown": [
       "\n",
       "A tibble: 6 × 8\n",
       "\n",
       "| X1 &lt;dbl&gt; | Company Name &lt;chr&gt; | Location &lt;chr&gt; | Datum &lt;chr&gt; | Detail &lt;chr&gt; | Status Rocket &lt;chr&gt; | Rocket &lt;dbl&gt; | Status Mission &lt;chr&gt; |\n",
       "|---|---|---|---|---|---|---|---|\n",
       "|  2 | SpaceX | Pad A, Boca Chica, Texas, USA                   | Tue Aug 04, 2020 23:57 UTC | Starship Prototype | 150 Meter Hop             | StatusActive | NA | Success |\n",
       "|  7 | CASC   | LC-101, Wenchang Satellite Launch Center, China | Thu Jul 23, 2020 04:41 UTC | Long March 5 | Tianwen-1                       | StatusActive | NA | Success |\n",
       "| 13 | IAI    | Pad 1, Palmachim Airbase, Israel                | Mon Jul 06, 2020 01:00 UTC | Shavit-2 | Ofek-16                             | StatusActive | NA | Success |\n",
       "| 28 | VKS RF | Site 43/4, Plesetsk Cosmodrome, Russia          | Fri May 22, 2020 07:31 UTC | Soyuz 2.1b/Fregat-M | Cosmos 2546              | StatusActive | NA | Success |\n",
       "| 31 | ExPace | Site 95, Jiuquan Satellite Launch Center, China | Tue May 12, 2020 01:16 UTC | Kuaizhou 1A | Xingyun-2 01 (Wuhan) &amp; 02        | StatusActive | NA | Success |\n",
       "| 32 | CASC   | LC-101, Wenchang Satellite Launch Center, China | Tue May 05, 2020 10:00 UTC | Long March 5B | Test Flight (New Crew Capsule) | StatusActive | NA | Success |\n",
       "\n"
      ],
      "text/plain": [
       "  X1 Company Name Location                                       \n",
       "1  2 SpaceX       Pad A, Boca Chica, Texas, USA                  \n",
       "2  7 CASC         LC-101, Wenchang Satellite Launch Center, China\n",
       "3 13 IAI          Pad 1, Palmachim Airbase, Israel               \n",
       "4 28 VKS RF       Site 43/4, Plesetsk Cosmodrome, Russia         \n",
       "5 31 ExPace       Site 95, Jiuquan Satellite Launch Center, China\n",
       "6 32 CASC         LC-101, Wenchang Satellite Launch Center, China\n",
       "  Datum                      Detail                                        \n",
       "1 Tue Aug 04, 2020 23:57 UTC Starship Prototype | 150 Meter Hop            \n",
       "2 Thu Jul 23, 2020 04:41 UTC Long March 5 | Tianwen-1                      \n",
       "3 Mon Jul 06, 2020 01:00 UTC Shavit-2 | Ofek-16                            \n",
       "4 Fri May 22, 2020 07:31 UTC Soyuz 2.1b/Fregat-M | Cosmos 2546             \n",
       "5 Tue May 12, 2020 01:16 UTC Kuaizhou 1A | Xingyun-2 01 (Wuhan) & 02       \n",
       "6 Tue May 05, 2020 10:00 UTC Long March 5B | Test Flight (New Crew Capsule)\n",
       "  Status Rocket Rocket Status Mission\n",
       "1 StatusActive  NA     Success       \n",
       "2 StatusActive  NA     Success       \n",
       "3 StatusActive  NA     Success       \n",
       "4 StatusActive  NA     Success       \n",
       "5 StatusActive  NA     Success       \n",
       "6 StatusActive  NA     Success       "
      ]
     },
     "metadata": {},
     "output_type": "display_data"
    }
   ],
   "source": [
    "missing <- space_data[!complete.cases(space_data),]\n",
    "dim(missing) #Uh oh, it looks like 3375/4323 rows have missing rocket cost data\n",
    "head(missing)"
   ]
  },
  {
   "cell_type": "code",
   "execution_count": 6,
   "id": "latin-browse",
   "metadata": {
    "execution": {
     "iopub.execute_input": "2021-04-16T18:38:22.887485Z",
     "iopub.status.busy": "2021-04-16T18:38:22.886024Z",
     "iopub.status.idle": "2021-04-16T18:38:22.911947Z",
     "shell.execute_reply": "2021-04-16T18:38:22.910815Z"
    },
    "papermill": {
     "duration": 0.046161,
     "end_time": "2021-04-16T18:38:22.912191",
     "exception": false,
     "start_time": "2021-04-16T18:38:22.866030",
     "status": "completed"
    },
    "tags": []
   },
   "outputs": [
    {
     "data": {
      "text/html": [
       "<table class=\"dataframe\">\n",
       "<caption>A tibble: 6 × 8</caption>\n",
       "<thead>\n",
       "\t<tr><th scope=col>X1</th><th scope=col>Company Name</th><th scope=col>Location</th><th scope=col>Datum</th><th scope=col>Detail</th><th scope=col>Status Rocket</th><th scope=col>Rocket</th><th scope=col>Status Mission</th></tr>\n",
       "\t<tr><th scope=col>&lt;dbl&gt;</th><th scope=col>&lt;chr&gt;</th><th scope=col>&lt;chr&gt;</th><th scope=col>&lt;chr&gt;</th><th scope=col>&lt;chr&gt;</th><th scope=col>&lt;chr&gt;</th><th scope=col>&lt;dbl&gt;</th><th scope=col>&lt;chr&gt;</th></tr>\n",
       "</thead>\n",
       "<tbody>\n",
       "\t<tr><td>0</td><td><span style=white-space:pre-wrap>SpaceX   </span></td><td><span style=white-space:pre-wrap>LC-39A, Kennedy Space Center, Florida, USA               </span></td><td>Fri Aug 07, 2020 05:12 UTC</td><td><span style=white-space:pre-wrap>Falcon 9 Block 5 | Starlink V1 L9 &amp; BlackSky          </span></td><td>StatusActive</td><td> 50.00</td><td>Success</td></tr>\n",
       "\t<tr><td>1</td><td><span style=white-space:pre-wrap>CASC     </span></td><td>Site 9401 (SLS-2), Jiuquan Satellite Launch Center, China</td><td>Thu Aug 06, 2020 04:01 UTC</td><td><span style=white-space:pre-wrap>Long March 2D | Gaofen-9 04 &amp; Q-SAT                   </span></td><td>StatusActive</td><td> 29.75</td><td>Success</td></tr>\n",
       "\t<tr><td>2</td><td>SpaceX   </td><td>Pad A, Boca Chica, Texas, USA                            </td><td>Tue Aug 04, 2020 23:57 UTC</td><td>Starship Prototype | 150 Meter Hop                    </td><td>StatusActive</td><td> 62.00</td><td>Success</td></tr>\n",
       "\t<tr><td>3</td><td>Roscosmos</td><td><span style=white-space:pre-wrap>Site 200/39, Baikonur Cosmodrome, Kazakhstan             </span></td><td>Thu Jul 30, 2020 21:25 UTC</td><td><span style=white-space:pre-wrap>Proton-M/Briz-M | Ekspress-80 &amp; Ekspress-103          </span></td><td>StatusActive</td><td> 65.00</td><td>Success</td></tr>\n",
       "\t<tr><td>4</td><td>ULA      </td><td>SLC-41, Cape Canaveral AFS, Florida, USA                 </td><td>Thu Jul 30, 2020 11:50 UTC</td><td>Atlas V 541 | Perseverance                            </td><td>StatusActive</td><td>145.00</td><td>Success</td></tr>\n",
       "\t<tr><td>5</td><td><span style=white-space:pre-wrap>CASC     </span></td><td><span style=white-space:pre-wrap>LC-9, Taiyuan Satellite Launch Center, China             </span></td><td>Sat Jul 25, 2020 03:13 UTC</td><td>Long March 4B | Ziyuan-3 03, Apocalypse-10 &amp; NJU-HKU 1</td><td>StatusActive</td><td> 64.68</td><td>Success</td></tr>\n",
       "</tbody>\n",
       "</table>\n"
      ],
      "text/latex": [
       "A tibble: 6 × 8\n",
       "\\begin{tabular}{llllllll}\n",
       " X1 & Company Name & Location & Datum & Detail & Status Rocket & Rocket & Status Mission\\\\\n",
       " <dbl> & <chr> & <chr> & <chr> & <chr> & <chr> & <dbl> & <chr>\\\\\n",
       "\\hline\n",
       "\t 0 & SpaceX    & LC-39A, Kennedy Space Center, Florida, USA                & Fri Aug 07, 2020 05:12 UTC & Falcon 9 Block 5 \\textbar{} Starlink V1 L9 \\& BlackSky           & StatusActive &  50.00 & Success\\\\\n",
       "\t 1 & CASC      & Site 9401 (SLS-2), Jiuquan Satellite Launch Center, China & Thu Aug 06, 2020 04:01 UTC & Long March 2D \\textbar{} Gaofen-9 04 \\& Q-SAT                    & StatusActive &  29.75 & Success\\\\\n",
       "\t 2 & SpaceX    & Pad A, Boca Chica, Texas, USA                             & Tue Aug 04, 2020 23:57 UTC & Starship Prototype \\textbar{} 150 Meter Hop                     & StatusActive &  62.00 & Success\\\\\n",
       "\t 3 & Roscosmos & Site 200/39, Baikonur Cosmodrome, Kazakhstan              & Thu Jul 30, 2020 21:25 UTC & Proton-M/Briz-M \\textbar{} Ekspress-80 \\& Ekspress-103           & StatusActive &  65.00 & Success\\\\\n",
       "\t 4 & ULA       & SLC-41, Cape Canaveral AFS, Florida, USA                  & Thu Jul 30, 2020 11:50 UTC & Atlas V 541 \\textbar{} Perseverance                             & StatusActive & 145.00 & Success\\\\\n",
       "\t 5 & CASC      & LC-9, Taiyuan Satellite Launch Center, China              & Sat Jul 25, 2020 03:13 UTC & Long March 4B \\textbar{} Ziyuan-3 03, Apocalypse-10 \\& NJU-HKU 1 & StatusActive &  64.68 & Success\\\\\n",
       "\\end{tabular}\n"
      ],
      "text/markdown": [
       "\n",
       "A tibble: 6 × 8\n",
       "\n",
       "| X1 &lt;dbl&gt; | Company Name &lt;chr&gt; | Location &lt;chr&gt; | Datum &lt;chr&gt; | Detail &lt;chr&gt; | Status Rocket &lt;chr&gt; | Rocket &lt;dbl&gt; | Status Mission &lt;chr&gt; |\n",
       "|---|---|---|---|---|---|---|---|\n",
       "| 0 | SpaceX    | LC-39A, Kennedy Space Center, Florida, USA                | Fri Aug 07, 2020 05:12 UTC | Falcon 9 Block 5 | Starlink V1 L9 &amp; BlackSky           | StatusActive |  50.00 | Success |\n",
       "| 1 | CASC      | Site 9401 (SLS-2), Jiuquan Satellite Launch Center, China | Thu Aug 06, 2020 04:01 UTC | Long March 2D | Gaofen-9 04 &amp; Q-SAT                    | StatusActive |  29.75 | Success |\n",
       "| 2 | SpaceX    | Pad A, Boca Chica, Texas, USA                             | Tue Aug 04, 2020 23:57 UTC | Starship Prototype | 150 Meter Hop                     | StatusActive |  62.00 | Success |\n",
       "| 3 | Roscosmos | Site 200/39, Baikonur Cosmodrome, Kazakhstan              | Thu Jul 30, 2020 21:25 UTC | Proton-M/Briz-M | Ekspress-80 &amp; Ekspress-103           | StatusActive |  65.00 | Success |\n",
       "| 4 | ULA       | SLC-41, Cape Canaveral AFS, Florida, USA                  | Thu Jul 30, 2020 11:50 UTC | Atlas V 541 | Perseverance                             | StatusActive | 145.00 | Success |\n",
       "| 5 | CASC      | LC-9, Taiyuan Satellite Launch Center, China              | Sat Jul 25, 2020 03:13 UTC | Long March 4B | Ziyuan-3 03, Apocalypse-10 &amp; NJU-HKU 1 | StatusActive |  64.68 | Success |\n",
       "\n"
      ],
      "text/plain": [
       "  X1 Company Name Location                                                 \n",
       "1 0  SpaceX       LC-39A, Kennedy Space Center, Florida, USA               \n",
       "2 1  CASC         Site 9401 (SLS-2), Jiuquan Satellite Launch Center, China\n",
       "3 2  SpaceX       Pad A, Boca Chica, Texas, USA                            \n",
       "4 3  Roscosmos    Site 200/39, Baikonur Cosmodrome, Kazakhstan             \n",
       "5 4  ULA          SLC-41, Cape Canaveral AFS, Florida, USA                 \n",
       "6 5  CASC         LC-9, Taiyuan Satellite Launch Center, China             \n",
       "  Datum                     \n",
       "1 Fri Aug 07, 2020 05:12 UTC\n",
       "2 Thu Aug 06, 2020 04:01 UTC\n",
       "3 Tue Aug 04, 2020 23:57 UTC\n",
       "4 Thu Jul 30, 2020 21:25 UTC\n",
       "5 Thu Jul 30, 2020 11:50 UTC\n",
       "6 Sat Jul 25, 2020 03:13 UTC\n",
       "  Detail                                                 Status Rocket Rocket\n",
       "1 Falcon 9 Block 5 | Starlink V1 L9 & BlackSky           StatusActive   50.00\n",
       "2 Long March 2D | Gaofen-9 04 & Q-SAT                    StatusActive   29.75\n",
       "3 Starship Prototype | 150 Meter Hop                     StatusActive   62.00\n",
       "4 Proton-M/Briz-M | Ekspress-80 & Ekspress-103           StatusActive   65.00\n",
       "5 Atlas V 541 | Perseverance                             StatusActive  145.00\n",
       "6 Long March 4B | Ziyuan-3 03, Apocalypse-10 & NJU-HKU 1 StatusActive   64.68\n",
       "  Status Mission\n",
       "1 Success       \n",
       "2 Success       \n",
       "3 Success       \n",
       "4 Success       \n",
       "5 Success       \n",
       "6 Success       "
      ]
     },
     "metadata": {},
     "output_type": "display_data"
    }
   ],
   "source": [
    "space_data$Rocket[is.na(space_data$Rocket)]<-median(space_data$Rocket,na.rm=TRUE)\n",
    "head(space_data) #Since this is a first experience with R, I just did a simple imutation of missing cost values with the median rocket cost"
   ]
  },
  {
   "cell_type": "markdown",
   "id": "organic-denial",
   "metadata": {
    "papermill": {
     "duration": 0.018444,
     "end_time": "2021-04-16T18:38:22.947672",
     "exception": false,
     "start_time": "2021-04-16T18:38:22.929228",
     "status": "completed"
    },
    "tags": []
   },
   "source": [
    "# Summarizing some space data"
   ]
  },
  {
   "cell_type": "code",
   "execution_count": 7,
   "id": "filled-daniel",
   "metadata": {
    "execution": {
     "iopub.execute_input": "2021-04-16T18:38:22.986559Z",
     "iopub.status.busy": "2021-04-16T18:38:22.985040Z",
     "iopub.status.idle": "2021-04-16T18:38:23.489874Z",
     "shell.execute_reply": "2021-04-16T18:38:23.488356Z"
    },
    "papermill": {
     "duration": 0.52575,
     "end_time": "2021-04-16T18:38:23.490092",
     "exception": false,
     "start_time": "2021-04-16T18:38:22.964342",
     "status": "completed"
    },
    "tags": []
   },
   "outputs": [
    {
     "data": {
      "text/html": [
       "<table class=\"dataframe\">\n",
       "<caption>A tibble: 6 × 9</caption>\n",
       "<thead>\n",
       "\t<tr><th scope=col>X1</th><th scope=col>Company Name</th><th scope=col>Location</th><th scope=col>Datum</th><th scope=col>Detail</th><th scope=col>Status Rocket</th><th scope=col>Rocket</th><th scope=col>Status Mission</th><th scope=col>Year</th></tr>\n",
       "\t<tr><th scope=col>&lt;dbl&gt;</th><th scope=col>&lt;chr&gt;</th><th scope=col>&lt;chr&gt;</th><th scope=col>&lt;chr&gt;</th><th scope=col>&lt;chr&gt;</th><th scope=col>&lt;chr&gt;</th><th scope=col>&lt;dbl&gt;</th><th scope=col>&lt;chr&gt;</th><th scope=col>&lt;dbl&gt;</th></tr>\n",
       "</thead>\n",
       "<tbody>\n",
       "\t<tr><td>0</td><td><span style=white-space:pre-wrap>SpaceX   </span></td><td><span style=white-space:pre-wrap>LC-39A, Kennedy Space Center, Florida, USA               </span></td><td>Fri Aug 07, 2020 05:12 UTC</td><td><span style=white-space:pre-wrap>Falcon 9 Block 5 | Starlink V1 L9 &amp; BlackSky          </span></td><td>StatusActive</td><td> 50.00</td><td>Success</td><td>2020</td></tr>\n",
       "\t<tr><td>1</td><td><span style=white-space:pre-wrap>CASC     </span></td><td>Site 9401 (SLS-2), Jiuquan Satellite Launch Center, China</td><td>Thu Aug 06, 2020 04:01 UTC</td><td><span style=white-space:pre-wrap>Long March 2D | Gaofen-9 04 &amp; Q-SAT                   </span></td><td>StatusActive</td><td> 29.75</td><td>Success</td><td>2020</td></tr>\n",
       "\t<tr><td>2</td><td>SpaceX   </td><td>Pad A, Boca Chica, Texas, USA                            </td><td>Tue Aug 04, 2020 23:57 UTC</td><td>Starship Prototype | 150 Meter Hop                    </td><td>StatusActive</td><td> 62.00</td><td>Success</td><td>2020</td></tr>\n",
       "\t<tr><td>3</td><td>Roscosmos</td><td><span style=white-space:pre-wrap>Site 200/39, Baikonur Cosmodrome, Kazakhstan             </span></td><td>Thu Jul 30, 2020 21:25 UTC</td><td><span style=white-space:pre-wrap>Proton-M/Briz-M | Ekspress-80 &amp; Ekspress-103          </span></td><td>StatusActive</td><td> 65.00</td><td>Success</td><td>2020</td></tr>\n",
       "\t<tr><td>4</td><td>ULA      </td><td>SLC-41, Cape Canaveral AFS, Florida, USA                 </td><td>Thu Jul 30, 2020 11:50 UTC</td><td>Atlas V 541 | Perseverance                            </td><td>StatusActive</td><td>145.00</td><td>Success</td><td>2020</td></tr>\n",
       "\t<tr><td>5</td><td><span style=white-space:pre-wrap>CASC     </span></td><td><span style=white-space:pre-wrap>LC-9, Taiyuan Satellite Launch Center, China             </span></td><td>Sat Jul 25, 2020 03:13 UTC</td><td>Long March 4B | Ziyuan-3 03, Apocalypse-10 &amp; NJU-HKU 1</td><td>StatusActive</td><td> 64.68</td><td>Success</td><td>2020</td></tr>\n",
       "</tbody>\n",
       "</table>\n"
      ],
      "text/latex": [
       "A tibble: 6 × 9\n",
       "\\begin{tabular}{lllllllll}\n",
       " X1 & Company Name & Location & Datum & Detail & Status Rocket & Rocket & Status Mission & Year\\\\\n",
       " <dbl> & <chr> & <chr> & <chr> & <chr> & <chr> & <dbl> & <chr> & <dbl>\\\\\n",
       "\\hline\n",
       "\t 0 & SpaceX    & LC-39A, Kennedy Space Center, Florida, USA                & Fri Aug 07, 2020 05:12 UTC & Falcon 9 Block 5 \\textbar{} Starlink V1 L9 \\& BlackSky           & StatusActive &  50.00 & Success & 2020\\\\\n",
       "\t 1 & CASC      & Site 9401 (SLS-2), Jiuquan Satellite Launch Center, China & Thu Aug 06, 2020 04:01 UTC & Long March 2D \\textbar{} Gaofen-9 04 \\& Q-SAT                    & StatusActive &  29.75 & Success & 2020\\\\\n",
       "\t 2 & SpaceX    & Pad A, Boca Chica, Texas, USA                             & Tue Aug 04, 2020 23:57 UTC & Starship Prototype \\textbar{} 150 Meter Hop                     & StatusActive &  62.00 & Success & 2020\\\\\n",
       "\t 3 & Roscosmos & Site 200/39, Baikonur Cosmodrome, Kazakhstan              & Thu Jul 30, 2020 21:25 UTC & Proton-M/Briz-M \\textbar{} Ekspress-80 \\& Ekspress-103           & StatusActive &  65.00 & Success & 2020\\\\\n",
       "\t 4 & ULA       & SLC-41, Cape Canaveral AFS, Florida, USA                  & Thu Jul 30, 2020 11:50 UTC & Atlas V 541 \\textbar{} Perseverance                             & StatusActive & 145.00 & Success & 2020\\\\\n",
       "\t 5 & CASC      & LC-9, Taiyuan Satellite Launch Center, China              & Sat Jul 25, 2020 03:13 UTC & Long March 4B \\textbar{} Ziyuan-3 03, Apocalypse-10 \\& NJU-HKU 1 & StatusActive &  64.68 & Success & 2020\\\\\n",
       "\\end{tabular}\n"
      ],
      "text/markdown": [
       "\n",
       "A tibble: 6 × 9\n",
       "\n",
       "| X1 &lt;dbl&gt; | Company Name &lt;chr&gt; | Location &lt;chr&gt; | Datum &lt;chr&gt; | Detail &lt;chr&gt; | Status Rocket &lt;chr&gt; | Rocket &lt;dbl&gt; | Status Mission &lt;chr&gt; | Year &lt;dbl&gt; |\n",
       "|---|---|---|---|---|---|---|---|---|\n",
       "| 0 | SpaceX    | LC-39A, Kennedy Space Center, Florida, USA                | Fri Aug 07, 2020 05:12 UTC | Falcon 9 Block 5 | Starlink V1 L9 &amp; BlackSky           | StatusActive |  50.00 | Success | 2020 |\n",
       "| 1 | CASC      | Site 9401 (SLS-2), Jiuquan Satellite Launch Center, China | Thu Aug 06, 2020 04:01 UTC | Long March 2D | Gaofen-9 04 &amp; Q-SAT                    | StatusActive |  29.75 | Success | 2020 |\n",
       "| 2 | SpaceX    | Pad A, Boca Chica, Texas, USA                             | Tue Aug 04, 2020 23:57 UTC | Starship Prototype | 150 Meter Hop                     | StatusActive |  62.00 | Success | 2020 |\n",
       "| 3 | Roscosmos | Site 200/39, Baikonur Cosmodrome, Kazakhstan              | Thu Jul 30, 2020 21:25 UTC | Proton-M/Briz-M | Ekspress-80 &amp; Ekspress-103           | StatusActive |  65.00 | Success | 2020 |\n",
       "| 4 | ULA       | SLC-41, Cape Canaveral AFS, Florida, USA                  | Thu Jul 30, 2020 11:50 UTC | Atlas V 541 | Perseverance                             | StatusActive | 145.00 | Success | 2020 |\n",
       "| 5 | CASC      | LC-9, Taiyuan Satellite Launch Center, China              | Sat Jul 25, 2020 03:13 UTC | Long March 4B | Ziyuan-3 03, Apocalypse-10 &amp; NJU-HKU 1 | StatusActive |  64.68 | Success | 2020 |\n",
       "\n"
      ],
      "text/plain": [
       "  X1 Company Name Location                                                 \n",
       "1 0  SpaceX       LC-39A, Kennedy Space Center, Florida, USA               \n",
       "2 1  CASC         Site 9401 (SLS-2), Jiuquan Satellite Launch Center, China\n",
       "3 2  SpaceX       Pad A, Boca Chica, Texas, USA                            \n",
       "4 3  Roscosmos    Site 200/39, Baikonur Cosmodrome, Kazakhstan             \n",
       "5 4  ULA          SLC-41, Cape Canaveral AFS, Florida, USA                 \n",
       "6 5  CASC         LC-9, Taiyuan Satellite Launch Center, China             \n",
       "  Datum                     \n",
       "1 Fri Aug 07, 2020 05:12 UTC\n",
       "2 Thu Aug 06, 2020 04:01 UTC\n",
       "3 Tue Aug 04, 2020 23:57 UTC\n",
       "4 Thu Jul 30, 2020 21:25 UTC\n",
       "5 Thu Jul 30, 2020 11:50 UTC\n",
       "6 Sat Jul 25, 2020 03:13 UTC\n",
       "  Detail                                                 Status Rocket Rocket\n",
       "1 Falcon 9 Block 5 | Starlink V1 L9 & BlackSky           StatusActive   50.00\n",
       "2 Long March 2D | Gaofen-9 04 & Q-SAT                    StatusActive   29.75\n",
       "3 Starship Prototype | 150 Meter Hop                     StatusActive   62.00\n",
       "4 Proton-M/Briz-M | Ekspress-80 & Ekspress-103           StatusActive   65.00\n",
       "5 Atlas V 541 | Perseverance                             StatusActive  145.00\n",
       "6 Long March 4B | Ziyuan-3 03, Apocalypse-10 & NJU-HKU 1 StatusActive   64.68\n",
       "  Status Mission Year\n",
       "1 Success        2020\n",
       "2 Success        2020\n",
       "3 Success        2020\n",
       "4 Success        2020\n",
       "5 Success        2020\n",
       "6 Success        2020"
      ]
     },
     "metadata": {},
     "output_type": "display_data"
    }
   ],
   "source": [
    "#In order to better summarize the data, I decided to isolate years from the data column so that I have more numerical data\n",
    "years <- rep(NA, nrow(space_data))\n",
    "for (i in 1:nrow(space_data)) {\n",
    "    years[i] <- as.numeric(str_split(space_data[i, 'Datum'], \" \")[[1]][4])\n",
    "}\n",
    "space_data[\"Year\"] <- years\n",
    "head(space_data)"
   ]
  },
  {
   "cell_type": "code",
   "execution_count": 8,
   "id": "uniform-jewelry",
   "metadata": {
    "execution": {
     "iopub.execute_input": "2021-04-16T18:38:23.531688Z",
     "iopub.status.busy": "2021-04-16T18:38:23.529932Z",
     "iopub.status.idle": "2021-04-16T18:38:23.550739Z",
     "shell.execute_reply": "2021-04-16T18:38:23.549073Z"
    },
    "papermill": {
     "duration": 0.042462,
     "end_time": "2021-04-16T18:38:23.550875",
     "exception": false,
     "start_time": "2021-04-16T18:38:23.508413",
     "status": "completed"
    },
    "tags": []
   },
   "outputs": [
    {
     "data": {
      "text/plain": [
       "       X1       Company Name         Location            Datum          \n",
       " Min.   :   0   Length:4324        Length:4324        Length:4324       \n",
       " 1st Qu.:1081   Class :character   Class :character   Class :character  \n",
       " Median :2162   Mode  :character   Mode  :character   Mode  :character  \n",
       " Mean   :2162                                                           \n",
       " 3rd Qu.:3242                                                           \n",
       " Max.   :4323                                                           \n",
       "    Detail          Status Rocket          Rocket       Status Mission    \n",
       " Length:4324        Length:4324        Min.   :  5.30   Length:4324       \n",
       " Class :character   Class :character   1st Qu.: 62.00   Class :character  \n",
       " Mode  :character   Mode  :character   Median : 62.00   Mode  :character  \n",
       "                                       Mean   : 76.88                     \n",
       "                                       3rd Qu.: 62.00                     \n",
       "                                       Max.   :450.00                     \n",
       "      Year     \n",
       " Min.   :1957  \n",
       " 1st Qu.:1972  \n",
       " Median :1984  \n",
       " Mean   :1987  \n",
       " 3rd Qu.:2002  \n",
       " Max.   :2020  "
      ]
     },
     "metadata": {},
     "output_type": "display_data"
    }
   ],
   "source": [
    "summary(space_data)"
   ]
  },
  {
   "cell_type": "code",
   "execution_count": 9,
   "id": "comic-pressure",
   "metadata": {
    "execution": {
     "iopub.execute_input": "2021-04-16T18:38:23.592981Z",
     "iopub.status.busy": "2021-04-16T18:38:23.591138Z",
     "iopub.status.idle": "2021-04-16T18:38:23.635577Z",
     "shell.execute_reply": "2021-04-16T18:38:23.633799Z"
    },
    "papermill": {
     "duration": 0.066836,
     "end_time": "2021-04-16T18:38:23.635728",
     "exception": false,
     "start_time": "2021-04-16T18:38:23.568892",
     "status": "completed"
    },
    "tags": []
   },
   "outputs": [
    {
     "data": {
      "text/html": [
       "<table class=\"dataframe\">\n",
       "<caption>A tibble: 6 × 3</caption>\n",
       "<thead>\n",
       "\t<tr><th scope=col>Year</th><th scope=col>averageCost</th><th scope=col>sdCost</th></tr>\n",
       "\t<tr><th scope=col>&lt;dbl&gt;</th><th scope=col>&lt;dbl&gt;</th><th scope=col>&lt;dbl&gt;</th></tr>\n",
       "</thead>\n",
       "<tbody>\n",
       "\t<tr><td>1957</td><td>62</td><td>0</td></tr>\n",
       "\t<tr><td>1958</td><td>62</td><td>0</td></tr>\n",
       "\t<tr><td>1959</td><td>62</td><td>0</td></tr>\n",
       "\t<tr><td>1960</td><td>62</td><td>0</td></tr>\n",
       "\t<tr><td>1961</td><td>62</td><td>0</td></tr>\n",
       "\t<tr><td>1962</td><td>62</td><td>0</td></tr>\n",
       "</tbody>\n",
       "</table>\n"
      ],
      "text/latex": [
       "A tibble: 6 × 3\n",
       "\\begin{tabular}{lll}\n",
       " Year & averageCost & sdCost\\\\\n",
       " <dbl> & <dbl> & <dbl>\\\\\n",
       "\\hline\n",
       "\t 1957 & 62 & 0\\\\\n",
       "\t 1958 & 62 & 0\\\\\n",
       "\t 1959 & 62 & 0\\\\\n",
       "\t 1960 & 62 & 0\\\\\n",
       "\t 1961 & 62 & 0\\\\\n",
       "\t 1962 & 62 & 0\\\\\n",
       "\\end{tabular}\n"
      ],
      "text/markdown": [
       "\n",
       "A tibble: 6 × 3\n",
       "\n",
       "| Year &lt;dbl&gt; | averageCost &lt;dbl&gt; | sdCost &lt;dbl&gt; |\n",
       "|---|---|---|\n",
       "| 1957 | 62 | 0 |\n",
       "| 1958 | 62 | 0 |\n",
       "| 1959 | 62 | 0 |\n",
       "| 1960 | 62 | 0 |\n",
       "| 1961 | 62 | 0 |\n",
       "| 1962 | 62 | 0 |\n",
       "\n"
      ],
      "text/plain": [
       "  Year averageCost sdCost\n",
       "1 1957 62          0     \n",
       "2 1958 62          0     \n",
       "3 1959 62          0     \n",
       "4 1960 62          0     \n",
       "5 1961 62          0     \n",
       "6 1962 62          0     "
      ]
     },
     "metadata": {},
     "output_type": "display_data"
    }
   ],
   "source": [
    "head(space_data %>%\n",
    "    group_by(Year) %>%\n",
    "    summarise(averageCost = mean(Rocket),\n",
    "             sdCost = sd(Rocket)))"
   ]
  },
  {
   "cell_type": "markdown",
   "id": "exempt-alcohol",
   "metadata": {
    "papermill": {
     "duration": 0.018702,
     "end_time": "2021-04-16T18:38:23.673513",
     "exception": false,
     "start_time": "2021-04-16T18:38:23.654811",
     "status": "completed"
    },
    "tags": []
   },
   "source": [
    "# Graphing some space data"
   ]
  },
  {
   "cell_type": "code",
   "execution_count": 10,
   "id": "latin-germany",
   "metadata": {
    "execution": {
     "iopub.execute_input": "2021-04-16T18:38:23.718071Z",
     "iopub.status.busy": "2021-04-16T18:38:23.716221Z",
     "iopub.status.idle": "2021-04-16T18:38:24.384900Z",
     "shell.execute_reply": "2021-04-16T18:38:24.383803Z"
    },
    "papermill": {
     "duration": 0.69267,
     "end_time": "2021-04-16T18:38:24.385046",
     "exception": false,
     "start_time": "2021-04-16T18:38:23.692376",
     "status": "completed"
    },
    "tags": []
   },
   "outputs": [
    {
     "data": {
      "image/png": "[encoded data removed]"
     },
     "metadata": {
      "image/png": {
       "height": 420,
       "width": 420
      }
     },
     "output_type": "display_data"
    }
   ],
   "source": [
    "#Graphing a basic year vs. rocket cost graph\n",
    "costByYear <- space_data %>%\n",
    "    group_by(Year) %>%\n",
    "    summarise(averageCost = mean(Rocket),\n",
    "             sdCost = sd(Rocket))\n",
    "\n",
    "ggplot(costByYear, aes(y= averageCost, x = Year)) + \n",
    "    geom_point() + # plot individual points\n",
    "    geom_line() # plot line\n",
    "\n",
    "#Everything before 1980 is a constant price because there was no rocket cost data in the dataset, so they were all set to the median cost: $62 (in millions)"
   ]
  }
 ],
 "metadata": {
  "kernelspec": {
   "display_name": "R",
   "language": "R",
   "name": "ir"
  },
  "language_info": {
   "codemirror_mode": "r",
   "file_extension": ".r",
   "mimetype": "text/x-r-source",
   "name": "R",
   "pygments_lexer": "r",
   "version": "3.6.3"
  },
  "papermill": {
   "default_parameters": {},
   "duration": 7.207876,
   "end_time": "2021-04-16T18:38:24.517031",
   "environment_variables": {},
   "exception": null,
   "input_path": "__notebook__.ipynb",
   "output_path": "__notebook__.ipynb",
   "parameters": {},
   "start_time": "2021-04-16T18:38:17.309155",
   "version": "2.3.3"
  }
 },
 "nbformat": 4,
 "nbformat_minor": 5
}
