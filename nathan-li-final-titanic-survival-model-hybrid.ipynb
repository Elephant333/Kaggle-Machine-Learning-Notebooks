{
 "cells": [
  {
   "cell_type": "code",
   "execution_count": 1,
   "metadata": {
    "execution": {
     "iopub.execute_input": "2021-03-02T13:30:40.754691Z",
     "iopub.status.busy": "2021-03-02T13:30:40.753974Z",
     "iopub.status.idle": "2021-03-02T13:30:40.757568Z",
     "shell.execute_reply": "2021-03-02T13:30:40.758139Z"
    },
    "papermill": {
     "duration": 0.020444,
     "end_time": "2021-03-02T13:30:40.758507",
     "exception": false,
     "start_time": "2021-03-02T13:30:40.738063",
     "status": "completed"
    },
    "tags": []
   },
   "outputs": [],
   "source": [
    "#Nathan Li - Final Titanic Survival Model (Hybrid)"
   ]
  },
  {
   "cell_type": "code",
   "execution_count": 2,
   "metadata": {
    "_cell_guid": "b1076dfc-b9ad-4769-8c92-a6c4dae69d19",
    "_uuid": "8f2839f25d086af736a60e9eeb907d3b93b6e0e5",
    "execution": {
     "iopub.execute_input": "2021-03-02T13:30:40.784072Z",
     "iopub.status.busy": "2021-03-02T13:30:40.783016Z",
     "iopub.status.idle": "2021-03-02T13:30:40.789545Z",
     "shell.execute_reply": "2021-03-02T13:30:40.788730Z"
    },
    "papermill": {
     "duration": 0.021602,
     "end_time": "2021-03-02T13:30:40.789744",
     "exception": false,
     "start_time": "2021-03-02T13:30:40.768142",
     "status": "completed"
    },
    "tags": []
   },
   "outputs": [
    {
     "name": "stdout",
     "output_type": "stream",
     "text": [
      "/kaggle/input/titanic/train.csv\n",
      "/kaggle/input/titanic/test.csv\n",
      "/kaggle/input/titanic/gender_submission.csv\n"
     ]
    }
   ],
   "source": [
    "# This Python 3 environment comes with many helpful analytics libraries installed\n",
    "# It is defined by the kaggle/python Docker image: https://github.com/kaggle/docker-python\n",
    "# For example, here's several helpful packages to load\n",
    "\n",
    "import numpy as np # linear algebra\n",
    "import pandas as pd # data processing, CSV file I/O (e.g. pd.read_csv)\n",
    "\n",
    "# Input data files are available in the read-only \"../input/\" directory\n",
    "# For example, running this (by clicking run or pressing Shift+Enter) will list all files under the input directory\n",
    "\n",
    "import os\n",
    "for dirname, _, filenames in os.walk('/kaggle/input'):\n",
    "    for filename in filenames:\n",
    "        print(os.path.join(dirname, filename))\n",
    "\n",
    "# You can write up to 20GB to the current directory (/kaggle/working/) that gets preserved as output when you create a version using \"Save & Run All\" \n",
    "# You can also write temporary files to /kaggle/temp/, but they won't be saved outside of the current session"
   ]
  },
  {
   "cell_type": "code",
   "execution_count": 3,
   "metadata": {
    "execution": {
     "iopub.execute_input": "2021-03-02T13:30:40.814974Z",
     "iopub.status.busy": "2021-03-02T13:30:40.814280Z",
     "iopub.status.idle": "2021-03-02T13:30:40.863417Z",
     "shell.execute_reply": "2021-03-02T13:30:40.863982Z"
    },
    "papermill": {
     "duration": 0.063815,
     "end_time": "2021-03-02T13:30:40.864160",
     "exception": false,
     "start_time": "2021-03-02T13:30:40.800345",
     "status": "completed"
    },
    "tags": []
   },
   "outputs": [
    {
     "data": {
      "text/html": [
       "<div>\n",
       "<style scoped>\n",
       "    .dataframe tbody tr th:only-of-type {\n",
       "        vertical-align: middle;\n",
       "    }\n",
       "\n",
       "    .dataframe tbody tr th {\n",
       "        vertical-align: top;\n",
       "    }\n",
       "\n",
       "    .dataframe thead th {\n",
       "        text-align: right;\n",
       "    }\n",
       "</style>\n",
       "<table border=\"1\" class=\"dataframe\">\n",
       "  <thead>\n",
       "    <tr style=\"text-align: right;\">\n",
       "      <th></th>\n",
       "      <th>PassengerId</th>\n",
       "      <th>Survived</th>\n",
       "      <th>Pclass</th>\n",
       "      <th>Name</th>\n",
       "      <th>Sex</th>\n",
       "      <th>Age</th>\n",
       "      <th>SibSp</th>\n",
       "      <th>Parch</th>\n",
       "      <th>Ticket</th>\n",
       "      <th>Fare</th>\n",
       "      <th>Cabin</th>\n",
       "      <th>Embarked</th>\n",
       "    </tr>\n",
       "  </thead>\n",
       "  <tbody>\n",
       "    <tr>\n",
       "      <th>0</th>\n",
       "      <td>1</td>\n",
       "      <td>0</td>\n",
       "      <td>3</td>\n",
       "      <td>Braund, Mr. Owen Harris</td>\n",
       "      <td>male</td>\n",
       "      <td>22.0</td>\n",
       "      <td>1</td>\n",
       "      <td>0</td>\n",
       "      <td>A/5 21171</td>\n",
       "      <td>7.2500</td>\n",
       "      <td>NaN</td>\n",
       "      <td>S</td>\n",
       "    </tr>\n",
       "    <tr>\n",
       "      <th>1</th>\n",
       "      <td>2</td>\n",
       "      <td>1</td>\n",
       "      <td>1</td>\n",
       "      <td>Cumings, Mrs. John Bradley (Florence Briggs Th...</td>\n",
       "      <td>female</td>\n",
       "      <td>38.0</td>\n",
       "      <td>1</td>\n",
       "      <td>0</td>\n",
       "      <td>PC 17599</td>\n",
       "      <td>71.2833</td>\n",
       "      <td>C85</td>\n",
       "      <td>C</td>\n",
       "    </tr>\n",
       "    <tr>\n",
       "      <th>2</th>\n",
       "      <td>3</td>\n",
       "      <td>1</td>\n",
       "      <td>3</td>\n",
       "      <td>Heikkinen, Miss. Laina</td>\n",
       "      <td>female</td>\n",
       "      <td>26.0</td>\n",
       "      <td>0</td>\n",
       "      <td>0</td>\n",
       "      <td>STON/O2. 3101282</td>\n",
       "      <td>7.9250</td>\n",
       "      <td>NaN</td>\n",
       "      <td>S</td>\n",
       "    </tr>\n",
       "    <tr>\n",
       "      <th>3</th>\n",
       "      <td>4</td>\n",
       "      <td>1</td>\n",
       "      <td>1</td>\n",
       "      <td>Futrelle, Mrs. Jacques Heath (Lily May Peel)</td>\n",
       "      <td>female</td>\n",
       "      <td>35.0</td>\n",
       "      <td>1</td>\n",
       "      <td>0</td>\n",
       "      <td>113803</td>\n",
       "      <td>53.1000</td>\n",
       "      <td>C123</td>\n",
       "      <td>S</td>\n",
       "    </tr>\n",
       "    <tr>\n",
       "      <th>4</th>\n",
       "      <td>5</td>\n",
       "      <td>0</td>\n",
       "      <td>3</td>\n",
       "      <td>Allen, Mr. William Henry</td>\n",
       "      <td>male</td>\n",
       "      <td>35.0</td>\n",
       "      <td>0</td>\n",
       "      <td>0</td>\n",
       "      <td>373450</td>\n",
       "      <td>8.0500</td>\n",
       "      <td>NaN</td>\n",
       "      <td>S</td>\n",
       "    </tr>\n",
       "  </tbody>\n",
       "</table>\n",
       "</div>"
      ],
      "text/plain": [
       "   PassengerId  Survived  Pclass  \\\n",
       "0            1         0       3   \n",
       "1            2         1       1   \n",
       "2            3         1       3   \n",
       "3            4         1       1   \n",
       "4            5         0       3   \n",
       "\n",
       "                                                Name     Sex   Age  SibSp  \\\n",
       "0                            Braund, Mr. Owen Harris    male  22.0      1   \n",
       "1  Cumings, Mrs. John Bradley (Florence Briggs Th...  female  38.0      1   \n",
       "2                             Heikkinen, Miss. Laina  female  26.0      0   \n",
       "3       Futrelle, Mrs. Jacques Heath (Lily May Peel)  female  35.0      1   \n",
       "4                           Allen, Mr. William Henry    male  35.0      0   \n",
       "\n",
       "   Parch            Ticket     Fare Cabin Embarked  \n",
       "0      0         A/5 21171   7.2500   NaN        S  \n",
       "1      0          PC 17599  71.2833   C85        C  \n",
       "2      0  STON/O2. 3101282   7.9250   NaN        S  \n",
       "3      0            113803  53.1000  C123        S  \n",
       "4      0            373450   8.0500   NaN        S  "
      ]
     },
     "execution_count": 3,
     "metadata": {},
     "output_type": "execute_result"
    }
   ],
   "source": [
    "train_data = pd.read_csv(\"/kaggle/input/titanic/train.csv\")\n",
    "train_data.head()"
   ]
  },
  {
   "cell_type": "code",
   "execution_count": 4,
   "metadata": {
    "execution": {
     "iopub.execute_input": "2021-03-02T13:30:40.889339Z",
     "iopub.status.busy": "2021-03-02T13:30:40.888690Z",
     "iopub.status.idle": "2021-03-02T13:30:40.914376Z",
     "shell.execute_reply": "2021-03-02T13:30:40.914847Z"
    },
    "papermill": {
     "duration": 0.040623,
     "end_time": "2021-03-02T13:30:40.915049",
     "exception": false,
     "start_time": "2021-03-02T13:30:40.874426",
     "status": "completed"
    },
    "tags": []
   },
   "outputs": [
    {
     "data": {
      "text/html": [
       "<div>\n",
       "<style scoped>\n",
       "    .dataframe tbody tr th:only-of-type {\n",
       "        vertical-align: middle;\n",
       "    }\n",
       "\n",
       "    .dataframe tbody tr th {\n",
       "        vertical-align: top;\n",
       "    }\n",
       "\n",
       "    .dataframe thead th {\n",
       "        text-align: right;\n",
       "    }\n",
       "</style>\n",
       "<table border=\"1\" class=\"dataframe\">\n",
       "  <thead>\n",
       "    <tr style=\"text-align: right;\">\n",
       "      <th></th>\n",
       "      <th>PassengerId</th>\n",
       "      <th>Pclass</th>\n",
       "      <th>Name</th>\n",
       "      <th>Sex</th>\n",
       "      <th>Age</th>\n",
       "      <th>SibSp</th>\n",
       "      <th>Parch</th>\n",
       "      <th>Ticket</th>\n",
       "      <th>Fare</th>\n",
       "      <th>Cabin</th>\n",
       "      <th>Embarked</th>\n",
       "    </tr>\n",
       "  </thead>\n",
       "  <tbody>\n",
       "    <tr>\n",
       "      <th>0</th>\n",
       "      <td>892</td>\n",
       "      <td>3</td>\n",
       "      <td>Kelly, Mr. James</td>\n",
       "      <td>male</td>\n",
       "      <td>34.5</td>\n",
       "      <td>0</td>\n",
       "      <td>0</td>\n",
       "      <td>330911</td>\n",
       "      <td>7.8292</td>\n",
       "      <td>NaN</td>\n",
       "      <td>Q</td>\n",
       "    </tr>\n",
       "    <tr>\n",
       "      <th>1</th>\n",
       "      <td>893</td>\n",
       "      <td>3</td>\n",
       "      <td>Wilkes, Mrs. James (Ellen Needs)</td>\n",
       "      <td>female</td>\n",
       "      <td>47.0</td>\n",
       "      <td>1</td>\n",
       "      <td>0</td>\n",
       "      <td>363272</td>\n",
       "      <td>7.0000</td>\n",
       "      <td>NaN</td>\n",
       "      <td>S</td>\n",
       "    </tr>\n",
       "    <tr>\n",
       "      <th>2</th>\n",
       "      <td>894</td>\n",
       "      <td>2</td>\n",
       "      <td>Myles, Mr. Thomas Francis</td>\n",
       "      <td>male</td>\n",
       "      <td>62.0</td>\n",
       "      <td>0</td>\n",
       "      <td>0</td>\n",
       "      <td>240276</td>\n",
       "      <td>9.6875</td>\n",
       "      <td>NaN</td>\n",
       "      <td>Q</td>\n",
       "    </tr>\n",
       "    <tr>\n",
       "      <th>3</th>\n",
       "      <td>895</td>\n",
       "      <td>3</td>\n",
       "      <td>Wirz, Mr. Albert</td>\n",
       "      <td>male</td>\n",
       "      <td>27.0</td>\n",
       "      <td>0</td>\n",
       "      <td>0</td>\n",
       "      <td>315154</td>\n",
       "      <td>8.6625</td>\n",
       "      <td>NaN</td>\n",
       "      <td>S</td>\n",
       "    </tr>\n",
       "    <tr>\n",
       "      <th>4</th>\n",
       "      <td>896</td>\n",
       "      <td>3</td>\n",
       "      <td>Hirvonen, Mrs. Alexander (Helga E Lindqvist)</td>\n",
       "      <td>female</td>\n",
       "      <td>22.0</td>\n",
       "      <td>1</td>\n",
       "      <td>1</td>\n",
       "      <td>3101298</td>\n",
       "      <td>12.2875</td>\n",
       "      <td>NaN</td>\n",
       "      <td>S</td>\n",
       "    </tr>\n",
       "  </tbody>\n",
       "</table>\n",
       "</div>"
      ],
      "text/plain": [
       "   PassengerId  Pclass                                          Name     Sex  \\\n",
       "0          892       3                              Kelly, Mr. James    male   \n",
       "1          893       3              Wilkes, Mrs. James (Ellen Needs)  female   \n",
       "2          894       2                     Myles, Mr. Thomas Francis    male   \n",
       "3          895       3                              Wirz, Mr. Albert    male   \n",
       "4          896       3  Hirvonen, Mrs. Alexander (Helga E Lindqvist)  female   \n",
       "\n",
       "    Age  SibSp  Parch   Ticket     Fare Cabin Embarked  \n",
       "0  34.5      0      0   330911   7.8292   NaN        Q  \n",
       "1  47.0      1      0   363272   7.0000   NaN        S  \n",
       "2  62.0      0      0   240276   9.6875   NaN        Q  \n",
       "3  27.0      0      0   315154   8.6625   NaN        S  \n",
       "4  22.0      1      1  3101298  12.2875   NaN        S  "
      ]
     },
     "execution_count": 4,
     "metadata": {},
     "output_type": "execute_result"
    }
   ],
   "source": [
    "test_data = pd.read_csv(\"/kaggle/input/titanic/test.csv\")\n",
    "test_data.head()"
   ]
  },
  {
   "cell_type": "code",
   "execution_count": 5,
   "metadata": {
    "execution": {
     "iopub.execute_input": "2021-03-02T13:30:40.942613Z",
     "iopub.status.busy": "2021-03-02T13:30:40.941846Z",
     "iopub.status.idle": "2021-03-02T13:30:42.360477Z",
     "shell.execute_reply": "2021-03-02T13:30:42.359762Z"
    },
    "papermill": {
     "duration": 1.434528,
     "end_time": "2021-03-02T13:30:42.360627",
     "exception": false,
     "start_time": "2021-03-02T13:30:40.926099",
     "status": "completed"
    },
    "tags": []
   },
   "outputs": [],
   "source": [
    "from sklearn.ensemble import RandomForestClassifier, GradientBoostingClassifier\n",
    "from sklearn.metrics import accuracy_score #used instead of MAE because the Titanic problem is a classification type, not regressiosn\n",
    "from sklearn.model_selection import train_test_split\n",
    "from sklearn.preprocessing import LabelEncoder"
   ]
  },
  {
   "cell_type": "code",
   "execution_count": 6,
   "metadata": {
    "execution": {
     "iopub.execute_input": "2021-03-02T13:30:42.400735Z",
     "iopub.status.busy": "2021-03-02T13:30:42.399667Z",
     "iopub.status.idle": "2021-03-02T13:30:42.404620Z",
     "shell.execute_reply": "2021-03-02T13:30:42.403870Z"
    },
    "papermill": {
     "duration": 0.032229,
     "end_time": "2021-03-02T13:30:42.404783",
     "exception": false,
     "start_time": "2021-03-02T13:30:42.372554",
     "status": "completed"
    },
    "tags": []
   },
   "outputs": [],
   "source": [
    "#Process the names of people to extract their titles\n",
    "Title_Dictionary = {\n",
    "    \"Capt\": \"Officer\",\n",
    "    \"Col\": \"Officer\",\n",
    "    \"Major\": \"Officer\",\n",
    "    \"Dr\": \"Officer\",\n",
    "    \"Rev\": \"Officer\",\n",
    "    \"Jonkheer\": \"Royalty\",\n",
    "    \"Don\": \"Royalty\",\n",
    "    \"Sir\": \"Royalty\",\n",
    "    \"the Countess\": \"Royalty\",\n",
    "    \"Lady\": \"Royalty\",\n",
    "    \"Mlle\": \"Miss\",\n",
    "    \"Miss\": \"Miss\",\n",
    "    \"Mme\": \"Mrs\",\n",
    "    \"Ms\": \"Mrs\",\n",
    "    \"Mrs\": \"Mrs\",\n",
    "    \"Mr\": \"Mr\",\n",
    "    \"Master\": \"Master\"\n",
    "}\n",
    "\n",
    "def get_titles(dataset):\n",
    "    #extract title from each name\n",
    "    dataset['Title'] = dataset['Name'].map(lambda name:name.split(',')[1].split('.')[0].strip())\n",
    "    \n",
    "    #map each title\n",
    "    dataset['Title'] = dataset.Title.map(Title_Dictionary)\n",
    "\n",
    "get_titles(train_data)\n",
    "get_titles(test_data)"
   ]
  },
  {
   "cell_type": "code",
   "execution_count": 7,
   "metadata": {
    "execution": {
     "iopub.execute_input": "2021-03-02T13:30:42.444523Z",
     "iopub.status.busy": "2021-03-02T13:30:42.439790Z",
     "iopub.status.idle": "2021-03-02T13:30:42.928982Z",
     "shell.execute_reply": "2021-03-02T13:30:42.928100Z"
    },
    "papermill": {
     "duration": 0.51262,
     "end_time": "2021-03-02T13:30:42.929136",
     "exception": false,
     "start_time": "2021-03-02T13:30:42.416516",
     "status": "completed"
    },
    "tags": []
   },
   "outputs": [],
   "source": [
    "#Fill missing Age values based on Pclass, Title, and Sex\n",
    "grouped_train_data = train_data.groupby([\"Pclass\", \"Title\", \"Sex\"])\n",
    "grouped_median_train_data = grouped_train_data.median()\n",
    "grouped_median_train_data = grouped_median_train_data.reset_index()[[\"Pclass\", \"Title\", \"Sex\", \"Age\"]]\n",
    "\n",
    "grouped_test_data = test_data.groupby([\"Pclass\", \"Title\", \"Sex\"])\n",
    "grouped_median_test_data = grouped_test_data.median()\n",
    "grouped_median_test_data = grouped_median_test_data.reset_index()[[\"Pclass\", \"Title\", \"Sex\", \"Age\"]]\n",
    "\n",
    "def fill_age(row, grouped_dataset):\n",
    "    condition = (\n",
    "        (grouped_dataset[\"Pclass\"] == row[\"Pclass\"]) &\n",
    "        (grouped_dataset[\"Title\"] == row[\"Title\"]) &\n",
    "        (grouped_dataset[\"Sex\"] == row[\"Sex\"])\n",
    "    )\n",
    "    if np.isnan(grouped_dataset[condition]['Age'].values[0]):\n",
    "        condition = (\n",
    "            (grouped_dataset[\"Pclass\"] == row[\"Pclass\"]) &\n",
    "            (grouped_dataset[\"Sex\"] == row[\"Sex\"])\n",
    "        )\n",
    "    \n",
    "    return grouped_dataset[condition]['Age'].values[0]\n",
    "\n",
    "train_data[\"Age\"] = train_data.apply(lambda row: fill_age(row, grouped_median_train_data) if np.isnan(row['Age']) else row['Age'], axis=1)\n",
    "test_data[\"Age\"] = test_data.apply(lambda row: fill_age(row, grouped_median_test_data) if np.isnan(row['Age']) else row['Age'], axis=1)"
   ]
  },
  {
   "cell_type": "code",
   "execution_count": 8,
   "metadata": {
    "execution": {
     "iopub.execute_input": "2021-03-02T13:30:42.960887Z",
     "iopub.status.busy": "2021-03-02T13:30:42.960166Z",
     "iopub.status.idle": "2021-03-02T13:30:42.963333Z",
     "shell.execute_reply": "2021-03-02T13:30:42.962807Z"
    },
    "papermill": {
     "duration": 0.02286,
     "end_time": "2021-03-02T13:30:42.963480",
     "exception": false,
     "start_time": "2021-03-02T13:30:42.940620",
     "status": "completed"
    },
    "tags": []
   },
   "outputs": [],
   "source": [
    "#Fill missing Embarked values with mode, S\n",
    "train_data[\"Embarked\"]=train_data[\"Embarked\"].fillna(\"S\")\n",
    "test_data[\"Embarked\"]=test_data[\"Embarked\"].fillna(\"S\")\n",
    "\n",
    "#Filling empty Fare value with the median Fare\n",
    "test_data[\"Fare\"] = test_data[\"Fare\"].fillna(test_data[\"Fare\"].median())"
   ]
  },
  {
   "cell_type": "code",
   "execution_count": 9,
   "metadata": {
    "execution": {
     "iopub.execute_input": "2021-03-02T13:30:42.995675Z",
     "iopub.status.busy": "2021-03-02T13:30:42.994664Z",
     "iopub.status.idle": "2021-03-02T13:30:42.999099Z",
     "shell.execute_reply": "2021-03-02T13:30:42.998346Z"
    },
    "papermill": {
     "duration": 0.024109,
     "end_time": "2021-03-02T13:30:42.999296",
     "exception": false,
     "start_time": "2021-03-02T13:30:42.975187",
     "status": "completed"
    },
    "tags": []
   },
   "outputs": [],
   "source": [
    "#Dropping the features that will not be used\n",
    "train_data = train_data.drop([\"PassengerId\", \"Name\", \"Ticket\", \"Cabin\", \"Title\"], axis = 1)\n",
    "test_data = test_data.drop([\"Name\", \"Ticket\", \"Cabin\", \"Title\"], axis = 1)"
   ]
  },
  {
   "cell_type": "code",
   "execution_count": 10,
   "metadata": {
    "execution": {
     "iopub.execute_input": "2021-03-02T13:30:43.049724Z",
     "iopub.status.busy": "2021-03-02T13:30:43.048865Z",
     "iopub.status.idle": "2021-03-02T13:30:43.053454Z",
     "shell.execute_reply": "2021-03-02T13:30:43.052915Z"
    },
    "papermill": {
     "duration": 0.042521,
     "end_time": "2021-03-02T13:30:43.053614",
     "exception": false,
     "start_time": "2021-03-02T13:30:43.011093",
     "status": "completed"
    },
    "tags": []
   },
   "outputs": [
    {
     "data": {
      "text/html": [
       "<div>\n",
       "<style scoped>\n",
       "    .dataframe tbody tr th:only-of-type {\n",
       "        vertical-align: middle;\n",
       "    }\n",
       "\n",
       "    .dataframe tbody tr th {\n",
       "        vertical-align: top;\n",
       "    }\n",
       "\n",
       "    .dataframe thead th {\n",
       "        text-align: right;\n",
       "    }\n",
       "</style>\n",
       "<table border=\"1\" class=\"dataframe\">\n",
       "  <thead>\n",
       "    <tr style=\"text-align: right;\">\n",
       "      <th></th>\n",
       "      <th>Survived</th>\n",
       "      <th>Pclass</th>\n",
       "      <th>Sex</th>\n",
       "      <th>Age</th>\n",
       "      <th>SibSp</th>\n",
       "      <th>Parch</th>\n",
       "      <th>Fare</th>\n",
       "      <th>Embarked_C</th>\n",
       "      <th>Embarked_Q</th>\n",
       "      <th>Embarked_S</th>\n",
       "    </tr>\n",
       "  </thead>\n",
       "  <tbody>\n",
       "    <tr>\n",
       "      <th>0</th>\n",
       "      <td>0</td>\n",
       "      <td>3</td>\n",
       "      <td>1</td>\n",
       "      <td>22.0</td>\n",
       "      <td>1</td>\n",
       "      <td>0</td>\n",
       "      <td>7.2500</td>\n",
       "      <td>0</td>\n",
       "      <td>0</td>\n",
       "      <td>1</td>\n",
       "    </tr>\n",
       "    <tr>\n",
       "      <th>1</th>\n",
       "      <td>1</td>\n",
       "      <td>1</td>\n",
       "      <td>0</td>\n",
       "      <td>38.0</td>\n",
       "      <td>1</td>\n",
       "      <td>0</td>\n",
       "      <td>71.2833</td>\n",
       "      <td>1</td>\n",
       "      <td>0</td>\n",
       "      <td>0</td>\n",
       "    </tr>\n",
       "    <tr>\n",
       "      <th>2</th>\n",
       "      <td>1</td>\n",
       "      <td>3</td>\n",
       "      <td>0</td>\n",
       "      <td>26.0</td>\n",
       "      <td>0</td>\n",
       "      <td>0</td>\n",
       "      <td>7.9250</td>\n",
       "      <td>0</td>\n",
       "      <td>0</td>\n",
       "      <td>1</td>\n",
       "    </tr>\n",
       "    <tr>\n",
       "      <th>3</th>\n",
       "      <td>1</td>\n",
       "      <td>1</td>\n",
       "      <td>0</td>\n",
       "      <td>35.0</td>\n",
       "      <td>1</td>\n",
       "      <td>0</td>\n",
       "      <td>53.1000</td>\n",
       "      <td>0</td>\n",
       "      <td>0</td>\n",
       "      <td>1</td>\n",
       "    </tr>\n",
       "    <tr>\n",
       "      <th>4</th>\n",
       "      <td>0</td>\n",
       "      <td>3</td>\n",
       "      <td>1</td>\n",
       "      <td>35.0</td>\n",
       "      <td>0</td>\n",
       "      <td>0</td>\n",
       "      <td>8.0500</td>\n",
       "      <td>0</td>\n",
       "      <td>0</td>\n",
       "      <td>1</td>\n",
       "    </tr>\n",
       "  </tbody>\n",
       "</table>\n",
       "</div>"
      ],
      "text/plain": [
       "   Survived  Pclass  Sex   Age  SibSp  Parch     Fare  Embarked_C  Embarked_Q  \\\n",
       "0         0       3    1  22.0      1      0   7.2500           0           0   \n",
       "1         1       1    0  38.0      1      0  71.2833           1           0   \n",
       "2         1       3    0  26.0      0      0   7.9250           0           0   \n",
       "3         1       1    0  35.0      1      0  53.1000           0           0   \n",
       "4         0       3    1  35.0      0      0   8.0500           0           0   \n",
       "\n",
       "   Embarked_S  \n",
       "0           1  \n",
       "1           0  \n",
       "2           1  \n",
       "3           1  \n",
       "4           1  "
      ]
     },
     "execution_count": 10,
     "metadata": {},
     "output_type": "execute_result"
    }
   ],
   "source": [
    "le = LabelEncoder()\n",
    "\n",
    "#Turning the categorical Sex values to numerical\n",
    "train_data[\"Sex\"] = le.fit_transform(train_data[\"Sex\"])\n",
    "test_data[\"Sex\"] = le.fit_transform(test_data[\"Sex\"])\n",
    "\n",
    "#Turning the categorical Embarked values to numerical with a method similar to hot-end encoding\n",
    "train_data = pd.get_dummies(train_data, columns = [\"Embarked\"])\n",
    "test_data = pd.get_dummies(test_data, columns = [\"Embarked\"])\n",
    "train_data.head()"
   ]
  },
  {
   "cell_type": "code",
   "execution_count": 11,
   "metadata": {
    "execution": {
     "iopub.execute_input": "2021-03-02T13:30:43.087445Z",
     "iopub.status.busy": "2021-03-02T13:30:43.084886Z",
     "iopub.status.idle": "2021-03-02T13:30:43.092900Z",
     "shell.execute_reply": "2021-03-02T13:30:43.091841Z"
    },
    "papermill": {
     "duration": 0.026775,
     "end_time": "2021-03-02T13:30:43.093081",
     "exception": false,
     "start_time": "2021-03-02T13:30:43.066306",
     "status": "completed"
    },
    "tags": []
   },
   "outputs": [],
   "source": [
    "#Using train test split\n",
    "y = train_data[\"Survived\"]\n",
    "X = train_data.drop(\"Survived\", axis = 1)\n",
    "train_X, val_X, train_y, val_y = train_test_split(X, y, test_size = 0.2, random_state = 1)"
   ]
  },
  {
   "cell_type": "code",
   "execution_count": 12,
   "metadata": {
    "execution": {
     "iopub.execute_input": "2021-03-02T13:30:43.126790Z",
     "iopub.status.busy": "2021-03-02T13:30:43.125712Z",
     "iopub.status.idle": "2021-03-02T13:30:43.245271Z",
     "shell.execute_reply": "2021-03-02T13:30:43.244351Z"
    },
    "papermill": {
     "duration": 0.139848,
     "end_time": "2021-03-02T13:30:43.245469",
     "exception": false,
     "start_time": "2021-03-02T13:30:43.105621",
     "status": "completed"
    },
    "tags": []
   },
   "outputs": [
    {
     "name": "stdout",
     "output_type": "stream",
     "text": [
      "The accuracy of the Gradient Boosting Classifier is 78.77\n"
     ]
    }
   ],
   "source": [
    "#I didn't bother changing the Gradient Boosting Classifier parameters, but I may be able to squeeze out more accuracy by messing around with it later\n",
    "model = GradientBoostingClassifier(random_state=1)\n",
    "model.fit(train_X, train_y)\n",
    "predictions = model.predict(val_X)\n",
    "\n",
    "print('The accuracy of the Gradient Boosting Classifier is',round(accuracy_score(val_y,predictions)*100,2))"
   ]
  },
  {
   "cell_type": "code",
   "execution_count": 13,
   "metadata": {
    "execution": {
     "iopub.execute_input": "2021-03-02T13:30:43.285930Z",
     "iopub.status.busy": "2021-03-02T13:30:43.284908Z",
     "iopub.status.idle": "2021-03-02T13:30:43.424954Z",
     "shell.execute_reply": "2021-03-02T13:30:43.424121Z"
    },
    "papermill": {
     "duration": 0.165232,
     "end_time": "2021-03-02T13:30:43.425128",
     "exception": false,
     "start_time": "2021-03-02T13:30:43.259896",
     "status": "completed"
    },
    "tags": []
   },
   "outputs": [
    {
     "name": "stdout",
     "output_type": "stream",
     "text": [
      "Your submission was successfully saved!\n"
     ]
    }
   ],
   "source": [
    "#Test for submission\n",
    "X_test = test_data.drop(\"PassengerId\", axis = 1)\n",
    "model.fit(X, y)\n",
    "predictions = model.predict(X_test)\n",
    "\n",
    "output = pd.DataFrame({'PassengerId': test_data.PassengerId, 'Survived': predictions})\n",
    "output.to_csv('my_submission.csv', index=False)\n",
    "print(\"Your submission was successfully saved!\")"
   ]
  }
 ],
 "metadata": {
  "kernelspec": {
   "display_name": "Python 3",
   "language": "python",
   "name": "python3"
  },
  "language_info": {
   "codemirror_mode": {
    "name": "ipython",
    "version": 3
   },
   "file_extension": ".py",
   "mimetype": "text/x-python",
   "name": "python",
   "nbconvert_exporter": "python",
   "pygments_lexer": "ipython3",
   "version": "3.7.9"
  },
  "papermill": {
   "default_parameters": {},
   "duration": 9.366639,
   "end_time": "2021-03-02T13:30:44.157504",
   "environment_variables": {},
   "exception": null,
   "input_path": "__notebook__.ipynb",
   "output_path": "__notebook__.ipynb",
   "parameters": {},
   "start_time": "2021-03-02T13:30:34.790865",
   "version": "2.2.2"
  }
 },
 "nbformat": 4,
 "nbformat_minor": 4
}
