{
 "cells": [
  {
   "cell_type": "code",
   "execution_count": 1,
   "id": "upset-coating",
   "metadata": {
    "_cell_guid": "b1076dfc-b9ad-4769-8c92-a6c4dae69d19",
    "_uuid": "8f2839f25d086af736a60e9eeb907d3b93b6e0e5",
    "execution": {
     "iopub.execute_input": "2021-04-30T18:11:22.028238Z",
     "iopub.status.busy": "2021-04-30T18:11:22.027062Z",
     "iopub.status.idle": "2021-04-30T18:11:22.090667Z",
     "shell.execute_reply": "2021-04-30T18:11:22.091224Z"
    },
    "papermill": {
     "duration": 0.086211,
     "end_time": "2021-04-30T18:11:22.091495",
     "exception": false,
     "start_time": "2021-04-30T18:11:22.005284",
     "status": "completed"
    },
    "tags": []
   },
   "outputs": [
    {
     "name": "stdout",
     "output_type": "stream",
     "text": [
      "/kaggle/input/ma-education/Poverty by Age and Gender/Poverty by Age and Gender.csv\n",
      "/kaggle/input/ma-education/Concentrations/Concentrations.csv\n",
      "/kaggle/input/ma-education/Student Race and Ethnicity/Student Race and Ethnicity.csv\n",
      "/kaggle/input/ma-education/Wage by Race and Ethnicity in Common Jobs/Wage by Race and Ethnicity in Common Jobs.csv\n",
      "/kaggle/input/ma-education/Student Gender for Common Institutions/Student Gender for Common Institutions.csv\n",
      "/kaggle/input/ma-education/Wage by Gender in Common Jobs/Wage by Gender in Common Jobs.csv\n"
     ]
    }
   ],
   "source": [
    "#Nathan Li - Massachusetts Inequality - 4/27/2021\n",
    "#Datasets: https://datausa.io/profile/geo/massachusetts\n",
    "\n",
    "# This Python 3 environment comes with many helpful analytics libraries installed\n",
    "# It is defined by the kaggle/python Docker image: https://github.com/kaggle/docker-python\n",
    "# For example, here's several helpful packages to load\n",
    "\n",
    "import numpy as np # linear algebra\n",
    "import pandas as pd # data processing, CSV file I/O (e.g. pd.read_csv)\n",
    "\n",
    "# Input data files are available in the read-only \"../input/\" directory\n",
    "# For example, running this (by clicking run or pressing Shift+Enter) will list all files under the input directory\n",
    "\n",
    "import os\n",
    "for dirname, _, filenames in os.walk('/kaggle/input'):\n",
    "    for filename in filenames:\n",
    "        print(os.path.join(dirname, filename))\n",
    "\n",
    "# You can write up to 20GB to the current directory (/kaggle/working/) that gets preserved as output when you create a version using \"Save & Run All\" \n",
    "# You can also write temporary files to /kaggle/temp/, but they won't be saved outside of the current session"
   ]
  },
  {
   "cell_type": "code",
   "execution_count": 2,
   "id": "geological-symphony",
   "metadata": {
    "execution": {
     "iopub.execute_input": "2021-04-30T18:11:22.132206Z",
     "iopub.status.busy": "2021-04-30T18:11:22.131471Z",
     "iopub.status.idle": "2021-04-30T18:11:23.069896Z",
     "shell.execute_reply": "2021-04-30T18:11:23.069307Z"
    },
    "papermill": {
     "duration": 0.960169,
     "end_time": "2021-04-30T18:11:23.070036",
     "exception": false,
     "start_time": "2021-04-30T18:11:22.109867",
     "status": "completed"
    },
    "tags": []
   },
   "outputs": [],
   "source": [
    "import matplotlib\n",
    "import matplotlib.pyplot as plt\n",
    "import squarify\n",
    "import seaborn as sns"
   ]
  },
  {
   "cell_type": "code",
   "execution_count": 3,
   "id": "accessory-enzyme",
   "metadata": {
    "execution": {
     "iopub.execute_input": "2021-04-30T18:11:23.110312Z",
     "iopub.status.busy": "2021-04-30T18:11:23.109325Z",
     "iopub.status.idle": "2021-04-30T18:11:23.214505Z",
     "shell.execute_reply": "2021-04-30T18:11:23.215098Z"
    },
    "papermill": {
     "duration": 0.127182,
     "end_time": "2021-04-30T18:11:23.215268",
     "exception": false,
     "start_time": "2021-04-30T18:11:23.088086",
     "status": "completed"
    },
    "tags": []
   },
   "outputs": [],
   "source": [
    "concentrations_data = pd.read_csv(\"/kaggle/input/ma-education/Concentrations/Concentrations.csv\")\n",
    "poverty_data = pd.read_csv(\"/kaggle/input/ma-education/Poverty by Age and Gender/Poverty by Age and Gender.csv\")\n",
    "student_race_data = pd.read_csv(\"/kaggle/input/ma-education/Student Race and Ethnicity/Student Race and Ethnicity.csv\")\n",
    "wage_race_data = pd.read_csv(\"/kaggle/input/ma-education/Wage by Race and Ethnicity in Common Jobs/Wage by Race and Ethnicity in Common Jobs.csv\")\n",
    "student_gender_data = pd.read_csv(\"/kaggle/input/ma-education/Student Gender for Common Institutions/Student Gender for Common Institutions.csv\")\n",
    "wage_gender_data = pd.read_csv(\"/kaggle/input/ma-education/Wage by Gender in Common Jobs/Wage by Gender in Common Jobs.csv\")"
   ]
  },
  {
   "cell_type": "code",
   "execution_count": 4,
   "id": "loaded-astrology",
   "metadata": {
    "execution": {
     "iopub.execute_input": "2021-04-30T18:11:23.254718Z",
     "iopub.status.busy": "2021-04-30T18:11:23.253767Z",
     "iopub.status.idle": "2021-04-30T18:11:23.291160Z",
     "shell.execute_reply": "2021-04-30T18:11:23.290644Z"
    },
    "papermill": {
     "duration": 0.05785,
     "end_time": "2021-04-30T18:11:23.291298",
     "exception": false,
     "start_time": "2021-04-30T18:11:23.233448",
     "status": "completed"
    },
    "tags": []
   },
   "outputs": [
    {
     "data": {
      "text/html": [
       "<div>\n",
       "<style scoped>\n",
       "    .dataframe tbody tr th:only-of-type {\n",
       "        vertical-align: middle;\n",
       "    }\n",
       "\n",
       "    .dataframe tbody tr th {\n",
       "        vertical-align: top;\n",
       "    }\n",
       "\n",
       "    .dataframe thead th {\n",
       "        text-align: right;\n",
       "    }\n",
       "</style>\n",
       "<table border=\"1\" class=\"dataframe\">\n",
       "  <thead>\n",
       "    <tr style=\"text-align: right;\">\n",
       "      <th></th>\n",
       "      <th>ID CIP2</th>\n",
       "      <th>CIP2</th>\n",
       "      <th>ID CIP4</th>\n",
       "      <th>CIP4</th>\n",
       "      <th>ID CIP6</th>\n",
       "      <th>CIP6</th>\n",
       "      <th>ID Year</th>\n",
       "      <th>Year</th>\n",
       "      <th>ID Nation</th>\n",
       "      <th>Nation</th>\n",
       "      <th>ID Degree</th>\n",
       "      <th>Degree</th>\n",
       "      <th>Completions</th>\n",
       "      <th>Slug CIP6</th>\n",
       "      <th>Geography</th>\n",
       "      <th>ID Geography</th>\n",
       "      <th>Slug Geography</th>\n",
       "    </tr>\n",
       "  </thead>\n",
       "  <tbody>\n",
       "    <tr>\n",
       "      <th>0</th>\n",
       "      <td>1</td>\n",
       "      <td>Agriculture</td>\n",
       "      <td>100</td>\n",
       "      <td>General Agriculture</td>\n",
       "      <td>10000</td>\n",
       "      <td>General Agriculture</td>\n",
       "      <td>2019</td>\n",
       "      <td>2019</td>\n",
       "      <td>01000US</td>\n",
       "      <td>United States</td>\n",
       "      <td>5</td>\n",
       "      <td>Bachelors Degree</td>\n",
       "      <td>5</td>\n",
       "      <td>general-agriculture-010000</td>\n",
       "      <td>Massachusetts</td>\n",
       "      <td>04000US25</td>\n",
       "      <td>massachusetts</td>\n",
       "    </tr>\n",
       "    <tr>\n",
       "      <th>1</th>\n",
       "      <td>1</td>\n",
       "      <td>Agriculture</td>\n",
       "      <td>103</td>\n",
       "      <td>Agricultural Production Operations</td>\n",
       "      <td>10303</td>\n",
       "      <td>Aquaculture</td>\n",
       "      <td>2019</td>\n",
       "      <td>2019</td>\n",
       "      <td>01000US</td>\n",
       "      <td>United States</td>\n",
       "      <td>5</td>\n",
       "      <td>Bachelors Degree</td>\n",
       "      <td>1</td>\n",
       "      <td>aquaculture</td>\n",
       "      <td>Massachusetts</td>\n",
       "      <td>04000US25</td>\n",
       "      <td>massachusetts</td>\n",
       "    </tr>\n",
       "    <tr>\n",
       "      <th>2</th>\n",
       "      <td>1</td>\n",
       "      <td>Agriculture</td>\n",
       "      <td>103</td>\n",
       "      <td>Agricultural Production Operations</td>\n",
       "      <td>10307</td>\n",
       "      <td>Horse Husbandry &amp; Equine Management</td>\n",
       "      <td>2019</td>\n",
       "      <td>2019</td>\n",
       "      <td>01000US</td>\n",
       "      <td>United States</td>\n",
       "      <td>5</td>\n",
       "      <td>Bachelors Degree</td>\n",
       "      <td>2</td>\n",
       "      <td>horse-husbandry-equine-management</td>\n",
       "      <td>Massachusetts</td>\n",
       "      <td>04000US25</td>\n",
       "      <td>massachusetts</td>\n",
       "    </tr>\n",
       "    <tr>\n",
       "      <th>3</th>\n",
       "      <td>1</td>\n",
       "      <td>Agriculture</td>\n",
       "      <td>103</td>\n",
       "      <td>Agricultural Production Operations</td>\n",
       "      <td>10308</td>\n",
       "      <td>Agroecology &amp; Sustainable Agriculture</td>\n",
       "      <td>2019</td>\n",
       "      <td>2019</td>\n",
       "      <td>01000US</td>\n",
       "      <td>United States</td>\n",
       "      <td>5</td>\n",
       "      <td>Bachelors Degree</td>\n",
       "      <td>27</td>\n",
       "      <td>agroecology-sustainable-agriculture</td>\n",
       "      <td>Massachusetts</td>\n",
       "      <td>04000US25</td>\n",
       "      <td>massachusetts</td>\n",
       "    </tr>\n",
       "    <tr>\n",
       "      <th>4</th>\n",
       "      <td>1</td>\n",
       "      <td>Agriculture</td>\n",
       "      <td>105</td>\n",
       "      <td>Agricultural &amp; Domestic Animal Services</td>\n",
       "      <td>10507</td>\n",
       "      <td>Equestrian Studies</td>\n",
       "      <td>2019</td>\n",
       "      <td>2019</td>\n",
       "      <td>01000US</td>\n",
       "      <td>United States</td>\n",
       "      <td>5</td>\n",
       "      <td>Bachelors Degree</td>\n",
       "      <td>2</td>\n",
       "      <td>equestrian-studies</td>\n",
       "      <td>Massachusetts</td>\n",
       "      <td>04000US25</td>\n",
       "      <td>massachusetts</td>\n",
       "    </tr>\n",
       "  </tbody>\n",
       "</table>\n",
       "</div>"
      ],
      "text/plain": [
       "   ID CIP2         CIP2  ID CIP4                                     CIP4  \\\n",
       "0        1  Agriculture      100                      General Agriculture   \n",
       "1        1  Agriculture      103       Agricultural Production Operations   \n",
       "2        1  Agriculture      103       Agricultural Production Operations   \n",
       "3        1  Agriculture      103       Agricultural Production Operations   \n",
       "4        1  Agriculture      105  Agricultural & Domestic Animal Services   \n",
       "\n",
       "   ID CIP6                                   CIP6  ID Year  Year ID Nation  \\\n",
       "0    10000                    General Agriculture     2019  2019   01000US   \n",
       "1    10303                            Aquaculture     2019  2019   01000US   \n",
       "2    10307    Horse Husbandry & Equine Management     2019  2019   01000US   \n",
       "3    10308  Agroecology & Sustainable Agriculture     2019  2019   01000US   \n",
       "4    10507                     Equestrian Studies     2019  2019   01000US   \n",
       "\n",
       "          Nation  ID Degree            Degree  Completions  \\\n",
       "0  United States          5  Bachelors Degree            5   \n",
       "1  United States          5  Bachelors Degree            1   \n",
       "2  United States          5  Bachelors Degree            2   \n",
       "3  United States          5  Bachelors Degree           27   \n",
       "4  United States          5  Bachelors Degree            2   \n",
       "\n",
       "                             Slug CIP6      Geography ID Geography  \\\n",
       "0           general-agriculture-010000  Massachusetts    04000US25   \n",
       "1                          aquaculture  Massachusetts    04000US25   \n",
       "2    horse-husbandry-equine-management  Massachusetts    04000US25   \n",
       "3  agroecology-sustainable-agriculture  Massachusetts    04000US25   \n",
       "4                   equestrian-studies  Massachusetts    04000US25   \n",
       "\n",
       "  Slug Geography  \n",
       "0  massachusetts  \n",
       "1  massachusetts  \n",
       "2  massachusetts  \n",
       "3  massachusetts  \n",
       "4  massachusetts  "
      ]
     },
     "execution_count": 4,
     "metadata": {},
     "output_type": "execute_result"
    }
   ],
   "source": [
    "concentrations_data.head()"
   ]
  },
  {
   "cell_type": "markdown",
   "id": "minus-scotland",
   "metadata": {
    "papermill": {
     "duration": 0.018123,
     "end_time": "2021-04-30T18:11:23.328023",
     "exception": false,
     "start_time": "2021-04-30T18:11:23.309900",
     "status": "completed"
    },
    "tags": []
   },
   "source": [
    "# Concentrations\n",
    "We will be looking at differences in education and subsequent careers based on gender and race. First, lets take a look at the most common degree paths in MA."
   ]
  },
  {
   "cell_type": "code",
   "execution_count": 5,
   "id": "embedded-lying",
   "metadata": {
    "execution": {
     "iopub.execute_input": "2021-04-30T18:11:23.377513Z",
     "iopub.status.busy": "2021-04-30T18:11:23.376876Z",
     "iopub.status.idle": "2021-04-30T18:11:23.550253Z",
     "shell.execute_reply": "2021-04-30T18:11:23.549654Z"
    },
    "papermill": {
     "duration": 0.204087,
     "end_time": "2021-04-30T18:11:23.550387",
     "exception": false,
     "start_time": "2021-04-30T18:11:23.346300",
     "status": "completed"
    },
    "tags": []
   },
   "outputs": [
    {
     "data": {
      "text/plain": [
       "Text(0.5, 1.0, 'Treemap of MA Concentrations')"
      ]
     },
     "execution_count": 5,
     "metadata": {},
     "output_type": "execute_result"
    },
    {
     "data": {
      "image/png": "[encoded data removed]",
      "text/plain": [
       "<Figure size 1152x324 with 1 Axes>"
      ]
     },
     "metadata": {
      "needs_background": "light"
     },
     "output_type": "display_data"
    }
   ],
   "source": [
    "my_values = concentrations_data.CIP2.value_counts()[:10]\n",
    "cmap = matplotlib.cm.Greens\n",
    "mini = min(my_values)\n",
    "maxi = max(my_values)\n",
    "norm = matplotlib.colors.Normalize(vmin=mini, vmax=maxi)\n",
    "colors = [cmap(norm(value)) for value in my_values]\n",
    "fig = plt.gcf()\n",
    "fig.set_size_inches(16, 4.5)\n",
    "squarify.plot(sizes=my_values, label=my_values.index, alpha=.7, color=colors, bar_kwargs=dict(linewidth=1, edgecolor=\"#222222\")).axis(\"off\")\n",
    "plt.title(\"Treemap of MA Concentrations\", size=18)"
   ]
  },
  {
   "cell_type": "markdown",
   "id": "elegant-college",
   "metadata": {
    "papermill": {
     "duration": 0.020626,
     "end_time": "2021-04-30T18:11:23.591495",
     "exception": false,
     "start_time": "2021-04-30T18:11:23.570869",
     "status": "completed"
    },
    "tags": []
   },
   "source": [
    "# The Students\n",
    "Now that we know what students are studying, lets actually see who those students are."
   ]
  },
  {
   "cell_type": "code",
   "execution_count": 6,
   "id": "instant-gossip",
   "metadata": {
    "execution": {
     "iopub.execute_input": "2021-04-30T18:11:23.646960Z",
     "iopub.status.busy": "2021-04-30T18:11:23.646179Z",
     "iopub.status.idle": "2021-04-30T18:11:23.650073Z",
     "shell.execute_reply": "2021-04-30T18:11:23.649419Z"
    },
    "papermill": {
     "duration": 0.038385,
     "end_time": "2021-04-30T18:11:23.650217",
     "exception": false,
     "start_time": "2021-04-30T18:11:23.611832",
     "status": "completed"
    },
    "tags": []
   },
   "outputs": [
    {
     "data": {
      "text/html": [
       "<div>\n",
       "<style scoped>\n",
       "    .dataframe tbody tr th:only-of-type {\n",
       "        vertical-align: middle;\n",
       "    }\n",
       "\n",
       "    .dataframe tbody tr th {\n",
       "        vertical-align: top;\n",
       "    }\n",
       "\n",
       "    .dataframe thead th {\n",
       "        text-align: right;\n",
       "    }\n",
       "</style>\n",
       "<table border=\"1\" class=\"dataframe\">\n",
       "  <thead>\n",
       "    <tr style=\"text-align: right;\">\n",
       "      <th></th>\n",
       "      <th>ID Gender</th>\n",
       "      <th>Gender</th>\n",
       "      <th>ID Year</th>\n",
       "      <th>Year</th>\n",
       "      <th>ID University</th>\n",
       "      <th>University</th>\n",
       "      <th>Completions</th>\n",
       "      <th>Slug University</th>\n",
       "      <th>Geography</th>\n",
       "      <th>ID Geography</th>\n",
       "      <th>Slug Geography</th>\n",
       "    </tr>\n",
       "  </thead>\n",
       "  <tbody>\n",
       "    <tr>\n",
       "      <th>0</th>\n",
       "      <td>1</td>\n",
       "      <td>Men</td>\n",
       "      <td>2019</td>\n",
       "      <td>2019</td>\n",
       "      <td>164924</td>\n",
       "      <td>Boston College</td>\n",
       "      <td>2181</td>\n",
       "      <td>boston-college</td>\n",
       "      <td>Massachusetts</td>\n",
       "      <td>04000US25</td>\n",
       "      <td>massachusetts</td>\n",
       "    </tr>\n",
       "    <tr>\n",
       "      <th>1</th>\n",
       "      <td>1</td>\n",
       "      <td>Men</td>\n",
       "      <td>2019</td>\n",
       "      <td>2019</td>\n",
       "      <td>164988</td>\n",
       "      <td>Boston University</td>\n",
       "      <td>4760</td>\n",
       "      <td>boston-university</td>\n",
       "      <td>Massachusetts</td>\n",
       "      <td>04000US25</td>\n",
       "      <td>massachusetts</td>\n",
       "    </tr>\n",
       "    <tr>\n",
       "      <th>2</th>\n",
       "      <td>1</td>\n",
       "      <td>Men</td>\n",
       "      <td>2019</td>\n",
       "      <td>2019</td>\n",
       "      <td>166027</td>\n",
       "      <td>Harvard University</td>\n",
       "      <td>4669</td>\n",
       "      <td>harvard-university</td>\n",
       "      <td>Massachusetts</td>\n",
       "      <td>04000US25</td>\n",
       "      <td>massachusetts</td>\n",
       "    </tr>\n",
       "    <tr>\n",
       "      <th>3</th>\n",
       "      <td>1</td>\n",
       "      <td>Men</td>\n",
       "      <td>2019</td>\n",
       "      <td>2019</td>\n",
       "      <td>166629</td>\n",
       "      <td>University of Massachusetts-Amherst</td>\n",
       "      <td>4519</td>\n",
       "      <td>university-of-massachusetts-amherst</td>\n",
       "      <td>Massachusetts</td>\n",
       "      <td>04000US25</td>\n",
       "      <td>massachusetts</td>\n",
       "    </tr>\n",
       "    <tr>\n",
       "      <th>4</th>\n",
       "      <td>1</td>\n",
       "      <td>Men</td>\n",
       "      <td>2019</td>\n",
       "      <td>2019</td>\n",
       "      <td>167358</td>\n",
       "      <td>Northeastern University</td>\n",
       "      <td>3918</td>\n",
       "      <td>northeastern-university</td>\n",
       "      <td>Massachusetts</td>\n",
       "      <td>04000US25</td>\n",
       "      <td>massachusetts</td>\n",
       "    </tr>\n",
       "  </tbody>\n",
       "</table>\n",
       "</div>"
      ],
      "text/plain": [
       "   ID Gender Gender  ID Year  Year  ID University  \\\n",
       "0          1    Men     2019  2019         164924   \n",
       "1          1    Men     2019  2019         164988   \n",
       "2          1    Men     2019  2019         166027   \n",
       "3          1    Men     2019  2019         166629   \n",
       "4          1    Men     2019  2019         167358   \n",
       "\n",
       "                            University  Completions  \\\n",
       "0                       Boston College         2181   \n",
       "1                    Boston University         4760   \n",
       "2                   Harvard University         4669   \n",
       "3  University of Massachusetts-Amherst         4519   \n",
       "4              Northeastern University         3918   \n",
       "\n",
       "                       Slug University      Geography ID Geography  \\\n",
       "0                       boston-college  Massachusetts    04000US25   \n",
       "1                    boston-university  Massachusetts    04000US25   \n",
       "2                   harvard-university  Massachusetts    04000US25   \n",
       "3  university-of-massachusetts-amherst  Massachusetts    04000US25   \n",
       "4              northeastern-university  Massachusetts    04000US25   \n",
       "\n",
       "  Slug Geography  \n",
       "0  massachusetts  \n",
       "1  massachusetts  \n",
       "2  massachusetts  \n",
       "3  massachusetts  \n",
       "4  massachusetts  "
      ]
     },
     "execution_count": 6,
     "metadata": {},
     "output_type": "execute_result"
    }
   ],
   "source": [
    "student_gender_data.head()"
   ]
  },
  {
   "cell_type": "code",
   "execution_count": 7,
   "id": "instrumental-uzbekistan",
   "metadata": {
    "execution": {
     "iopub.execute_input": "2021-04-30T18:11:23.700695Z",
     "iopub.status.busy": "2021-04-30T18:11:23.700006Z",
     "iopub.status.idle": "2021-04-30T18:11:24.003832Z",
     "shell.execute_reply": "2021-04-30T18:11:24.004621Z"
    },
    "papermill": {
     "duration": 0.333622,
     "end_time": "2021-04-30T18:11:24.004847",
     "exception": false,
     "start_time": "2021-04-30T18:11:23.671225",
     "status": "completed"
    },
    "tags": []
   },
   "outputs": [
    {
     "data": {
      "text/plain": [
       "Text(0.5, 1.0, 'Student Gender in MA')"
      ]
     },
     "execution_count": 7,
     "metadata": {},
     "output_type": "execute_result"
    },
    {
     "data": {
      "image/png": "[encoded data removed]",
      "text/plain": [
       "<Figure size 1152x324 with 1 Axes>"
      ]
     },
     "metadata": {
      "needs_background": "light"
     },
     "output_type": "display_data"
    }
   ],
   "source": [
    "data = student_gender_data.loc[student_gender_data['Year'] == 2019][['Gender', 'University', 'Completions']]\n",
    "fixed_data = pd.DataFrame(columns=['University', 'Men Degrees', 'Women Degrees'])\n",
    "fixed_data.University = data.University.unique()\n",
    "fixed_data['Men Degrees'] = data[data['Gender'].isin(['Men'])].Completions\n",
    "fixed_data['Women Degrees'] = data[data['Gender'].isin(['Women'])].Completions.reset_index().drop(['index'], axis=1)\n",
    "fixed_data\n",
    "fixed_data.plot(x='University', y=['Men Degrees', 'Women Degrees'], kind='bar', figsize=(16, 4.5), rot=30)\n",
    "plt.grid(axis='y')\n",
    "plt.title(\"Student Gender in MA\", size=18)"
   ]
  },
  {
   "cell_type": "markdown",
   "id": "vertical-reading",
   "metadata": {
    "papermill": {
     "duration": 0.022934,
     "end_time": "2021-04-30T18:11:24.055182",
     "exception": false,
     "start_time": "2021-04-30T18:11:24.032248",
     "status": "completed"
    },
    "tags": []
   },
   "source": [
    "Based on the graph above, we see that women with degrees typically outnumbered men with degrees in the MA colleges with top 5 number of degrees given during the year of 2019."
   ]
  },
  {
   "cell_type": "markdown",
   "id": "sharp-structure",
   "metadata": {
    "papermill": {
     "duration": 0.03122,
     "end_time": "2021-04-30T18:11:24.109667",
     "exception": false,
     "start_time": "2021-04-30T18:11:24.078447",
     "status": "completed"
    },
    "tags": []
   },
   "source": [
    "\n",
    "Now, lets take a look at student degrees based on race."
   ]
  },
  {
   "cell_type": "code",
   "execution_count": 8,
   "id": "personalized-train",
   "metadata": {
    "execution": {
     "iopub.execute_input": "2021-04-30T18:11:24.188246Z",
     "iopub.status.busy": "2021-04-30T18:11:24.176414Z",
     "iopub.status.idle": "2021-04-30T18:11:24.192475Z",
     "shell.execute_reply": "2021-04-30T18:11:24.191853Z"
    },
    "papermill": {
     "duration": 0.052957,
     "end_time": "2021-04-30T18:11:24.192623",
     "exception": false,
     "start_time": "2021-04-30T18:11:24.139666",
     "status": "completed"
    },
    "tags": []
   },
   "outputs": [
    {
     "data": {
      "text/html": [
       "<div>\n",
       "<style scoped>\n",
       "    .dataframe tbody tr th:only-of-type {\n",
       "        vertical-align: middle;\n",
       "    }\n",
       "\n",
       "    .dataframe tbody tr th {\n",
       "        vertical-align: top;\n",
       "    }\n",
       "\n",
       "    .dataframe thead th {\n",
       "        text-align: right;\n",
       "    }\n",
       "</style>\n",
       "<table border=\"1\" class=\"dataframe\">\n",
       "  <thead>\n",
       "    <tr style=\"text-align: right;\">\n",
       "      <th></th>\n",
       "      <th>ID IPEDS Race</th>\n",
       "      <th>IPEDS Race</th>\n",
       "      <th>ID Year</th>\n",
       "      <th>Year</th>\n",
       "      <th>Completions</th>\n",
       "      <th>Geography</th>\n",
       "      <th>ID Geography</th>\n",
       "      <th>Slug Geography</th>\n",
       "      <th>share</th>\n",
       "    </tr>\n",
       "  </thead>\n",
       "  <tbody>\n",
       "    <tr>\n",
       "      <th>0</th>\n",
       "      <td>asian</td>\n",
       "      <td>Asian</td>\n",
       "      <td>2019</td>\n",
       "      <td>2019</td>\n",
       "      <td>11321</td>\n",
       "      <td>Massachusetts</td>\n",
       "      <td>04000US25</td>\n",
       "      <td>massachusetts</td>\n",
       "      <td>0.093158</td>\n",
       "    </tr>\n",
       "    <tr>\n",
       "      <th>1</th>\n",
       "      <td>black</td>\n",
       "      <td>Black or African American</td>\n",
       "      <td>2019</td>\n",
       "      <td>2019</td>\n",
       "      <td>9421</td>\n",
       "      <td>Massachusetts</td>\n",
       "      <td>04000US25</td>\n",
       "      <td>massachusetts</td>\n",
       "      <td>0.077523</td>\n",
       "    </tr>\n",
       "    <tr>\n",
       "      <th>2</th>\n",
       "      <td>hawaiian</td>\n",
       "      <td>Native Hawaiian or Other Pacific Islanders</td>\n",
       "      <td>2019</td>\n",
       "      <td>2019</td>\n",
       "      <td>101</td>\n",
       "      <td>Massachusetts</td>\n",
       "      <td>04000US25</td>\n",
       "      <td>massachusetts</td>\n",
       "      <td>0.000831</td>\n",
       "    </tr>\n",
       "    <tr>\n",
       "      <th>3</th>\n",
       "      <td>hispanic</td>\n",
       "      <td>Hispanic or Latino</td>\n",
       "      <td>2019</td>\n",
       "      <td>2019</td>\n",
       "      <td>12781</td>\n",
       "      <td>Massachusetts</td>\n",
       "      <td>04000US25</td>\n",
       "      <td>massachusetts</td>\n",
       "      <td>0.105172</td>\n",
       "    </tr>\n",
       "    <tr>\n",
       "      <th>4</th>\n",
       "      <td>multiracial</td>\n",
       "      <td>Two or More Races</td>\n",
       "      <td>2019</td>\n",
       "      <td>2019</td>\n",
       "      <td>3818</td>\n",
       "      <td>Massachusetts</td>\n",
       "      <td>04000US25</td>\n",
       "      <td>massachusetts</td>\n",
       "      <td>0.031417</td>\n",
       "    </tr>\n",
       "  </tbody>\n",
       "</table>\n",
       "</div>"
      ],
      "text/plain": [
       "  ID IPEDS Race                                  IPEDS Race  ID Year  Year  \\\n",
       "0         asian                                       Asian     2019  2019   \n",
       "1         black                   Black or African American     2019  2019   \n",
       "2      hawaiian  Native Hawaiian or Other Pacific Islanders     2019  2019   \n",
       "3      hispanic                          Hispanic or Latino     2019  2019   \n",
       "4   multiracial                           Two or More Races     2019  2019   \n",
       "\n",
       "   Completions      Geography ID Geography Slug Geography     share  \n",
       "0        11321  Massachusetts    04000US25  massachusetts  0.093158  \n",
       "1         9421  Massachusetts    04000US25  massachusetts  0.077523  \n",
       "2          101  Massachusetts    04000US25  massachusetts  0.000831  \n",
       "3        12781  Massachusetts    04000US25  massachusetts  0.105172  \n",
       "4         3818  Massachusetts    04000US25  massachusetts  0.031417  "
      ]
     },
     "execution_count": 8,
     "metadata": {},
     "output_type": "execute_result"
    }
   ],
   "source": [
    "student_race_data.head()"
   ]
  },
  {
   "cell_type": "code",
   "execution_count": 9,
   "id": "cosmetic-amazon",
   "metadata": {
    "execution": {
     "iopub.execute_input": "2021-04-30T18:11:24.243565Z",
     "iopub.status.busy": "2021-04-30T18:11:24.242625Z",
     "iopub.status.idle": "2021-04-30T18:11:24.482431Z",
     "shell.execute_reply": "2021-04-30T18:11:24.483025Z"
    },
    "papermill": {
     "duration": 0.267133,
     "end_time": "2021-04-30T18:11:24.483196",
     "exception": false,
     "start_time": "2021-04-30T18:11:24.216063",
     "status": "completed"
    },
    "tags": []
   },
   "outputs": [
    {
     "data": {
      "text/plain": [
       "Text(0.5, 1.0, 'Student Race in MA')"
      ]
     },
     "execution_count": 9,
     "metadata": {},
     "output_type": "execute_result"
    },
    {
     "data": {
      "image/png": "[encoded data removed]",
      "text/plain": [
       "<Figure size 1152x324 with 1 Axes>"
      ]
     },
     "metadata": {
      "needs_background": "light"
     },
     "output_type": "display_data"
    }
   ],
   "source": [
    "data = student_race_data.loc[student_race_data['Year'] == 2019][['IPEDS Race', 'Completions', 'share']]\n",
    "data.sort_values(by=['Completions'], ascending=False, inplace=True)\n",
    "data.plot(x='IPEDS Race', y=['Completions'], kind='bar', figsize=(16, 4.5), rot=30)\n",
    "plt.grid(axis='y')\n",
    "plt.title(\"Student Race in MA\", size=18)"
   ]
  },
  {
   "cell_type": "markdown",
   "id": "white-delta",
   "metadata": {
    "papermill": {
     "duration": 0.02457,
     "end_time": "2021-04-30T18:11:24.532613",
     "exception": false,
     "start_time": "2021-04-30T18:11:24.508043",
     "status": "completed"
    },
    "tags": []
   },
   "source": [
    "Based on the graph above, we see that white students with degrees vastly outnumbered any other minorities in the year 2019."
   ]
  },
  {
   "cell_type": "markdown",
   "id": "streaming-berlin",
   "metadata": {
    "papermill": {
     "duration": 0.025667,
     "end_time": "2021-04-30T18:11:24.583229",
     "exception": false,
     "start_time": "2021-04-30T18:11:24.557562",
     "status": "completed"
    },
    "tags": []
   },
   "source": [
    "Now that we have some idea of gender and race distribution among MA college students, how do they stack up after college?"
   ]
  },
  {
   "cell_type": "markdown",
   "id": "virgin-domain",
   "metadata": {
    "papermill": {
     "duration": 0.024908,
     "end_time": "2021-04-30T18:11:24.635230",
     "exception": false,
     "start_time": "2021-04-30T18:11:24.610322",
     "status": "completed"
    },
    "tags": []
   },
   "source": [
    "# After College"
   ]
  },
  {
   "cell_type": "markdown",
   "id": "strong-yukon",
   "metadata": {
    "papermill": {
     "duration": 0.024808,
     "end_time": "2021-04-30T18:11:24.684961",
     "exception": false,
     "start_time": "2021-04-30T18:11:24.660153",
     "status": "completed"
    },
    "tags": []
   },
   "source": [
    "First, let's refer back to the gender difference son campuses and see how they compare once in the workplace."
   ]
  },
  {
   "cell_type": "code",
   "execution_count": 10,
   "id": "offensive-leather",
   "metadata": {
    "execution": {
     "iopub.execute_input": "2021-04-30T18:11:24.738453Z",
     "iopub.status.busy": "2021-04-30T18:11:24.737724Z",
     "iopub.status.idle": "2021-04-30T18:11:24.755898Z",
     "shell.execute_reply": "2021-04-30T18:11:24.756459Z"
    },
    "papermill": {
     "duration": 0.04671,
     "end_time": "2021-04-30T18:11:24.756646",
     "exception": false,
     "start_time": "2021-04-30T18:11:24.709936",
     "status": "completed"
    },
    "tags": []
   },
   "outputs": [
    {
     "data": {
      "text/html": [
       "<div>\n",
       "<style scoped>\n",
       "    .dataframe tbody tr th:only-of-type {\n",
       "        vertical-align: middle;\n",
       "    }\n",
       "\n",
       "    .dataframe tbody tr th {\n",
       "        vertical-align: top;\n",
       "    }\n",
       "\n",
       "    .dataframe thead th {\n",
       "        text-align: right;\n",
       "    }\n",
       "</style>\n",
       "<table border=\"1\" class=\"dataframe\">\n",
       "  <thead>\n",
       "    <tr style=\"text-align: right;\">\n",
       "      <th></th>\n",
       "      <th>ID Gender</th>\n",
       "      <th>Gender</th>\n",
       "      <th>ID Year</th>\n",
       "      <th>Year</th>\n",
       "      <th>ID Employment Time Status</th>\n",
       "      <th>Employment Time Status</th>\n",
       "      <th>ID Detailed Occupation</th>\n",
       "      <th>Detailed Occupation</th>\n",
       "      <th>Average Wage</th>\n",
       "      <th>Average Wage Appx MOE</th>\n",
       "      <th>Total Population</th>\n",
       "      <th>Total Population MOE Appx</th>\n",
       "      <th>Record Count</th>\n",
       "      <th>Geography</th>\n",
       "      <th>ID Geography</th>\n",
       "      <th>Slug Geography</th>\n",
       "    </tr>\n",
       "  </thead>\n",
       "  <tbody>\n",
       "    <tr>\n",
       "      <th>0</th>\n",
       "      <td>1</td>\n",
       "      <td>Male</td>\n",
       "      <td>2019</td>\n",
       "      <td>2019</td>\n",
       "      <td>1</td>\n",
       "      <td>Full-time</td>\n",
       "      <td>1191XX</td>\n",
       "      <td>Other managers</td>\n",
       "      <td>143828.007366</td>\n",
       "      <td>11933.716777</td>\n",
       "      <td>60953</td>\n",
       "      <td>5992.879466</td>\n",
       "      <td>642</td>\n",
       "      <td>Massachusetts</td>\n",
       "      <td>04000US25</td>\n",
       "      <td>massachusetts</td>\n",
       "    </tr>\n",
       "    <tr>\n",
       "      <th>1</th>\n",
       "      <td>1</td>\n",
       "      <td>Male</td>\n",
       "      <td>2019</td>\n",
       "      <td>2019</td>\n",
       "      <td>1</td>\n",
       "      <td>Full-time</td>\n",
       "      <td>291141</td>\n",
       "      <td>Registered nurses</td>\n",
       "      <td>92981.367919</td>\n",
       "      <td>14620.180935</td>\n",
       "      <td>5561</td>\n",
       "      <td>1828.965144</td>\n",
       "      <td>51</td>\n",
       "      <td>Massachusetts</td>\n",
       "      <td>04000US25</td>\n",
       "      <td>massachusetts</td>\n",
       "    </tr>\n",
       "    <tr>\n",
       "      <th>2</th>\n",
       "      <td>1</td>\n",
       "      <td>Male</td>\n",
       "      <td>2019</td>\n",
       "      <td>2019</td>\n",
       "      <td>1</td>\n",
       "      <td>Full-time</td>\n",
       "      <td>151252</td>\n",
       "      <td>Software developers</td>\n",
       "      <td>132054.705962</td>\n",
       "      <td>7672.418087</td>\n",
       "      <td>55418</td>\n",
       "      <td>5720.268071</td>\n",
       "      <td>596</td>\n",
       "      <td>Massachusetts</td>\n",
       "      <td>04000US25</td>\n",
       "      <td>massachusetts</td>\n",
       "    </tr>\n",
       "    <tr>\n",
       "      <th>3</th>\n",
       "      <td>1</td>\n",
       "      <td>Male</td>\n",
       "      <td>2019</td>\n",
       "      <td>2019</td>\n",
       "      <td>1</td>\n",
       "      <td>Full-time</td>\n",
       "      <td>252020</td>\n",
       "      <td>Elementary &amp; middle school teachers</td>\n",
       "      <td>64481.288199</td>\n",
       "      <td>8158.291742</td>\n",
       "      <td>10465</td>\n",
       "      <td>2506.713648</td>\n",
       "      <td>108</td>\n",
       "      <td>Massachusetts</td>\n",
       "      <td>04000US25</td>\n",
       "      <td>massachusetts</td>\n",
       "    </tr>\n",
       "    <tr>\n",
       "      <th>4</th>\n",
       "      <td>1</td>\n",
       "      <td>Male</td>\n",
       "      <td>2019</td>\n",
       "      <td>2019</td>\n",
       "      <td>1</td>\n",
       "      <td>Full-time</td>\n",
       "      <td>412010</td>\n",
       "      <td>Cashiers</td>\n",
       "      <td>31588.740857</td>\n",
       "      <td>7968.413903</td>\n",
       "      <td>5086</td>\n",
       "      <td>1749.263650</td>\n",
       "      <td>46</td>\n",
       "      <td>Massachusetts</td>\n",
       "      <td>04000US25</td>\n",
       "      <td>massachusetts</td>\n",
       "    </tr>\n",
       "  </tbody>\n",
       "</table>\n",
       "</div>"
      ],
      "text/plain": [
       "   ID Gender Gender  ID Year  Year  ID Employment Time Status  \\\n",
       "0          1   Male     2019  2019                          1   \n",
       "1          1   Male     2019  2019                          1   \n",
       "2          1   Male     2019  2019                          1   \n",
       "3          1   Male     2019  2019                          1   \n",
       "4          1   Male     2019  2019                          1   \n",
       "\n",
       "  Employment Time Status ID Detailed Occupation  \\\n",
       "0              Full-time                 1191XX   \n",
       "1              Full-time                 291141   \n",
       "2              Full-time                 151252   \n",
       "3              Full-time                 252020   \n",
       "4              Full-time                 412010   \n",
       "\n",
       "                   Detailed Occupation   Average Wage  Average Wage Appx MOE  \\\n",
       "0                       Other managers  143828.007366           11933.716777   \n",
       "1                    Registered nurses   92981.367919           14620.180935   \n",
       "2                  Software developers  132054.705962            7672.418087   \n",
       "3  Elementary & middle school teachers   64481.288199            8158.291742   \n",
       "4                             Cashiers   31588.740857            7968.413903   \n",
       "\n",
       "   Total Population  Total Population MOE Appx  Record Count      Geography  \\\n",
       "0             60953                5992.879466           642  Massachusetts   \n",
       "1              5561                1828.965144            51  Massachusetts   \n",
       "2             55418                5720.268071           596  Massachusetts   \n",
       "3             10465                2506.713648           108  Massachusetts   \n",
       "4              5086                1749.263650            46  Massachusetts   \n",
       "\n",
       "  ID Geography Slug Geography  \n",
       "0    04000US25  massachusetts  \n",
       "1    04000US25  massachusetts  \n",
       "2    04000US25  massachusetts  \n",
       "3    04000US25  massachusetts  \n",
       "4    04000US25  massachusetts  "
      ]
     },
     "execution_count": 10,
     "metadata": {},
     "output_type": "execute_result"
    }
   ],
   "source": [
    "wage_gender_data.head()"
   ]
  },
  {
   "cell_type": "code",
   "execution_count": 11,
   "id": "amazing-advertising",
   "metadata": {
    "execution": {
     "iopub.execute_input": "2021-04-30T18:11:24.811451Z",
     "iopub.status.busy": "2021-04-30T18:11:24.810798Z",
     "iopub.status.idle": "2021-04-30T18:11:25.039410Z",
     "shell.execute_reply": "2021-04-30T18:11:25.039939Z"
    },
    "papermill": {
     "duration": 0.257424,
     "end_time": "2021-04-30T18:11:25.040111",
     "exception": false,
     "start_time": "2021-04-30T18:11:24.782687",
     "status": "completed"
    },
    "tags": []
   },
   "outputs": [
    {
     "data": {
      "text/plain": [
       "Text(0.5, 1.0, 'Worker Gender in MA')"
      ]
     },
     "execution_count": 11,
     "metadata": {},
     "output_type": "execute_result"
    },
    {
     "data": {
      "image/png": "[encoded data removed]",
      "text/plain": [
       "<Figure size 1152x324 with 1 Axes>"
      ]
     },
     "metadata": {
      "needs_background": "light"
     },
     "output_type": "display_data"
    }
   ],
   "source": [
    "data = wage_gender_data.loc[wage_gender_data['Year'] == 2019][['Gender', 'Detailed Occupation', 'Average Wage']]\n",
    "data\n",
    "fixed_data = pd.DataFrame(columns=['Occupation', 'Men Wage', 'Women Wage'])\n",
    "fixed_data.Occupation = data['Detailed Occupation'].unique()\n",
    "fixed_data['Men Wage'] = data[data['Gender'].isin(['Male'])]['Average Wage']\n",
    "fixed_data['Women Wage'] = data[data['Gender'].isin(['Female'])]['Average Wage'].reset_index().drop(['index'], axis=1)\n",
    "fixed_data.sort_values(by=['Men Wage'], ascending=False, inplace=True)\n",
    "fixed_data.plot(x='Occupation', y=['Men Wage', 'Women Wage'], kind='bar', figsize=(16, 4.5), rot=30)\n",
    "plt.grid(axis='y')\n",
    "plt.title(\"Worker Gender in MA\", size=18)"
   ]
  },
  {
   "cell_type": "markdown",
   "id": "streaming-wisdom",
   "metadata": {
    "papermill": {
     "duration": 0.02685,
     "end_time": "2021-04-30T18:11:25.094667",
     "exception": false,
     "start_time": "2021-04-30T18:11:25.067817",
     "status": "completed"
    },
    "tags": []
   },
   "source": [
    "Despite women in Massachusetts earning more degrees than men, women seem to earn a concerningly smaller wage than men for the same kinds of work."
   ]
  },
  {
   "cell_type": "code",
   "execution_count": 12,
   "id": "unexpected-referral",
   "metadata": {
    "execution": {
     "iopub.execute_input": "2021-04-30T18:11:25.152852Z",
     "iopub.status.busy": "2021-04-30T18:11:25.152214Z",
     "iopub.status.idle": "2021-04-30T18:11:25.169320Z",
     "shell.execute_reply": "2021-04-30T18:11:25.169838Z"
    },
    "papermill": {
     "duration": 0.047725,
     "end_time": "2021-04-30T18:11:25.170009",
     "exception": false,
     "start_time": "2021-04-30T18:11:25.122284",
     "status": "completed"
    },
    "tags": []
   },
   "outputs": [
    {
     "data": {
      "text/html": [
       "<div>\n",
       "<style scoped>\n",
       "    .dataframe tbody tr th:only-of-type {\n",
       "        vertical-align: middle;\n",
       "    }\n",
       "\n",
       "    .dataframe tbody tr th {\n",
       "        vertical-align: top;\n",
       "    }\n",
       "\n",
       "    .dataframe thead th {\n",
       "        text-align: right;\n",
       "    }\n",
       "</style>\n",
       "<table border=\"1\" class=\"dataframe\">\n",
       "  <thead>\n",
       "    <tr style=\"text-align: right;\">\n",
       "      <th></th>\n",
       "      <th>ID Age</th>\n",
       "      <th>Age</th>\n",
       "      <th>ID Gender</th>\n",
       "      <th>Gender</th>\n",
       "      <th>ID Year</th>\n",
       "      <th>Year</th>\n",
       "      <th>ID Poverty Status</th>\n",
       "      <th>Poverty Status</th>\n",
       "      <th>Poverty Population</th>\n",
       "      <th>Poverty Population Moe</th>\n",
       "      <th>Geography</th>\n",
       "      <th>ID Geography</th>\n",
       "      <th>Slug Geography</th>\n",
       "      <th>share</th>\n",
       "    </tr>\n",
       "  </thead>\n",
       "  <tbody>\n",
       "    <tr>\n",
       "      <th>0</th>\n",
       "      <td>0</td>\n",
       "      <td>Under 5 Years</td>\n",
       "      <td>0</td>\n",
       "      <td>Male</td>\n",
       "      <td>2018</td>\n",
       "      <td>2018</td>\n",
       "      <td>0</td>\n",
       "      <td>Income In The Past 12 Months Below Poverty Level</td>\n",
       "      <td>27512</td>\n",
       "      <td>1418.0</td>\n",
       "      <td>Massachusetts</td>\n",
       "      <td>04000US25</td>\n",
       "      <td>massachusetts</td>\n",
       "      <td>0.038733</td>\n",
       "    </tr>\n",
       "    <tr>\n",
       "      <th>1</th>\n",
       "      <td>0</td>\n",
       "      <td>Under 5 Years</td>\n",
       "      <td>1</td>\n",
       "      <td>Female</td>\n",
       "      <td>2018</td>\n",
       "      <td>2018</td>\n",
       "      <td>0</td>\n",
       "      <td>Income In The Past 12 Months Below Poverty Level</td>\n",
       "      <td>27063</td>\n",
       "      <td>1188.0</td>\n",
       "      <td>Massachusetts</td>\n",
       "      <td>04000US25</td>\n",
       "      <td>massachusetts</td>\n",
       "      <td>0.038101</td>\n",
       "    </tr>\n",
       "    <tr>\n",
       "      <th>2</th>\n",
       "      <td>1</td>\n",
       "      <td>5 Years</td>\n",
       "      <td>0</td>\n",
       "      <td>Male</td>\n",
       "      <td>2018</td>\n",
       "      <td>2018</td>\n",
       "      <td>0</td>\n",
       "      <td>Income In The Past 12 Months Below Poverty Level</td>\n",
       "      <td>4855</td>\n",
       "      <td>551.0</td>\n",
       "      <td>Massachusetts</td>\n",
       "      <td>04000US25</td>\n",
       "      <td>massachusetts</td>\n",
       "      <td>0.006835</td>\n",
       "    </tr>\n",
       "    <tr>\n",
       "      <th>3</th>\n",
       "      <td>1</td>\n",
       "      <td>5 Years</td>\n",
       "      <td>1</td>\n",
       "      <td>Female</td>\n",
       "      <td>2018</td>\n",
       "      <td>2018</td>\n",
       "      <td>0</td>\n",
       "      <td>Income In The Past 12 Months Below Poverty Level</td>\n",
       "      <td>5543</td>\n",
       "      <td>554.0</td>\n",
       "      <td>Massachusetts</td>\n",
       "      <td>04000US25</td>\n",
       "      <td>massachusetts</td>\n",
       "      <td>0.007804</td>\n",
       "    </tr>\n",
       "    <tr>\n",
       "      <th>4</th>\n",
       "      <td>2</td>\n",
       "      <td>6 to 11 Years</td>\n",
       "      <td>0</td>\n",
       "      <td>Male</td>\n",
       "      <td>2018</td>\n",
       "      <td>2018</td>\n",
       "      <td>0</td>\n",
       "      <td>Income In The Past 12 Months Below Poverty Level</td>\n",
       "      <td>32373</td>\n",
       "      <td>1635.0</td>\n",
       "      <td>Massachusetts</td>\n",
       "      <td>04000US25</td>\n",
       "      <td>massachusetts</td>\n",
       "      <td>0.045576</td>\n",
       "    </tr>\n",
       "  </tbody>\n",
       "</table>\n",
       "</div>"
      ],
      "text/plain": [
       "   ID Age            Age  ID Gender  Gender  ID Year  Year  ID Poverty Status  \\\n",
       "0       0  Under 5 Years          0    Male     2018  2018                  0   \n",
       "1       0  Under 5 Years          1  Female     2018  2018                  0   \n",
       "2       1        5 Years          0    Male     2018  2018                  0   \n",
       "3       1        5 Years          1  Female     2018  2018                  0   \n",
       "4       2  6 to 11 Years          0    Male     2018  2018                  0   \n",
       "\n",
       "                                     Poverty Status  Poverty Population  \\\n",
       "0  Income In The Past 12 Months Below Poverty Level               27512   \n",
       "1  Income In The Past 12 Months Below Poverty Level               27063   \n",
       "2  Income In The Past 12 Months Below Poverty Level                4855   \n",
       "3  Income In The Past 12 Months Below Poverty Level                5543   \n",
       "4  Income In The Past 12 Months Below Poverty Level               32373   \n",
       "\n",
       "   Poverty Population Moe      Geography ID Geography Slug Geography     share  \n",
       "0                  1418.0  Massachusetts    04000US25  massachusetts  0.038733  \n",
       "1                  1188.0  Massachusetts    04000US25  massachusetts  0.038101  \n",
       "2                   551.0  Massachusetts    04000US25  massachusetts  0.006835  \n",
       "3                   554.0  Massachusetts    04000US25  massachusetts  0.007804  \n",
       "4                  1635.0  Massachusetts    04000US25  massachusetts  0.045576  "
      ]
     },
     "execution_count": 12,
     "metadata": {},
     "output_type": "execute_result"
    }
   ],
   "source": [
    "poverty_data.head()"
   ]
  },
  {
   "cell_type": "code",
   "execution_count": 13,
   "id": "presidential-aaron",
   "metadata": {
    "execution": {
     "iopub.execute_input": "2021-04-30T18:11:25.229826Z",
     "iopub.status.busy": "2021-04-30T18:11:25.229152Z",
     "iopub.status.idle": "2021-04-30T18:11:25.522302Z",
     "shell.execute_reply": "2021-04-30T18:11:25.522809Z"
    },
    "papermill": {
     "duration": 0.324649,
     "end_time": "2021-04-30T18:11:25.522997",
     "exception": false,
     "start_time": "2021-04-30T18:11:25.198348",
     "status": "completed"
    },
    "tags": []
   },
   "outputs": [
    {
     "data": {
      "text/plain": [
       "Text(0.5, 1.0, 'Poverty Gender in MA')"
      ]
     },
     "execution_count": 13,
     "metadata": {},
     "output_type": "execute_result"
    },
    {
     "data": {
      "image/png": "[encoded data removed]",
      "text/plain": [
       "<Figure size 1152x324 with 1 Axes>"
      ]
     },
     "metadata": {
      "needs_background": "light"
     },
     "output_type": "display_data"
    }
   ],
   "source": [
    "data = poverty_data.loc[poverty_data['Year'] == 2018][['Gender', 'Age', 'Poverty Population']]\n",
    "data\n",
    "fixed_data = pd.DataFrame(columns=['Age', 'Men Poverty', 'Women Poverty'])\n",
    "fixed_data.Age = data['Age'].unique()\n",
    "fixed_data['Men Poverty'] = data[data['Gender'].isin(['Male'])]['Poverty Population'].reset_index().drop(['index'], axis=1)\n",
    "fixed_data['Women Poverty'] = data[data['Gender'].isin(['Female'])]['Poverty Population'].reset_index().drop(['index'], axis=1)\n",
    "fixed_data.plot(x='Age', y=['Men Poverty', 'Women Poverty'], kind='bar', figsize=(16, 4.5), rot=30)\n",
    "plt.grid(axis='y')\n",
    "plt.title(\"Poverty Gender in MA\", size=18)"
   ]
  },
  {
   "cell_type": "markdown",
   "id": "catholic-nature",
   "metadata": {
    "papermill": {
     "duration": 0.029983,
     "end_time": "2021-04-30T18:11:25.583283",
     "exception": false,
     "start_time": "2021-04-30T18:11:25.553300",
     "status": "completed"
    },
    "tags": []
   },
   "source": [
    "Unfortuantely, we see a similar trend when analyzing poverty by gender and age. Women aged 18 and older in MA are consistently more impoverished than men, despite women earning more degrees than men in MA."
   ]
  },
  {
   "cell_type": "markdown",
   "id": "residential-relative",
   "metadata": {
    "papermill": {
     "duration": 0.029768,
     "end_time": "2021-04-30T18:11:25.643135",
     "exception": false,
     "start_time": "2021-04-30T18:11:25.613367",
     "status": "completed"
    },
    "tags": []
   },
   "source": [
    "Before we wrap up, let's take a look at race and wages in the workplace."
   ]
  },
  {
   "cell_type": "code",
   "execution_count": 14,
   "id": "outside-pierce",
   "metadata": {
    "execution": {
     "iopub.execute_input": "2021-04-30T18:11:25.725113Z",
     "iopub.status.busy": "2021-04-30T18:11:25.724437Z",
     "iopub.status.idle": "2021-04-30T18:11:25.729000Z",
     "shell.execute_reply": "2021-04-30T18:11:25.728378Z"
    },
    "papermill": {
     "duration": 0.053865,
     "end_time": "2021-04-30T18:11:25.729141",
     "exception": false,
     "start_time": "2021-04-30T18:11:25.675276",
     "status": "completed"
    },
    "tags": []
   },
   "outputs": [
    {
     "data": {
      "text/html": [
       "<div>\n",
       "<style scoped>\n",
       "    .dataframe tbody tr th:only-of-type {\n",
       "        vertical-align: middle;\n",
       "    }\n",
       "\n",
       "    .dataframe tbody tr th {\n",
       "        vertical-align: top;\n",
       "    }\n",
       "\n",
       "    .dataframe thead th {\n",
       "        text-align: right;\n",
       "    }\n",
       "</style>\n",
       "<table border=\"1\" class=\"dataframe\">\n",
       "  <thead>\n",
       "    <tr style=\"text-align: right;\">\n",
       "      <th></th>\n",
       "      <th>ID Race</th>\n",
       "      <th>Race</th>\n",
       "      <th>ID Year</th>\n",
       "      <th>Year</th>\n",
       "      <th>ID Workforce Status</th>\n",
       "      <th>Workforce Status</th>\n",
       "      <th>ID Detailed Occupation</th>\n",
       "      <th>Detailed Occupation</th>\n",
       "      <th>Average Wage</th>\n",
       "      <th>Average Wage Appx MOE</th>\n",
       "      <th>Total Population</th>\n",
       "      <th>Total Population MOE Appx</th>\n",
       "      <th>Record Count</th>\n",
       "      <th>Geography</th>\n",
       "      <th>ID Geography</th>\n",
       "      <th>Slug Geography</th>\n",
       "    </tr>\n",
       "  </thead>\n",
       "  <tbody>\n",
       "    <tr>\n",
       "      <th>0</th>\n",
       "      <td>1</td>\n",
       "      <td>White</td>\n",
       "      <td>2019</td>\n",
       "      <td>2019</td>\n",
       "      <td>True</td>\n",
       "      <td>True</td>\n",
       "      <td>1191XX</td>\n",
       "      <td>Other managers</td>\n",
       "      <td>124080.844674</td>\n",
       "      <td>8658.079607</td>\n",
       "      <td>98612</td>\n",
       "      <td>7600.910409</td>\n",
       "      <td>1061</td>\n",
       "      <td>Massachusetts</td>\n",
       "      <td>04000US25</td>\n",
       "      <td>massachusetts</td>\n",
       "    </tr>\n",
       "    <tr>\n",
       "      <th>1</th>\n",
       "      <td>1</td>\n",
       "      <td>White</td>\n",
       "      <td>2019</td>\n",
       "      <td>2019</td>\n",
       "      <td>True</td>\n",
       "      <td>True</td>\n",
       "      <td>291141</td>\n",
       "      <td>Registered nurses</td>\n",
       "      <td>77937.920387</td>\n",
       "      <td>3748.308496</td>\n",
       "      <td>67552</td>\n",
       "      <td>6319.511156</td>\n",
       "      <td>722</td>\n",
       "      <td>Massachusetts</td>\n",
       "      <td>04000US25</td>\n",
       "      <td>massachusetts</td>\n",
       "    </tr>\n",
       "    <tr>\n",
       "      <th>2</th>\n",
       "      <td>1</td>\n",
       "      <td>White</td>\n",
       "      <td>2019</td>\n",
       "      <td>2019</td>\n",
       "      <td>True</td>\n",
       "      <td>True</td>\n",
       "      <td>151252</td>\n",
       "      <td>Software developers</td>\n",
       "      <td>129179.499581</td>\n",
       "      <td>8761.762703</td>\n",
       "      <td>45318</td>\n",
       "      <td>5192.716106</td>\n",
       "      <td>515</td>\n",
       "      <td>Massachusetts</td>\n",
       "      <td>04000US25</td>\n",
       "      <td>massachusetts</td>\n",
       "    </tr>\n",
       "    <tr>\n",
       "      <th>3</th>\n",
       "      <td>1</td>\n",
       "      <td>White</td>\n",
       "      <td>2019</td>\n",
       "      <td>2019</td>\n",
       "      <td>True</td>\n",
       "      <td>True</td>\n",
       "      <td>252020</td>\n",
       "      <td>Elementary &amp; middle school teachers</td>\n",
       "      <td>60912.748164</td>\n",
       "      <td>3040.486035</td>\n",
       "      <td>56791</td>\n",
       "      <td>5803.371052</td>\n",
       "      <td>635</td>\n",
       "      <td>Massachusetts</td>\n",
       "      <td>04000US25</td>\n",
       "      <td>massachusetts</td>\n",
       "    </tr>\n",
       "    <tr>\n",
       "      <th>4</th>\n",
       "      <td>1</td>\n",
       "      <td>White</td>\n",
       "      <td>2019</td>\n",
       "      <td>2019</td>\n",
       "      <td>True</td>\n",
       "      <td>True</td>\n",
       "      <td>412010</td>\n",
       "      <td>Cashiers</td>\n",
       "      <td>14376.064544</td>\n",
       "      <td>1692.251667</td>\n",
       "      <td>47518</td>\n",
       "      <td>5315.580164</td>\n",
       "      <td>449</td>\n",
       "      <td>Massachusetts</td>\n",
       "      <td>04000US25</td>\n",
       "      <td>massachusetts</td>\n",
       "    </tr>\n",
       "  </tbody>\n",
       "</table>\n",
       "</div>"
      ],
      "text/plain": [
       "   ID Race   Race  ID Year  Year  ID Workforce Status  Workforce Status  \\\n",
       "0        1  White     2019  2019                 True              True   \n",
       "1        1  White     2019  2019                 True              True   \n",
       "2        1  White     2019  2019                 True              True   \n",
       "3        1  White     2019  2019                 True              True   \n",
       "4        1  White     2019  2019                 True              True   \n",
       "\n",
       "  ID Detailed Occupation                  Detailed Occupation   Average Wage  \\\n",
       "0                 1191XX                       Other managers  124080.844674   \n",
       "1                 291141                    Registered nurses   77937.920387   \n",
       "2                 151252                  Software developers  129179.499581   \n",
       "3                 252020  Elementary & middle school teachers   60912.748164   \n",
       "4                 412010                             Cashiers   14376.064544   \n",
       "\n",
       "   Average Wage Appx MOE  Total Population  Total Population MOE Appx  \\\n",
       "0            8658.079607             98612                7600.910409   \n",
       "1            3748.308496             67552                6319.511156   \n",
       "2            8761.762703             45318                5192.716106   \n",
       "3            3040.486035             56791                5803.371052   \n",
       "4            1692.251667             47518                5315.580164   \n",
       "\n",
       "   Record Count      Geography ID Geography Slug Geography  \n",
       "0          1061  Massachusetts    04000US25  massachusetts  \n",
       "1           722  Massachusetts    04000US25  massachusetts  \n",
       "2           515  Massachusetts    04000US25  massachusetts  \n",
       "3           635  Massachusetts    04000US25  massachusetts  \n",
       "4           449  Massachusetts    04000US25  massachusetts  "
      ]
     },
     "execution_count": 14,
     "metadata": {},
     "output_type": "execute_result"
    }
   ],
   "source": [
    "wage_race_data.head()"
   ]
  },
  {
   "cell_type": "code",
   "execution_count": 15,
   "id": "ecological-drawing",
   "metadata": {
    "execution": {
     "iopub.execute_input": "2021-04-30T18:11:25.979961Z",
     "iopub.status.busy": "2021-04-30T18:11:25.929026Z",
     "iopub.status.idle": "2021-04-30T18:11:26.232310Z",
     "shell.execute_reply": "2021-04-30T18:11:26.231731Z"
    },
    "papermill": {
     "duration": 0.472602,
     "end_time": "2021-04-30T18:11:26.232450",
     "exception": false,
     "start_time": "2021-04-30T18:11:25.759848",
     "status": "completed"
    },
    "tags": []
   },
   "outputs": [
    {
     "data": {
      "text/plain": [
       "Text(0.5, 1.0, 'Worker Race in MA')"
      ]
     },
     "execution_count": 15,
     "metadata": {},
     "output_type": "execute_result"
    },
    {
     "data": {
      "image/png": "[encoded data removed]",
      "text/plain": [
       "<Figure size 1152x324 with 1 Axes>"
      ]
     },
     "metadata": {
      "needs_background": "light"
     },
     "output_type": "display_data"
    }
   ],
   "source": [
    "data = wage_race_data.loc[wage_race_data['Year'] == 2019][['Detailed Occupation', 'Race', 'Average Wage']]\n",
    "data\n",
    "fixed_data = pd.DataFrame(columns=['Occupation', 'Asian Wage', 'White Wage', 'Black Wage', 'Two or More Races Wage', 'Other Wage'])\n",
    "fixed_data.Occupation = data['Detailed Occupation'].unique()\n",
    "fixed_data['Asian Wage'] = data[data['Race'].isin(['Asian'])]['Average Wage'].reset_index().drop(['index'], axis=1)\n",
    "fixed_data['White Wage'] = data[data['Race'].isin(['White'])]['Average Wage'].reset_index().drop(['index'], axis=1)\n",
    "fixed_data['Black Wage'] = data[data['Race'].isin(['Black'])]['Average Wage'].reset_index().drop(['index'], axis=1)\n",
    "fixed_data['Two or More Races Wage'] = data[data['Race'].isin(['Two or More Races'])]['Average Wage'].reset_index().drop(['index'], axis=1)\n",
    "fixed_data['Other Wage'] = data[data['Race'].isin(['Other'])]['Average Wage'].reset_index().drop(['index'], axis=1)\n",
    "fixed_data.plot(x='Occupation', y=['Asian Wage', 'White Wage', 'Black Wage', 'Two or More Races Wage', 'Other Wage'], kind='bar', figsize=(16, 4.5), rot=30)\n",
    "plt.grid(axis='y')\n",
    "plt.title(\"Worker Race in MA\", size=18)"
   ]
  },
  {
   "cell_type": "markdown",
   "id": "saving-occupation",
   "metadata": {
    "papermill": {
     "duration": 0.032381,
     "end_time": "2021-04-30T18:11:26.297557",
     "exception": false,
     "start_time": "2021-04-30T18:11:26.265176",
     "status": "completed"
    },
    "tags": []
   },
   "source": [
    "Here, we see that some industries have larger ranges of wages than others. In the general management category, Asians and Whites seem to dominate wages, but wages are much more balanced in the similar-paying software developer workforce."
   ]
  },
  {
   "cell_type": "markdown",
   "id": "labeled-framework",
   "metadata": {
    "papermill": {
     "duration": 0.031984,
     "end_time": "2021-04-30T18:11:26.361862",
     "exception": false,
     "start_time": "2021-04-30T18:11:26.329878",
     "status": "completed"
    },
    "tags": []
   },
   "source": [
    "# Conclusion\n",
    "\n",
    "Before we draw final conclusions, it is important to remember that the data we have seen today is only a snapshot of larger trends in terms of both time and location. We mostly saw just data from 2019, and Massachusetts certainly does not represent accurate trends across the entire nation. With that said, the six data sets we have seen today still provide important highlights for the gaps in education and wage during the transition from school to the workforce. Somewhere along the line to work, women are getting the short end of the stick in terms of wages, and minorities are also seeing lower wages in certain industries. The hope is for this relatively short analysis to stimulate further conversation and progress towards a more just future."
   ]
  }
 ],
 "metadata": {
  "kernelspec": {
   "display_name": "Python 3",
   "language": "python",
   "name": "python3"
  },
  "language_info": {
   "codemirror_mode": {
    "name": "ipython",
    "version": 3
   },
   "file_extension": ".py",
   "mimetype": "text/x-python",
   "name": "python",
   "nbconvert_exporter": "python",
   "pygments_lexer": "ipython3",
   "version": "3.7.10"
  },
  "papermill": {
   "default_parameters": {},
   "duration": 13.476591,
   "end_time": "2021-04-30T18:11:27.104173",
   "environment_variables": {},
   "exception": null,
   "input_path": "__notebook__.ipynb",
   "output_path": "__notebook__.ipynb",
   "parameters": {},
   "start_time": "2021-04-30T18:11:13.627582",
   "version": "2.3.3"
  }
 },
 "nbformat": 4,
 "nbformat_minor": 5
}
